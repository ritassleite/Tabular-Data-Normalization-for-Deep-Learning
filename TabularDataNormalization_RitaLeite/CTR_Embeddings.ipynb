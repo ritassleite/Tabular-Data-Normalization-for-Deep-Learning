{
  "cells": [
    {
      "cell_type": "code",
      "execution_count": null,
      "metadata": {
        "colab": {
          "base_uri": "https://localhost:8080/"
        },
        "id": "24Qjto8r7t5Z",
        "outputId": "0acc1297-ed60-4f42-dd58-01e66407ff2a"
      },
      "outputs": [
        {
          "name": "stderr",
          "output_type": "stream",
          "text": [
            "/usr/local/lib/python3.8/dist-packages/pytorch_tabular/models/mixture_density/mdn.py:25: UserWarning: Wandb not installed. WandbLogger will not work.\n",
            "  warnings.warn(\"Wandb not installed. WandbLogger will not work.\")\n"
          ]
        }
      ],
      "source": [
        "import gc\n",
        "import pandas as pd\n",
        "import numpy as np\n",
        "import sklearn as skl\n",
        "import seaborn as sns\n",
        "import lightgbm as lgb\n",
        "import torch\n",
        "import scipy\n",
        "import opendatasets as od\n",
        "import math\n",
        "import torchmetrics\n",
        "import utils.lgbm as lgbm\n",
        "import importlib\n",
        "import joblib\n",
        "import category_encoders\n",
        "import utils.mlp as mlp\n",
        "import utils.embedding_pipeline as embedding_pipeline\n",
        "import utils.early_stopping as early_stopping\n",
        "import utils.mlp_pipeline as mlp_pipeline\n",
        "import pytorch_tabular"
      ]
    },
    {
      "cell_type": "code",
      "execution_count": null,
      "metadata": {
        "id": "yF0jDCkTPUSU"
      },
      "outputs": [],
      "source": [
        "import pickle\n",
        "import io\n",
        "\n",
        "class CPU_Unpickler(pickle.Unpickler):\n",
        "    def find_class(self, module, name):\n",
        "        if module == 'torch.storage' and name == '_load_from_bytes':\n",
        "            return lambda b: torch.load(io.BytesIO(b), map_location='cpu')\n",
        "        else:\n",
        "            return super().find_class(module, name)\n"
      ]
    },
    {
      "cell_type": "code",
      "execution_count": null,
      "metadata": {
        "colab": {
          "base_uri": "https://localhost:8080/"
        },
        "id": "1MjXEJlP7vhC",
        "outputId": "dc619a44-12bb-4784-fccc-e981e963e717"
      },
      "outputs": [],
      "source": [
        "device = \"cuda\" if torch.cuda.is_available() else \"cpu\"\n",
        "print(f\"Using {device} device\")\n"
      ]
    },
    {
      "cell_type": "code",
      "execution_count": null,
      "metadata": {
        "colab": {
          "base_uri": "https://localhost:8080/"
        },
        "id": "06oWTk7Q78Li",
        "outputId": "d718b672-899a-40bf-d1af-9e46510ef3e7"
      },
      "outputs": [],
      "source": [
        "#Kaggle api key: 9c2fc93aaaf8815d9fa8f2ceeeb57b6b\n",
        "od.download(\"https://www.kaggle.com/c/avazu-ctr-prediction/\")\n",
        "\n",
        "ctr_data=pd.read_csv(\"./avazu-ctr-prediction/train.gz\",nrows=1000000) #Using only the first 1million rows\n"
      ]
    },
    {
      "cell_type": "code",
      "execution_count": null,
      "metadata": {
        "id": "FmBLZshAbOEt"
      },
      "outputs": [],
      "source": [
        "def find_optimal_recall(fpr,tpr,threshold,rate):\n",
        "    optimal_index=np.argmin(abs(fpr-rate*np.ones(len(fpr))))\n",
        "    print(threshold[optimal_index])\n",
        "    return tpr[optimal_index]"
      ]
    },
    {
      "cell_type": "code",
      "execution_count": null,
      "metadata": {
        "colab": {
          "base_uri": "https://localhost:8080/"
        },
        "id": "RcAd6f9j8KLl",
        "outputId": "e1587f2f-f357-4d3c-d301-c90f7c4403f0"
      },
      "outputs": [
        {
          "data": {
            "text/plain": [
              "26"
            ]
          },
          "execution_count": 6,
          "metadata": {},
          "output_type": "execute_result"
        }
      ],
      "source": [
        "X=ctr_data.loc[:,'C1':'C21']\n",
        "Y=ctr_data.click\n",
        "\n",
        "del ctr_data\n",
        "\n",
        "    \n",
        "training_range=range(0,math.floor(len(Y)*0.6))\n",
        "validation_range=range(math.floor(len(Y)*0.6),math.floor(len(Y)*0.8))\n",
        "testing_range=range(math.floor(len(Y)*0.8),math.floor(len(Y)*1))\n",
        "\n",
        "#Establish continuous and categorical features\n",
        "cat_cols=X.columns\n",
        "cont_cols=X.columns.difference(cat_cols)\n",
        "\n",
        "\n",
        "xtrain=X.loc[training_range]\n",
        "ytrain=Y.loc[training_range]\n",
        "xtest=X.loc[testing_range]\n",
        "ytest=Y.loc[testing_range]\n",
        "xval=X.loc[validation_range]\n",
        "yval=Y.loc[validation_range]\n",
        "\n",
        "x_train,x_test,x_val=embedding_pipeline.aggregate_low_card_BAF(xtrain,xtest,xval,cat_cols)\n",
        "\n",
        "del X\n",
        "del Y\n",
        "gc.collect()\n"
      ]
    },
    {
      "cell_type": "markdown",
      "metadata": {
        "id": "JYiLlNpq5hi8"
      },
      "source": [
        "# Parameter Tuning"
      ]
    },
    {
      "cell_type": "code",
      "execution_count": null,
      "metadata": {
        "colab": {
          "base_uri": "https://localhost:8080/"
        },
        "id": "ENo3TwbF9M1z",
        "outputId": "5990e865-66e6-4cf4-af4b-7dba72eb2b1b"
      },
      "outputs": [],
      "source": [
        "import lgbm\n",
        "aux=importlib.reload(lgbm)\n",
        "param_list=lgbm.lgbm_param_sampler(20,7,'cpu')\n",
        "print(len(param_list))\n",
        "print(param_list[0])\n",
        "i=0\n",
        "for params in param_list:\n",
        "    model = lgbm.LGBMClassifier(n_jobs=10, **params)  # Instantiate LGBM Model.\n",
        "        \n",
        "    # Fit model to training data.\n",
        "    model.fit(xtrain, ytrain, categorical_feature=categorical_features,eval_set=[(xval,yval)],early_stopping_rounds=5,eval_metric='loss')\n",
        "    # Obtain predictions in test data.\n",
        "    predictions = model.predict_proba(xtest)[:, 1]\n",
        "\n",
        "    joblib.dump(model,'lgbm_3{}.pkl'.format(i))"
      ]
    },
    {
      "cell_type": "code",
      "execution_count": null,
      "metadata": {
        "colab": {
          "base_uri": "https://localhost:8080/",
          "height": 393
        },
        "id": "AdefNXWN8zfu",
        "outputId": "8b5b0fa7-0ce0-4c4b-d00e-798c6fa33cbb"
      },
      "outputs": [],
      "source": [
        "#Usar apenas para models mlp com label encoding\n",
        "x1=xtrain\n",
        "x2=xtest\n",
        "for col in xtrain.select_dtypes(object).columns:\n",
        "    \n",
        "    le=skl.preprocessing.LabelEncoder()\n",
        "    xtrain[col]=le.fit_transform(xtrain[col])\n",
        "    xtest[col] = xtest[col].map(lambda s: '<unknown>' if s not in le.classes_ else s)\n",
        "    le.classes_ = np.append(le.classes_, '<unknown>')\n",
        "    xtest[col]=le.transform(xtest[col])\n",
        "for col in xtrain.select_dtypes(float).columns:\n",
        "    xtrain[col]=xtrain[col].fillna(np.average(xtrain[col]))\n",
        "    xtest[col]=xtest[col].fillna(np.average(xtest[col]))\n",
        "\n",
        "xtrain=xtrain.fillna(-1)\n",
        "xtest=xtest.fillna(-1)"
      ]
    },
    {
      "cell_type": "markdown",
      "metadata": {
        "id": "lBPAlLBo5nRa"
      },
      "source": [
        "# Categorical Encodings"
      ]
    },
    {
      "cell_type": "code",
      "execution_count": null,
      "metadata": {
        "colab": {
          "base_uri": "https://localhost:8080/"
        },
        "id": "hgXJY7QY5rTi",
        "outputId": "6b874cbe-40a8-455e-d5c0-667179f627eb"
      },
      "outputs": [],
      "source": [
        "cat_cols=xtrain.columns\n",
        "cont_cols=xtrain.columns.difference(cat_cols)\n",
        "\n",
        "target_encoder=category_encoders.target_encoder.TargetEncoder(cols=cat_cols,handle_unknown='value',handle_missing='value')\n",
        "xtrain_encoded=target_encoder.fit_transform(xtrain,ytrain)\n",
        "xtest_encoded=target_encoder.transform(xtest)"
      ]
    },
    {
      "cell_type": "markdown",
      "metadata": {
        "id": "sm1k9mb6a--X"
      },
      "source": [
        "# Categorical Embeddings"
      ]
    },
    {
      "cell_type": "code",
      "execution_count": null,
      "metadata": {
        "colab": {
          "base_uri": "https://localhost:8080/"
        },
        "id": "OU3DOLKAmLfX",
        "outputId": "95cce28c-094e-4542-f0d7-def88cdc8e0e"
      },
      "outputs": [],
      "source": [
        "from sklearn.model_selection import ParameterSampler\n",
        "from scipy.stats import uniform\n",
        "\n",
        "embedding_pipeline=importlib.reload(embedding_pipeline)\n",
        "param_list=mlp.mlp_param_sampler(20, len(xtrain.columns),7,device)\n",
        "\n",
        "#This dataset has no continuous features\n",
        "normalization='None'\n",
        "xtrain_aux_cont=torch.tensor([])\n",
        "xval_aux_cont=torch.tensor([])\n",
        "\n",
        "xtrain_aux_cat=mlp_pipeline.normalization_transform(x_train,'None',[])\n",
        "xval_aux_cat=mlp_pipeline.normalization_transform(x_val,'None',[])\n",
        "method='variational'\n",
        "\n",
        "\n",
        "i=0\n",
        "alphas=list(ParameterSampler({'alpha': uniform(loc=1.5, scale=3-1.5 )}, n_iter=20, random_state=np.random.RandomState(7)))\n",
        "\n",
        "for params in param_list[i:]:\n",
        "        dims=embedding_pipeline.get_emb_dim_var(x_train,cat_cols,alphas[i]['alpha'])\n",
        "        dims=torch.tensor(dims,dtype=int).to(device)\n",
        "        print(dims)\n",
        "        # Fit pipeline\n",
        "        print('iteration: ',i)\n",
        "        \n",
        "        model=embedding_pipeline.pipeline_no_cat(device,xtrain_aux_cat,xtrain_aux_cont,xval_aux_cat,xval_aux_cont,ytrain,yval,params,method,dims)\n",
        "\n",
        "        #Save the model\n",
        "        joblib.dump(model,'/content/gdrive/MyDrive/Colab Notebooks/data/mlp_3_emb/mlp_simple{}{}.pkl'.format(method,i))\n",
        "\n",
        "        i=i+1\n",
        "\n",
        "gc.collect()"
      ]
    },
    {
      "cell_type": "code",
      "execution_count": null,
      "metadata": {
        "colab": {
          "base_uri": "https://localhost:8080/",
          "height": 1000,
          "referenced_widgets": [
            "1a3fdb94945944f6a9856e287713f16e",
            "f255c1e922ad456a8089eaab0d600d75",
            "02a1f19408de4d13b16a1a75da54fd7c",
            "cbe7a09a6761486f80e938a8b4b9cbd9",
            "f0c4bda9c4404c92961dff9de019b4bf",
            "bf774528038842d99f13430cd84e4d9c",
            "a4acd6a299b5434d969a551a63c6da08",
            "83d03426f5af4b5095e979cd0beca611",
            "a5526ddbd7c945b3aae885ad0802fa5c",
            "a5d5d732fa874edabd321ec56fd4dcaa",
            "3b5a7d1f801444a4b0f1eee908044832",
            "e6a2844d6bcc481fae084664a675db48",
            "ef7ba87a46684d13bb2f24d0eb3ee540",
            "b2953edc724440c28424ac3e754d1b9d",
            "15140d38e3f942c88bdf82f519039e3c",
            "574fd488528f4184b1fd19873d0c62f4",
            "8cba49e53d6e435d90bd64b898b45ed2",
            "fe7bc17e510d4708abc87fe5c116e192"
          ]
        },
        "id": "MNM91hUsWiYx",
        "outputId": "99459113-345a-4d6f-e965-ceded1ad5cca"
      },
      "outputs": [],
      "source": [
        "import tabtransformer\n",
        "tabtransformer=importlib.reload(tabtransformer)\n",
        "\n",
        "cat_cols=['C1', 'banner_pos', 'site_id', 'site_domain', 'site_category', 'app_id',\n",
        "       'app_domain', 'app_category', 'device_id', 'device_ip', 'device_model',\n",
        "       'device_type', 'device_conn_type', 'C14', 'C15', 'C16', 'C17', 'C18',\n",
        "       'C19', 'C20', 'C21']\n",
        "\n",
        "params=tabtransformer.tabtransformer_param_sampler(20,7,device)\n",
        "\n",
        "for i in range(0,20):\n",
        "  param=params[i]\n",
        "  model=tabtransformer.transformer_pipeline(param,cat_cols,[],['click'],xtrain,xval,ytrain,yval,'gpu')\n",
        "  joblib.dump(model,'/content/gdrive/MyDrive/aux/CTR_tabtransformer/tabtransformerCTR_{}'.format(i))\n",
        "  predict_val=model.predict(xval)['1_probability']\n",
        "  predict_test=model.predict(xtest)['1_probability']\n",
        "  joblib.dump(predict_val,'/content/gdrive/MyDrive/aux/CTR_tabtransformer/yval_{}'.format(i))\n",
        "\n",
        "  joblib.dump(predict_test,'/content/gdrive/MyDrive/aux/CTR_tabtransformer/yhat_{}'.format(i))\n",
        "\n"
      ]
    }
  ],
  "metadata": {
    "accelerator": "GPU",
    "colab": {
      "collapsed_sections": [
        "JYiLlNpq5hi8"
      ],
      "provenance": []
    },
    "gpuClass": "standard",
    "kernelspec": {
      "display_name": "Python 3 (ipykernel)",
      "language": "python",
      "name": "python3"
    },
    "language_info": {
      "codemirror_mode": {
        "name": "ipython",
        "version": 3
      },
      "file_extension": ".py",
      "mimetype": "text/x-python",
      "name": "python",
      "nbconvert_exporter": "python",
      "pygments_lexer": "ipython3",
      "version": "3.9.12"
    },
    "widgets": {
      "application/vnd.jupyter.widget-state+json": {
        "02a1f19408de4d13b16a1a75da54fd7c": {
          "model_module": "@jupyter-widgets/output",
          "model_module_version": "1.0.0",
          "model_name": "OutputModel",
          "state": {
            "_dom_classes": [],
            "_model_module": "@jupyter-widgets/output",
            "_model_module_version": "1.0.0",
            "_model_name": "OutputModel",
            "_view_count": null,
            "_view_module": "@jupyter-widgets/output",
            "_view_module_version": "1.0.0",
            "_view_name": "OutputView",
            "layout": "IPY_MODEL_cbe7a09a6761486f80e938a8b4b9cbd9",
            "msg_id": "",
            "outputs": [
              {
                "data": {
                  "text/html": "<pre style=\"white-space:pre;overflow-x:auto;line-height:normal;font-family:Menlo,'DejaVu Sans Mono',consolas,'Courier New',monospace\">Generating Predictions... <span style=\"color: #729c1f; text-decoration-color: #729c1f\">━━━━━━━━━━━━━━━━━━━━━━━━━━━━━━━━━━━━━━━━</span> <span style=\"color: #800080; text-decoration-color: #800080\">100%</span> <span style=\"color: #008080; text-decoration-color: #008080\">0:00:00</span>\n</pre>\n",
                  "text/plain": "Generating Predictions... \u001b[38;2;114;156;31m━━━━━━━━━━━━━━━━━━━━━━━━━━━━━━━━━━━━━━━━\u001b[0m \u001b[35m100%\u001b[0m \u001b[36m0:00:00\u001b[0m\n"
                },
                "metadata": {},
                "output_type": "display_data"
              }
            ]
          }
        },
        "15140d38e3f942c88bdf82f519039e3c": {
          "model_module": "@jupyter-widgets/output",
          "model_module_version": "1.0.0",
          "model_name": "OutputModel",
          "state": {
            "_dom_classes": [],
            "_model_module": "@jupyter-widgets/output",
            "_model_module_version": "1.0.0",
            "_model_name": "OutputModel",
            "_view_count": null,
            "_view_module": "@jupyter-widgets/output",
            "_view_module_version": "1.0.0",
            "_view_name": "OutputView",
            "layout": "IPY_MODEL_574fd488528f4184b1fd19873d0c62f4",
            "msg_id": "",
            "outputs": [
              {
                "data": {
                  "text/html": "<pre style=\"white-space:pre;overflow-x:auto;line-height:normal;font-family:Menlo,'DejaVu Sans Mono',consolas,'Courier New',monospace\">Generating Predictions... <span style=\"color: #729c1f; text-decoration-color: #729c1f\">━━━━━━━━━━━━━━━━━━━━━━━━━━━━━━━━━━━━━━━━</span> <span style=\"color: #800080; text-decoration-color: #800080\">100%</span> <span style=\"color: #008080; text-decoration-color: #008080\">0:00:00</span>\n</pre>\n",
                  "text/plain": "Generating Predictions... \u001b[38;2;114;156;31m━━━━━━━━━━━━━━━━━━━━━━━━━━━━━━━━━━━━━━━━\u001b[0m \u001b[35m100%\u001b[0m \u001b[36m0:00:00\u001b[0m\n"
                },
                "metadata": {},
                "output_type": "display_data"
              }
            ]
          }
        },
        "1a3fdb94945944f6a9856e287713f16e": {
          "model_module": "@jupyter-widgets/output",
          "model_module_version": "1.0.0",
          "model_name": "OutputModel",
          "state": {
            "_dom_classes": [],
            "_model_module": "@jupyter-widgets/output",
            "_model_module_version": "1.0.0",
            "_model_name": "OutputModel",
            "_view_count": null,
            "_view_module": "@jupyter-widgets/output",
            "_view_module_version": "1.0.0",
            "_view_name": "OutputView",
            "layout": "IPY_MODEL_f255c1e922ad456a8089eaab0d600d75",
            "msg_id": "",
            "outputs": [
              {
                "data": {
                  "text/html": "<pre style=\"white-space:pre;overflow-x:auto;line-height:normal;font-family:Menlo,'DejaVu Sans Mono',consolas,'Courier New',monospace\">Epoch 6/29 <span style=\"color: #6206e0; text-decoration-color: #6206e0\">━━━━━━━━━━━━━━━━━━━━━━━━━━━━━━━━</span> <span style=\"color: #c0c0c0; text-decoration-color: #c0c0c0\">3126/3126</span> <span style=\"color: #8a8a8a; text-decoration-color: #8a8a8a\">0:02:56 • 0:00:00</span> <span style=\"color: #b2b2b2; text-decoration-color: #b2b2b2\">21.17it/s</span> <span style=\"color: #c0c0c0; text-decoration-color: #c0c0c0\">loss: 0.703 train_loss: 0.707    </span>\n                                                                                  <span style=\"color: #c0c0c0; text-decoration-color: #c0c0c0\">valid_loss: 0.638 valid_accuracy:</span>\n                                                                                  <span style=\"color: #c0c0c0; text-decoration-color: #c0c0c0\">0.844 train_accuracy: 0.5        </span>\n</pre>\n",
                  "text/plain": "Epoch 6/29 \u001b[38;2;98;6;224m━━━━━━━━━━━━━━━━━━━━━━━━━━━━━━━━\u001b[0m \u001b[37m3126/3126\u001b[0m \u001b[38;5;245m0:02:56 • 0:00:00\u001b[0m \u001b[38;5;249m21.17it/s\u001b[0m \u001b[37mloss: 0.703 train_loss: 0.707    \u001b[0m\n                                                                                  \u001b[37mvalid_loss: 0.638 valid_accuracy:\u001b[0m\n                                                                                  \u001b[37m0.844 train_accuracy: 0.5        \u001b[0m\n"
                },
                "metadata": {},
                "output_type": "display_data"
              }
            ]
          }
        },
        "3b5a7d1f801444a4b0f1eee908044832": {
          "model_module": "@jupyter-widgets/output",
          "model_module_version": "1.0.0",
          "model_name": "OutputModel",
          "state": {
            "_dom_classes": [],
            "_model_module": "@jupyter-widgets/output",
            "_model_module_version": "1.0.0",
            "_model_name": "OutputModel",
            "_view_count": null,
            "_view_module": "@jupyter-widgets/output",
            "_view_module_version": "1.0.0",
            "_view_name": "OutputView",
            "layout": "IPY_MODEL_e6a2844d6bcc481fae084664a675db48",
            "msg_id": "",
            "outputs": [
              {
                "data": {
                  "text/html": "<pre style=\"white-space:pre;overflow-x:auto;line-height:normal;font-family:Menlo,'DejaVu Sans Mono',consolas,'Courier New',monospace\">Generating Predictions... <span style=\"color: #729c1f; text-decoration-color: #729c1f\">━━━━━━━━━━━━━━━━━━━━━━━━━━━━━━━━━━━━━━━━</span> <span style=\"color: #800080; text-decoration-color: #800080\">100%</span> <span style=\"color: #008080; text-decoration-color: #008080\">0:00:00</span>\n</pre>\n",
                  "text/plain": "Generating Predictions... \u001b[38;2;114;156;31m━━━━━━━━━━━━━━━━━━━━━━━━━━━━━━━━━━━━━━━━\u001b[0m \u001b[35m100%\u001b[0m \u001b[36m0:00:00\u001b[0m\n"
                },
                "metadata": {},
                "output_type": "display_data"
              }
            ]
          }
        },
        "574fd488528f4184b1fd19873d0c62f4": {
          "model_module": "@jupyter-widgets/base",
          "model_module_version": "1.2.0",
          "model_name": "LayoutModel",
          "state": {
            "_model_module": "@jupyter-widgets/base",
            "_model_module_version": "1.2.0",
            "_model_name": "LayoutModel",
            "_view_count": null,
            "_view_module": "@jupyter-widgets/base",
            "_view_module_version": "1.2.0",
            "_view_name": "LayoutView",
            "align_content": null,
            "align_items": null,
            "align_self": null,
            "border": null,
            "bottom": null,
            "display": null,
            "flex": null,
            "flex_flow": null,
            "grid_area": null,
            "grid_auto_columns": null,
            "grid_auto_flow": null,
            "grid_auto_rows": null,
            "grid_column": null,
            "grid_gap": null,
            "grid_row": null,
            "grid_template_areas": null,
            "grid_template_columns": null,
            "grid_template_rows": null,
            "height": null,
            "justify_content": null,
            "justify_items": null,
            "left": null,
            "margin": null,
            "max_height": null,
            "max_width": null,
            "min_height": null,
            "min_width": null,
            "object_fit": null,
            "object_position": null,
            "order": null,
            "overflow": null,
            "overflow_x": null,
            "overflow_y": null,
            "padding": null,
            "right": null,
            "top": null,
            "visibility": null,
            "width": null
          }
        },
        "83d03426f5af4b5095e979cd0beca611": {
          "model_module": "@jupyter-widgets/base",
          "model_module_version": "1.2.0",
          "model_name": "LayoutModel",
          "state": {
            "_model_module": "@jupyter-widgets/base",
            "_model_module_version": "1.2.0",
            "_model_name": "LayoutModel",
            "_view_count": null,
            "_view_module": "@jupyter-widgets/base",
            "_view_module_version": "1.2.0",
            "_view_name": "LayoutView",
            "align_content": null,
            "align_items": null,
            "align_self": null,
            "border": null,
            "bottom": null,
            "display": null,
            "flex": null,
            "flex_flow": null,
            "grid_area": null,
            "grid_auto_columns": null,
            "grid_auto_flow": null,
            "grid_auto_rows": null,
            "grid_column": null,
            "grid_gap": null,
            "grid_row": null,
            "grid_template_areas": null,
            "grid_template_columns": null,
            "grid_template_rows": null,
            "height": null,
            "justify_content": null,
            "justify_items": null,
            "left": null,
            "margin": null,
            "max_height": null,
            "max_width": null,
            "min_height": null,
            "min_width": null,
            "object_fit": null,
            "object_position": null,
            "order": null,
            "overflow": null,
            "overflow_x": null,
            "overflow_y": null,
            "padding": null,
            "right": null,
            "top": null,
            "visibility": null,
            "width": null
          }
        },
        "8cba49e53d6e435d90bd64b898b45ed2": {
          "model_module": "@jupyter-widgets/output",
          "model_module_version": "1.0.0",
          "model_name": "OutputModel",
          "state": {
            "_dom_classes": [],
            "_model_module": "@jupyter-widgets/output",
            "_model_module_version": "1.0.0",
            "_model_name": "OutputModel",
            "_view_count": null,
            "_view_module": "@jupyter-widgets/output",
            "_view_module_version": "1.0.0",
            "_view_name": "OutputView",
            "layout": "IPY_MODEL_fe7bc17e510d4708abc87fe5c116e192",
            "msg_id": "",
            "outputs": [
              {
                "data": {
                  "text/html": "<pre style=\"white-space:pre;overflow-x:auto;line-height:normal;font-family:Menlo,'DejaVu Sans Mono',consolas,'Courier New',monospace\">Generating Predictions... <span style=\"color: #729c1f; text-decoration-color: #729c1f\">━━━━━━━━━━━━━━━━━━━━━━━━━━━━━━━━━━━━━━━━</span> <span style=\"color: #800080; text-decoration-color: #800080\">100%</span> <span style=\"color: #008080; text-decoration-color: #008080\">0:00:00</span>\n</pre>\n",
                  "text/plain": "Generating Predictions... \u001b[38;2;114;156;31m━━━━━━━━━━━━━━━━━━━━━━━━━━━━━━━━━━━━━━━━\u001b[0m \u001b[35m100%\u001b[0m \u001b[36m0:00:00\u001b[0m\n"
                },
                "metadata": {},
                "output_type": "display_data"
              }
            ]
          }
        },
        "a4acd6a299b5434d969a551a63c6da08": {
          "model_module": "@jupyter-widgets/output",
          "model_module_version": "1.0.0",
          "model_name": "OutputModel",
          "state": {
            "_dom_classes": [],
            "_model_module": "@jupyter-widgets/output",
            "_model_module_version": "1.0.0",
            "_model_name": "OutputModel",
            "_view_count": null,
            "_view_module": "@jupyter-widgets/output",
            "_view_module_version": "1.0.0",
            "_view_name": "OutputView",
            "layout": "IPY_MODEL_83d03426f5af4b5095e979cd0beca611",
            "msg_id": "",
            "outputs": [
              {
                "data": {
                  "text/html": "<pre style=\"white-space:pre;overflow-x:auto;line-height:normal;font-family:Menlo,'DejaVu Sans Mono',consolas,'Courier New',monospace\">Epoch 5/29 <span style=\"color: #6206e0; text-decoration-color: #6206e0\">━━━━━━━━━━━━━━━━━━━━━━━━━━━━━━━━━</span> <span style=\"color: #c0c0c0; text-decoration-color: #c0c0c0\">391/391</span> <span style=\"color: #8a8a8a; text-decoration-color: #8a8a8a\">0:00:37 • 0:00:00</span> <span style=\"color: #b2b2b2; text-decoration-color: #b2b2b2\">10.90it/s</span> <span style=\"color: #c0c0c0; text-decoration-color: #c0c0c0\">loss: 0.286 train_loss: 0.283     </span>\n                                                                                 <span style=\"color: #c0c0c0; text-decoration-color: #c0c0c0\">valid_loss: 0.785 valid_accuracy: </span>\n                                                                                 <span style=\"color: #c0c0c0; text-decoration-color: #c0c0c0\">0.752 train_accuracy: 0.855       </span>\n</pre>\n",
                  "text/plain": "Epoch 5/29 \u001b[38;2;98;6;224m━━━━━━━━━━━━━━━━━━━━━━━━━━━━━━━━━\u001b[0m \u001b[37m391/391\u001b[0m \u001b[38;5;245m0:00:37 • 0:00:00\u001b[0m \u001b[38;5;249m10.90it/s\u001b[0m \u001b[37mloss: 0.286 train_loss: 0.283     \u001b[0m\n                                                                                 \u001b[37mvalid_loss: 0.785 valid_accuracy: \u001b[0m\n                                                                                 \u001b[37m0.752 train_accuracy: 0.855       \u001b[0m\n"
                },
                "metadata": {},
                "output_type": "display_data"
              }
            ]
          }
        },
        "a5526ddbd7c945b3aae885ad0802fa5c": {
          "model_module": "@jupyter-widgets/output",
          "model_module_version": "1.0.0",
          "model_name": "OutputModel",
          "state": {
            "_dom_classes": [],
            "_model_module": "@jupyter-widgets/output",
            "_model_module_version": "1.0.0",
            "_model_name": "OutputModel",
            "_view_count": null,
            "_view_module": "@jupyter-widgets/output",
            "_view_module_version": "1.0.0",
            "_view_name": "OutputView",
            "layout": "IPY_MODEL_a5d5d732fa874edabd321ec56fd4dcaa",
            "msg_id": "",
            "outputs": [
              {
                "data": {
                  "text/html": "<pre style=\"white-space:pre;overflow-x:auto;line-height:normal;font-family:Menlo,'DejaVu Sans Mono',consolas,'Courier New',monospace\">Generating Predictions... <span style=\"color: #729c1f; text-decoration-color: #729c1f\">━━━━━━━━━━━━━━━━━━━━━━━━━━━━━━━━━━━━━━━━</span> <span style=\"color: #800080; text-decoration-color: #800080\">100%</span> <span style=\"color: #008080; text-decoration-color: #008080\">0:00:00</span>\n</pre>\n",
                  "text/plain": "Generating Predictions... \u001b[38;2;114;156;31m━━━━━━━━━━━━━━━━━━━━━━━━━━━━━━━━━━━━━━━━\u001b[0m \u001b[35m100%\u001b[0m \u001b[36m0:00:00\u001b[0m\n"
                },
                "metadata": {},
                "output_type": "display_data"
              }
            ]
          }
        },
        "a5d5d732fa874edabd321ec56fd4dcaa": {
          "model_module": "@jupyter-widgets/base",
          "model_module_version": "1.2.0",
          "model_name": "LayoutModel",
          "state": {
            "_model_module": "@jupyter-widgets/base",
            "_model_module_version": "1.2.0",
            "_model_name": "LayoutModel",
            "_view_count": null,
            "_view_module": "@jupyter-widgets/base",
            "_view_module_version": "1.2.0",
            "_view_name": "LayoutView",
            "align_content": null,
            "align_items": null,
            "align_self": null,
            "border": null,
            "bottom": null,
            "display": null,
            "flex": null,
            "flex_flow": null,
            "grid_area": null,
            "grid_auto_columns": null,
            "grid_auto_flow": null,
            "grid_auto_rows": null,
            "grid_column": null,
            "grid_gap": null,
            "grid_row": null,
            "grid_template_areas": null,
            "grid_template_columns": null,
            "grid_template_rows": null,
            "height": null,
            "justify_content": null,
            "justify_items": null,
            "left": null,
            "margin": null,
            "max_height": null,
            "max_width": null,
            "min_height": null,
            "min_width": null,
            "object_fit": null,
            "object_position": null,
            "order": null,
            "overflow": null,
            "overflow_x": null,
            "overflow_y": null,
            "padding": null,
            "right": null,
            "top": null,
            "visibility": null,
            "width": null
          }
        },
        "b2953edc724440c28424ac3e754d1b9d": {
          "model_module": "@jupyter-widgets/base",
          "model_module_version": "1.2.0",
          "model_name": "LayoutModel",
          "state": {
            "_model_module": "@jupyter-widgets/base",
            "_model_module_version": "1.2.0",
            "_model_name": "LayoutModel",
            "_view_count": null,
            "_view_module": "@jupyter-widgets/base",
            "_view_module_version": "1.2.0",
            "_view_name": "LayoutView",
            "align_content": null,
            "align_items": null,
            "align_self": null,
            "border": null,
            "bottom": null,
            "display": null,
            "flex": null,
            "flex_flow": null,
            "grid_area": null,
            "grid_auto_columns": null,
            "grid_auto_flow": null,
            "grid_auto_rows": null,
            "grid_column": null,
            "grid_gap": null,
            "grid_row": null,
            "grid_template_areas": null,
            "grid_template_columns": null,
            "grid_template_rows": null,
            "height": null,
            "justify_content": null,
            "justify_items": null,
            "left": null,
            "margin": null,
            "max_height": null,
            "max_width": null,
            "min_height": null,
            "min_width": null,
            "object_fit": null,
            "object_position": null,
            "order": null,
            "overflow": null,
            "overflow_x": null,
            "overflow_y": null,
            "padding": null,
            "right": null,
            "top": null,
            "visibility": null,
            "width": null
          }
        },
        "bf774528038842d99f13430cd84e4d9c": {
          "model_module": "@jupyter-widgets/base",
          "model_module_version": "1.2.0",
          "model_name": "LayoutModel",
          "state": {
            "_model_module": "@jupyter-widgets/base",
            "_model_module_version": "1.2.0",
            "_model_name": "LayoutModel",
            "_view_count": null,
            "_view_module": "@jupyter-widgets/base",
            "_view_module_version": "1.2.0",
            "_view_name": "LayoutView",
            "align_content": null,
            "align_items": null,
            "align_self": null,
            "border": null,
            "bottom": null,
            "display": null,
            "flex": null,
            "flex_flow": null,
            "grid_area": null,
            "grid_auto_columns": null,
            "grid_auto_flow": null,
            "grid_auto_rows": null,
            "grid_column": null,
            "grid_gap": null,
            "grid_row": null,
            "grid_template_areas": null,
            "grid_template_columns": null,
            "grid_template_rows": null,
            "height": null,
            "justify_content": null,
            "justify_items": null,
            "left": null,
            "margin": null,
            "max_height": null,
            "max_width": null,
            "min_height": null,
            "min_width": null,
            "object_fit": null,
            "object_position": null,
            "order": null,
            "overflow": null,
            "overflow_x": null,
            "overflow_y": null,
            "padding": null,
            "right": null,
            "top": null,
            "visibility": null,
            "width": null
          }
        },
        "cbe7a09a6761486f80e938a8b4b9cbd9": {
          "model_module": "@jupyter-widgets/base",
          "model_module_version": "1.2.0",
          "model_name": "LayoutModel",
          "state": {
            "_model_module": "@jupyter-widgets/base",
            "_model_module_version": "1.2.0",
            "_model_name": "LayoutModel",
            "_view_count": null,
            "_view_module": "@jupyter-widgets/base",
            "_view_module_version": "1.2.0",
            "_view_name": "LayoutView",
            "align_content": null,
            "align_items": null,
            "align_self": null,
            "border": null,
            "bottom": null,
            "display": null,
            "flex": null,
            "flex_flow": null,
            "grid_area": null,
            "grid_auto_columns": null,
            "grid_auto_flow": null,
            "grid_auto_rows": null,
            "grid_column": null,
            "grid_gap": null,
            "grid_row": null,
            "grid_template_areas": null,
            "grid_template_columns": null,
            "grid_template_rows": null,
            "height": null,
            "justify_content": null,
            "justify_items": null,
            "left": null,
            "margin": null,
            "max_height": null,
            "max_width": null,
            "min_height": null,
            "min_width": null,
            "object_fit": null,
            "object_position": null,
            "order": null,
            "overflow": null,
            "overflow_x": null,
            "overflow_y": null,
            "padding": null,
            "right": null,
            "top": null,
            "visibility": null,
            "width": null
          }
        },
        "e6a2844d6bcc481fae084664a675db48": {
          "model_module": "@jupyter-widgets/base",
          "model_module_version": "1.2.0",
          "model_name": "LayoutModel",
          "state": {
            "_model_module": "@jupyter-widgets/base",
            "_model_module_version": "1.2.0",
            "_model_name": "LayoutModel",
            "_view_count": null,
            "_view_module": "@jupyter-widgets/base",
            "_view_module_version": "1.2.0",
            "_view_name": "LayoutView",
            "align_content": null,
            "align_items": null,
            "align_self": null,
            "border": null,
            "bottom": null,
            "display": null,
            "flex": null,
            "flex_flow": null,
            "grid_area": null,
            "grid_auto_columns": null,
            "grid_auto_flow": null,
            "grid_auto_rows": null,
            "grid_column": null,
            "grid_gap": null,
            "grid_row": null,
            "grid_template_areas": null,
            "grid_template_columns": null,
            "grid_template_rows": null,
            "height": null,
            "justify_content": null,
            "justify_items": null,
            "left": null,
            "margin": null,
            "max_height": null,
            "max_width": null,
            "min_height": null,
            "min_width": null,
            "object_fit": null,
            "object_position": null,
            "order": null,
            "overflow": null,
            "overflow_x": null,
            "overflow_y": null,
            "padding": null,
            "right": null,
            "top": null,
            "visibility": null,
            "width": null
          }
        },
        "ef7ba87a46684d13bb2f24d0eb3ee540": {
          "model_module": "@jupyter-widgets/output",
          "model_module_version": "1.0.0",
          "model_name": "OutputModel",
          "state": {
            "_dom_classes": [],
            "_model_module": "@jupyter-widgets/output",
            "_model_module_version": "1.0.0",
            "_model_name": "OutputModel",
            "_view_count": null,
            "_view_module": "@jupyter-widgets/output",
            "_view_module_version": "1.0.0",
            "_view_name": "OutputView",
            "layout": "IPY_MODEL_b2953edc724440c28424ac3e754d1b9d",
            "msg_id": "",
            "outputs": [
              {
                "data": {
                  "text/html": "<pre style=\"white-space:pre;overflow-x:auto;line-height:normal;font-family:Menlo,'DejaVu Sans Mono',consolas,'Courier New',monospace\">Epoch 16/29 <span style=\"color: #6206e0; text-decoration-color: #6206e0\">━━━━━━━━━━━━━━━━━━━━━━━━━━━━━━━━</span> <span style=\"color: #c0c0c0; text-decoration-color: #c0c0c0\">1563/1563</span> <span style=\"color: #8a8a8a; text-decoration-color: #8a8a8a\">0:01:31 • 0:00:00</span> <span style=\"color: #b2b2b2; text-decoration-color: #b2b2b2\">18.99it/s</span> <span style=\"color: #c0c0c0; text-decoration-color: #c0c0c0\">loss: 0.693 train_loss: 0.693   </span>\n                                                                                   <span style=\"color: #c0c0c0; text-decoration-color: #c0c0c0\">valid_loss: 0.69 valid_accuracy:</span>\n                                                                                   <span style=\"color: #c0c0c0; text-decoration-color: #c0c0c0\">0.844 train_accuracy: 0.5       </span>\n</pre>\n",
                  "text/plain": "Epoch 16/29 \u001b[38;2;98;6;224m━━━━━━━━━━━━━━━━━━━━━━━━━━━━━━━━\u001b[0m \u001b[37m1563/1563\u001b[0m \u001b[38;5;245m0:01:31 • 0:00:00\u001b[0m \u001b[38;5;249m18.99it/s\u001b[0m \u001b[37mloss: 0.693 train_loss: 0.693   \u001b[0m\n                                                                                   \u001b[37mvalid_loss: 0.69 valid_accuracy:\u001b[0m\n                                                                                   \u001b[37m0.844 train_accuracy: 0.5       \u001b[0m\n"
                },
                "metadata": {},
                "output_type": "display_data"
              }
            ]
          }
        },
        "f0c4bda9c4404c92961dff9de019b4bf": {
          "model_module": "@jupyter-widgets/output",
          "model_module_version": "1.0.0",
          "model_name": "OutputModel",
          "state": {
            "_dom_classes": [],
            "_model_module": "@jupyter-widgets/output",
            "_model_module_version": "1.0.0",
            "_model_name": "OutputModel",
            "_view_count": null,
            "_view_module": "@jupyter-widgets/output",
            "_view_module_version": "1.0.0",
            "_view_name": "OutputView",
            "layout": "IPY_MODEL_bf774528038842d99f13430cd84e4d9c",
            "msg_id": "",
            "outputs": [
              {
                "data": {
                  "text/html": "<pre style=\"white-space:pre;overflow-x:auto;line-height:normal;font-family:Menlo,'DejaVu Sans Mono',consolas,'Courier New',monospace\">Generating Predictions... <span style=\"color: #729c1f; text-decoration-color: #729c1f\">━━━━━━━━━━━━━━━━━━━━━━━━━━━━━━━━━━━━━━━━</span> <span style=\"color: #800080; text-decoration-color: #800080\">100%</span> <span style=\"color: #008080; text-decoration-color: #008080\">0:00:00</span>\n</pre>\n",
                  "text/plain": "Generating Predictions... \u001b[38;2;114;156;31m━━━━━━━━━━━━━━━━━━━━━━━━━━━━━━━━━━━━━━━━\u001b[0m \u001b[35m100%\u001b[0m \u001b[36m0:00:00\u001b[0m\n"
                },
                "metadata": {},
                "output_type": "display_data"
              }
            ]
          }
        },
        "f255c1e922ad456a8089eaab0d600d75": {
          "model_module": "@jupyter-widgets/base",
          "model_module_version": "1.2.0",
          "model_name": "LayoutModel",
          "state": {
            "_model_module": "@jupyter-widgets/base",
            "_model_module_version": "1.2.0",
            "_model_name": "LayoutModel",
            "_view_count": null,
            "_view_module": "@jupyter-widgets/base",
            "_view_module_version": "1.2.0",
            "_view_name": "LayoutView",
            "align_content": null,
            "align_items": null,
            "align_self": null,
            "border": null,
            "bottom": null,
            "display": null,
            "flex": null,
            "flex_flow": null,
            "grid_area": null,
            "grid_auto_columns": null,
            "grid_auto_flow": null,
            "grid_auto_rows": null,
            "grid_column": null,
            "grid_gap": null,
            "grid_row": null,
            "grid_template_areas": null,
            "grid_template_columns": null,
            "grid_template_rows": null,
            "height": null,
            "justify_content": null,
            "justify_items": null,
            "left": null,
            "margin": null,
            "max_height": null,
            "max_width": null,
            "min_height": null,
            "min_width": null,
            "object_fit": null,
            "object_position": null,
            "order": null,
            "overflow": null,
            "overflow_x": null,
            "overflow_y": null,
            "padding": null,
            "right": null,
            "top": null,
            "visibility": null,
            "width": null
          }
        },
        "fe7bc17e510d4708abc87fe5c116e192": {
          "model_module": "@jupyter-widgets/base",
          "model_module_version": "1.2.0",
          "model_name": "LayoutModel",
          "state": {
            "_model_module": "@jupyter-widgets/base",
            "_model_module_version": "1.2.0",
            "_model_name": "LayoutModel",
            "_view_count": null,
            "_view_module": "@jupyter-widgets/base",
            "_view_module_version": "1.2.0",
            "_view_name": "LayoutView",
            "align_content": null,
            "align_items": null,
            "align_self": null,
            "border": null,
            "bottom": null,
            "display": null,
            "flex": null,
            "flex_flow": null,
            "grid_area": null,
            "grid_auto_columns": null,
            "grid_auto_flow": null,
            "grid_auto_rows": null,
            "grid_column": null,
            "grid_gap": null,
            "grid_row": null,
            "grid_template_areas": null,
            "grid_template_columns": null,
            "grid_template_rows": null,
            "height": null,
            "justify_content": null,
            "justify_items": null,
            "left": null,
            "margin": null,
            "max_height": null,
            "max_width": null,
            "min_height": null,
            "min_width": null,
            "object_fit": null,
            "object_position": null,
            "order": null,
            "overflow": null,
            "overflow_x": null,
            "overflow_y": null,
            "padding": null,
            "right": null,
            "top": null,
            "visibility": null,
            "width": null
          }
        }
      }
    }
  },
  "nbformat": 4,
  "nbformat_minor": 0
}
