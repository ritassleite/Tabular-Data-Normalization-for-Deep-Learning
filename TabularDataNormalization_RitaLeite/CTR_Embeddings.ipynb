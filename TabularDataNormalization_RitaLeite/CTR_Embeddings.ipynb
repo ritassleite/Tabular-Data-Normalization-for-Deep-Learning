{
  "cells": [
    {
      "cell_type": "code",
      "execution_count": null,
      "metadata": {
        "colab": {
          "base_uri": "https://localhost:8080/"
        },
        "id": "24Qjto8r7t5Z",
        "outputId": "0acc1297-ed60-4f42-dd58-01e66407ff2a"
      },
      "outputs": [
        {
          "name": "stderr",
          "output_type": "stream",
          "text": [
            "/usr/local/lib/python3.8/dist-packages/pytorch_tabular/models/mixture_density/mdn.py:25: UserWarning: Wandb not installed. WandbLogger will not work.\n",
            "  warnings.warn(\"Wandb not installed. WandbLogger will not work.\")\n"
          ]
        }
      ],
      "source": [
        "import gc\n",
        "import pandas as pd\n",
        "import numpy as np\n",
        "import sklearn as skl\n",
        "import seaborn as sns\n",
        "import lightgbm as lgb\n",
        "import torch\n",
        "import scipy\n",
        "import opendatasets as od\n",
        "import math\n",
        "import torchmetrics\n",
        "import utils.lgbm as lgbm\n",
        "import importlib\n",
        "import joblib\n",
        "import category_encoders\n",
        "import utils.mlp as mlp\n",
        "import utils.embedding_pipeline as embedding_pipeline\n",
        "import utils.early_stopping as early_stopping\n",
        "import utils.mlp_pipeline as mlp_pipeline\n",
        "import pytorch_tabular"
      ]
    },
    {
      "cell_type": "code",
      "execution_count": null,
      "metadata": {
        "id": "yF0jDCkTPUSU"
      },
      "outputs": [],
      "source": [
        "import pickle\n",
        "import io\n",
        "\n",
        "class CPU_Unpickler(pickle.Unpickler):\n",
        "    def find_class(self, module, name):\n",
        "        if module == 'torch.storage' and name == '_load_from_bytes':\n",
        "            return lambda b: torch.load(io.BytesIO(b), map_location='cpu')\n",
        "        else:\n",
        "            return super().find_class(module, name)\n"
      ]
    },
    {
      "cell_type": "code",
      "execution_count": null,
      "metadata": {
        "colab": {
          "base_uri": "https://localhost:8080/"
        },
        "id": "1MjXEJlP7vhC",
        "outputId": "dc619a44-12bb-4784-fccc-e981e963e717"
      },
      "outputs": [
        {
          "name": "stdout",
          "output_type": "stream",
          "text": [
            "Using cuda device\n"
          ]
        }
      ],
      "source": [
        "device = \"cuda\" if torch.cuda.is_available() else \"cpu\"\n",
        "print(f\"Using {device} device\")\n"
      ]
    },
    {
      "cell_type": "code",
      "execution_count": null,
      "metadata": {
        "colab": {
          "base_uri": "https://localhost:8080/"
        },
        "id": "06oWTk7Q78Li",
        "outputId": "d718b672-899a-40bf-d1af-9e46510ef3e7"
      },
      "outputs": [
        {
          "name": "stdout",
          "output_type": "stream",
          "text": [
            "Please provide your Kaggle credentials to download this dataset. Learn more: http://bit.ly/kaggle-creds\n",
            "Your Kaggle username: ritaleite\n",
            "Your Kaggle Key: ··········\n",
            "Downloading avazu-ctr-prediction.zip to ./avazu-ctr-prediction\n"
          ]
        },
        {
          "name": "stderr",
          "output_type": "stream",
          "text": [
            "100%|██████████| 1.19G/1.19G [00:09<00:00, 138MB/s]\n"
          ]
        },
        {
          "name": "stdout",
          "output_type": "stream",
          "text": [
            "\n",
            "Extracting archive ./avazu-ctr-prediction/avazu-ctr-prediction.zip to ./avazu-ctr-prediction\n"
          ]
        }
      ],
      "source": [
        "#Kaggle api key: 9c2fc93aaaf8815d9fa8f2ceeeb57b6b\n",
        "od.download(\"https://www.kaggle.com/c/avazu-ctr-prediction/\")\n",
        "\n",
        "ctr_data=pd.read_csv(\"./avazu-ctr-prediction/train.gz\",nrows=1000000) #Using only the first 1million rows\n"
      ]
    },
    {
      "cell_type": "code",
      "execution_count": null,
      "metadata": {
        "colab": {
          "base_uri": "https://localhost:8080/"
        },
        "id": "d-BEFwm-9PMw",
        "outputId": "eaaccd55-278b-4fc6-f773-bff187733428"
      },
      "outputs": [
        {
          "name": "stdout",
          "output_type": "stream",
          "text": [
            "Mounted at /content/gdrive\n"
          ]
        }
      ],
      "source": [
        "drive.mount('/content/gdrive')"
      ]
    },
    {
      "cell_type": "code",
      "execution_count": null,
      "metadata": {
        "id": "FmBLZshAbOEt"
      },
      "outputs": [],
      "source": [
        "def find_optimal_recall(fpr,tpr,threshold,rate):\n",
        "    optimal_index=np.argmin(abs(fpr-rate*np.ones(len(fpr))))\n",
        "    print(threshold[optimal_index])\n",
        "    return tpr[optimal_index]"
      ]
    },
    {
      "cell_type": "code",
      "execution_count": null,
      "metadata": {
        "colab": {
          "base_uri": "https://localhost:8080/"
        },
        "id": "RcAd6f9j8KLl",
        "outputId": "e1587f2f-f357-4d3c-d301-c90f7c4403f0"
      },
      "outputs": [
        {
          "data": {
            "text/plain": [
              "26"
            ]
          },
          "execution_count": 6,
          "metadata": {},
          "output_type": "execute_result"
        }
      ],
      "source": [
        "X=ctr_data.loc[:,'C1':'C21']\n",
        "Y=ctr_data.click\n",
        "\n",
        "del ctr_data\n",
        "\n",
        "    \n",
        "training_range=range(0,math.floor(len(Y)*0.6))\n",
        "validation_range=range(math.floor(len(Y)*0.6),math.floor(len(Y)*0.8))\n",
        "testing_range=range(math.floor(len(Y)*0.8),math.floor(len(Y)*1))\n",
        "\n",
        "#Establish continuous and categorical features\n",
        "cat_cols=X.columns\n",
        "cont_cols=X.columns.difference(cat_cols)\n",
        "\n",
        "\n",
        "xtrain=X.loc[training_range]\n",
        "ytrain=Y.loc[training_range]\n",
        "xtest=X.loc[testing_range]\n",
        "ytest=Y.loc[testing_range]\n",
        "xval=X.loc[validation_range]\n",
        "yval=Y.loc[validation_range]\n",
        "\n",
        "x_train,x_test,x_val=embedding_pipeline.aggregate_low_card_BAF(xtrain,xtest,xval,cat_cols)\n",
        "\n",
        "del X\n",
        "del Y\n",
        "gc.collect()\n"
      ]
    },
    {
      "cell_type": "markdown",
      "metadata": {
        "id": "JYiLlNpq5hi8"
      },
      "source": [
        "# Parameter Tuning"
      ]
    },
    {
      "cell_type": "code",
      "execution_count": null,
      "metadata": {
        "colab": {
          "base_uri": "https://localhost:8080/"
        },
        "id": "ENo3TwbF9M1z",
        "outputId": "5990e865-66e6-4cf4-af4b-7dba72eb2b1b"
      },
      "outputs": [
        {
          "name": "stdout",
          "output_type": "stream",
          "text": [
            "20\n",
            "{'boosting_type': 'goss', 'device': 'cpu', 'learning_rate': 0.07723198108458322, 'max_bin': 30, 'min_data_in_leaf': 72, 'num_iterations': 411, 'num_leaves': 412}\n",
            "Fraud Rate for test set: 0.17409275761683593\n"
          ]
        },
        {
          "name": "stderr",
          "output_type": "stream",
          "text": [
            "/usr/local/lib/python3.8/dist-packages/lightgbm/engine.py:118: UserWarning: Found `num_iterations` in params. Will use it instead of argument\n",
            "  warnings.warn(\"Found `{}` in params. Will use it instead of argument\".format(alias))\n"
          ]
        },
        {
          "name": "stdout",
          "output_type": "stream",
          "text": [
            "iteration:  0 ------- Auc:  0.7283351698971195\n"
          ]
        },
        {
          "name": "stderr",
          "output_type": "stream",
          "text": [
            "/usr/local/lib/python3.8/dist-packages/lightgbm/engine.py:118: UserWarning: Found `num_iterations` in params. Will use it instead of argument\n",
            "  warnings.warn(\"Found `{}` in params. Will use it instead of argument\".format(alias))\n"
          ]
        },
        {
          "name": "stdout",
          "output_type": "stream",
          "text": [
            "iteration:  1 ------- Auc:  0.7038710257210177\n"
          ]
        },
        {
          "name": "stderr",
          "output_type": "stream",
          "text": [
            "/usr/local/lib/python3.8/dist-packages/lightgbm/engine.py:118: UserWarning: Found `num_iterations` in params. Will use it instead of argument\n",
            "  warnings.warn(\"Found `{}` in params. Will use it instead of argument\".format(alias))\n"
          ]
        },
        {
          "name": "stdout",
          "output_type": "stream",
          "text": [
            "iteration:  2 ------- Auc:  0.7346101558914818\n"
          ]
        },
        {
          "name": "stderr",
          "output_type": "stream",
          "text": [
            "/usr/local/lib/python3.8/dist-packages/lightgbm/engine.py:118: UserWarning: Found `num_iterations` in params. Will use it instead of argument\n",
            "  warnings.warn(\"Found `{}` in params. Will use it instead of argument\".format(alias))\n"
          ]
        },
        {
          "name": "stdout",
          "output_type": "stream",
          "text": [
            "iteration:  3 ------- Auc:  0.7143483281728312\n"
          ]
        },
        {
          "name": "stderr",
          "output_type": "stream",
          "text": [
            "/usr/local/lib/python3.8/dist-packages/lightgbm/engine.py:118: UserWarning: Found `num_iterations` in params. Will use it instead of argument\n",
            "  warnings.warn(\"Found `{}` in params. Will use it instead of argument\".format(alias))\n"
          ]
        },
        {
          "name": "stdout",
          "output_type": "stream",
          "text": [
            "iteration:  4 ------- Auc:  0.7226769317089873\n"
          ]
        },
        {
          "name": "stderr",
          "output_type": "stream",
          "text": [
            "/usr/local/lib/python3.8/dist-packages/lightgbm/engine.py:118: UserWarning: Found `num_iterations` in params. Will use it instead of argument\n",
            "  warnings.warn(\"Found `{}` in params. Will use it instead of argument\".format(alias))\n"
          ]
        },
        {
          "name": "stdout",
          "output_type": "stream",
          "text": [
            "iteration:  5 ------- Auc:  0.7216762331358331\n"
          ]
        },
        {
          "name": "stderr",
          "output_type": "stream",
          "text": [
            "/usr/local/lib/python3.8/dist-packages/lightgbm/engine.py:118: UserWarning: Found `num_iterations` in params. Will use it instead of argument\n",
            "  warnings.warn(\"Found `{}` in params. Will use it instead of argument\".format(alias))\n"
          ]
        },
        {
          "name": "stdout",
          "output_type": "stream",
          "text": [
            "iteration:  6 ------- Auc:  0.7443816861657959\n"
          ]
        },
        {
          "name": "stderr",
          "output_type": "stream",
          "text": [
            "/usr/local/lib/python3.8/dist-packages/lightgbm/engine.py:118: UserWarning: Found `num_iterations` in params. Will use it instead of argument\n",
            "  warnings.warn(\"Found `{}` in params. Will use it instead of argument\".format(alias))\n"
          ]
        },
        {
          "name": "stdout",
          "output_type": "stream",
          "text": [
            "iteration:  7 ------- Auc:  0.7015289887251138\n"
          ]
        },
        {
          "name": "stderr",
          "output_type": "stream",
          "text": [
            "/usr/local/lib/python3.8/dist-packages/lightgbm/engine.py:118: UserWarning: Found `num_iterations` in params. Will use it instead of argument\n",
            "  warnings.warn(\"Found `{}` in params. Will use it instead of argument\".format(alias))\n"
          ]
        },
        {
          "name": "stdout",
          "output_type": "stream",
          "text": [
            "iteration:  8 ------- Auc:  0.7168297775505262\n"
          ]
        },
        {
          "name": "stderr",
          "output_type": "stream",
          "text": [
            "/usr/local/lib/python3.8/dist-packages/lightgbm/engine.py:118: UserWarning: Found `num_iterations` in params. Will use it instead of argument\n",
            "  warnings.warn(\"Found `{}` in params. Will use it instead of argument\".format(alias))\n"
          ]
        },
        {
          "name": "stdout",
          "output_type": "stream",
          "text": [
            "iteration:  9 ------- Auc:  0.7132008687874637\n"
          ]
        },
        {
          "name": "stderr",
          "output_type": "stream",
          "text": [
            "/usr/local/lib/python3.8/dist-packages/lightgbm/engine.py:118: UserWarning: Found `num_iterations` in params. Will use it instead of argument\n",
            "  warnings.warn(\"Found `{}` in params. Will use it instead of argument\".format(alias))\n"
          ]
        },
        {
          "name": "stdout",
          "output_type": "stream",
          "text": [
            "iteration:  10 ------- Auc:  0.701826767596331\n"
          ]
        },
        {
          "name": "stderr",
          "output_type": "stream",
          "text": [
            "/usr/local/lib/python3.8/dist-packages/lightgbm/engine.py:118: UserWarning: Found `num_iterations` in params. Will use it instead of argument\n",
            "  warnings.warn(\"Found `{}` in params. Will use it instead of argument\".format(alias))\n"
          ]
        },
        {
          "name": "stdout",
          "output_type": "stream",
          "text": [
            "iteration:  11 ------- Auc:  0.7096153173094845\n"
          ]
        },
        {
          "name": "stderr",
          "output_type": "stream",
          "text": [
            "/usr/local/lib/python3.8/dist-packages/lightgbm/engine.py:118: UserWarning: Found `num_iterations` in params. Will use it instead of argument\n",
            "  warnings.warn(\"Found `{}` in params. Will use it instead of argument\".format(alias))\n"
          ]
        },
        {
          "name": "stdout",
          "output_type": "stream",
          "text": [
            "iteration:  12 ------- Auc:  0.7213853647773569\n"
          ]
        },
        {
          "name": "stderr",
          "output_type": "stream",
          "text": [
            "/usr/local/lib/python3.8/dist-packages/lightgbm/engine.py:118: UserWarning: Found `num_iterations` in params. Will use it instead of argument\n",
            "  warnings.warn(\"Found `{}` in params. Will use it instead of argument\".format(alias))\n"
          ]
        },
        {
          "name": "stdout",
          "output_type": "stream",
          "text": [
            "iteration:  13 ------- Auc:  0.564909262941266\n"
          ]
        },
        {
          "name": "stderr",
          "output_type": "stream",
          "text": [
            "/usr/local/lib/python3.8/dist-packages/lightgbm/engine.py:118: UserWarning: Found `num_iterations` in params. Will use it instead of argument\n",
            "  warnings.warn(\"Found `{}` in params. Will use it instead of argument\".format(alias))\n"
          ]
        },
        {
          "name": "stdout",
          "output_type": "stream",
          "text": [
            "iteration:  14 ------- Auc:  0.4931427122890109\n"
          ]
        },
        {
          "name": "stderr",
          "output_type": "stream",
          "text": [
            "/usr/local/lib/python3.8/dist-packages/lightgbm/engine.py:118: UserWarning: Found `num_iterations` in params. Will use it instead of argument\n",
            "  warnings.warn(\"Found `{}` in params. Will use it instead of argument\".format(alias))\n"
          ]
        },
        {
          "name": "stdout",
          "output_type": "stream",
          "text": [
            "iteration:  15 ------- Auc:  0.5004190442877657\n"
          ]
        },
        {
          "name": "stderr",
          "output_type": "stream",
          "text": [
            "/usr/local/lib/python3.8/dist-packages/lightgbm/engine.py:118: UserWarning: Found `num_iterations` in params. Will use it instead of argument\n",
            "  warnings.warn(\"Found `{}` in params. Will use it instead of argument\".format(alias))\n"
          ]
        },
        {
          "name": "stdout",
          "output_type": "stream",
          "text": [
            "iteration:  16 ------- Auc:  0.5353910953509594\n"
          ]
        },
        {
          "name": "stderr",
          "output_type": "stream",
          "text": [
            "/usr/local/lib/python3.8/dist-packages/lightgbm/engine.py:118: UserWarning: Found `num_iterations` in params. Will use it instead of argument\n",
            "  warnings.warn(\"Found `{}` in params. Will use it instead of argument\".format(alias))\n"
          ]
        },
        {
          "name": "stdout",
          "output_type": "stream",
          "text": [
            "iteration:  17 ------- Auc:  0.6969548063114138\n"
          ]
        },
        {
          "name": "stderr",
          "output_type": "stream",
          "text": [
            "/usr/local/lib/python3.8/dist-packages/lightgbm/engine.py:118: UserWarning: Found `num_iterations` in params. Will use it instead of argument\n",
            "  warnings.warn(\"Found `{}` in params. Will use it instead of argument\".format(alias))\n"
          ]
        },
        {
          "name": "stdout",
          "output_type": "stream",
          "text": [
            "iteration:  18 ------- Auc:  0.6956017059349454\n"
          ]
        },
        {
          "name": "stderr",
          "output_type": "stream",
          "text": [
            "/usr/local/lib/python3.8/dist-packages/lightgbm/engine.py:118: UserWarning: Found `num_iterations` in params. Will use it instead of argument\n",
            "  warnings.warn(\"Found `{}` in params. Will use it instead of argument\".format(alias))\n"
          ]
        },
        {
          "name": "stdout",
          "output_type": "stream",
          "text": [
            "iteration:  19 ------- Auc:  0.5183217716768651\n",
            "Done!\n",
            "Best param set: {'boosting_type': 'goss', 'device': 'cpu', 'learning_rate': 0.025874328322797666, 'max_bin': 256, 'min_data_in_leaf': 194, 'num_iterations': 1160, 'num_leaves': 295}\n",
            "AUC score:  0.7443816861657959\n"
          ]
        },
        {
          "data": {
            "text/plain": [
              "(LGBMClassifier(boosting_type='goss', device='cpu',\n",
              "                learning_rate=0.025874328322797666, max_bin=256,\n",
              "                min_data_in_leaf=194, num_iterations=1160, num_leaves=295),\n",
              " {'boosting_type': 'goss',\n",
              "  'device': 'cpu',\n",
              "  'learning_rate': 0.025874328322797666,\n",
              "  'max_bin': 256,\n",
              "  'min_data_in_leaf': 194,\n",
              "  'num_iterations': 1160,\n",
              "  'num_leaves': 295},\n",
              " (array([0.        , 0.        , 0.        , ..., 0.99991928, 0.99997309,\n",
              "         1.        ]),\n",
              "  array([0.00000000e+00, 1.27648711e-04, 3.82946132e-04, ...,\n",
              "         1.00000000e+00, 1.00000000e+00, 1.00000000e+00]),\n",
              "  array([1.90312067, 0.90312067, 0.88772055, ..., 0.00211498, 0.00205294,\n",
              "         0.00204345])))"
            ]
          },
          "execution_count": 26,
          "metadata": {},
          "output_type": "execute_result"
        }
      ],
      "source": [
        "import lgbm\n",
        "aux=importlib.reload(lgbm)\n",
        "param_list=lgbm.lgbm_param_sampler(20,7,'cpu')\n",
        "print(len(param_list))\n",
        "print(param_list[0])\n",
        "i=0\n",
        "for params in param_list:\n",
        "    model = lgbm.LGBMClassifier(n_jobs=10, **params)  # Instantiate LGBM Model.\n",
        "        \n",
        "    # Fit model to training data.\n",
        "    model.fit(xtrain, ytrain, categorical_feature=categorical_features,eval_set=[(xval,yval)],early_stopping_rounds=5,eval_metric='loss')\n",
        "    # Obtain predictions in test data.\n",
        "    predictions = model.predict_proba(xtest)[:, 1]\n",
        "\n",
        "    joblib.dump(model,'lgbm_3{}.pkl'.format(i))"
      ]
    },
    {
      "cell_type": "code",
      "execution_count": null,
      "metadata": {
        "colab": {
          "base_uri": "https://localhost:8080/",
          "height": 393
        },
        "id": "AdefNXWN8zfu",
        "outputId": "8b5b0fa7-0ce0-4c4b-d00e-798c6fa33cbb"
      },
      "outputs": [
        {
          "ename": "KeyboardInterrupt",
          "evalue": "ignored",
          "output_type": "error",
          "traceback": [
            "\u001b[0;31m---------------------------------------------------------------------------\u001b[0m",
            "\u001b[0;31mKeyboardInterrupt\u001b[0m                         Traceback (most recent call last)",
            "\u001b[0;32m<ipython-input-7-42e612bedc01>\u001b[0m in \u001b[0;36m<module>\u001b[0;34m\u001b[0m\n\u001b[1;32m      6\u001b[0m     \u001b[0mle\u001b[0m\u001b[0;34m=\u001b[0m\u001b[0mskl\u001b[0m\u001b[0;34m.\u001b[0m\u001b[0mpreprocessing\u001b[0m\u001b[0;34m.\u001b[0m\u001b[0mLabelEncoder\u001b[0m\u001b[0;34m(\u001b[0m\u001b[0;34m)\u001b[0m\u001b[0;34m\u001b[0m\u001b[0;34m\u001b[0m\u001b[0m\n\u001b[1;32m      7\u001b[0m     \u001b[0mxtrain\u001b[0m\u001b[0;34m[\u001b[0m\u001b[0mcol\u001b[0m\u001b[0;34m]\u001b[0m\u001b[0;34m=\u001b[0m\u001b[0mle\u001b[0m\u001b[0;34m.\u001b[0m\u001b[0mfit_transform\u001b[0m\u001b[0;34m(\u001b[0m\u001b[0mxtrain\u001b[0m\u001b[0;34m[\u001b[0m\u001b[0mcol\u001b[0m\u001b[0;34m]\u001b[0m\u001b[0;34m)\u001b[0m\u001b[0;34m\u001b[0m\u001b[0;34m\u001b[0m\u001b[0m\n\u001b[0;32m----> 8\u001b[0;31m     \u001b[0mxtest\u001b[0m\u001b[0;34m[\u001b[0m\u001b[0mcol\u001b[0m\u001b[0;34m]\u001b[0m \u001b[0;34m=\u001b[0m \u001b[0mxtest\u001b[0m\u001b[0;34m[\u001b[0m\u001b[0mcol\u001b[0m\u001b[0;34m]\u001b[0m\u001b[0;34m.\u001b[0m\u001b[0mmap\u001b[0m\u001b[0;34m(\u001b[0m\u001b[0;32mlambda\u001b[0m \u001b[0ms\u001b[0m\u001b[0;34m:\u001b[0m \u001b[0;34m'<unknown>'\u001b[0m \u001b[0;32mif\u001b[0m \u001b[0ms\u001b[0m \u001b[0;32mnot\u001b[0m \u001b[0;32min\u001b[0m \u001b[0mle\u001b[0m\u001b[0;34m.\u001b[0m\u001b[0mclasses_\u001b[0m \u001b[0;32melse\u001b[0m \u001b[0ms\u001b[0m\u001b[0;34m)\u001b[0m\u001b[0;34m\u001b[0m\u001b[0;34m\u001b[0m\u001b[0m\n\u001b[0m\u001b[1;32m      9\u001b[0m     \u001b[0mle\u001b[0m\u001b[0;34m.\u001b[0m\u001b[0mclasses_\u001b[0m \u001b[0;34m=\u001b[0m \u001b[0mnp\u001b[0m\u001b[0;34m.\u001b[0m\u001b[0mappend\u001b[0m\u001b[0;34m(\u001b[0m\u001b[0mle\u001b[0m\u001b[0;34m.\u001b[0m\u001b[0mclasses_\u001b[0m\u001b[0;34m,\u001b[0m \u001b[0;34m'<unknown>'\u001b[0m\u001b[0;34m)\u001b[0m\u001b[0;34m\u001b[0m\u001b[0;34m\u001b[0m\u001b[0m\n\u001b[1;32m     10\u001b[0m     \u001b[0mxtest\u001b[0m\u001b[0;34m[\u001b[0m\u001b[0mcol\u001b[0m\u001b[0;34m]\u001b[0m\u001b[0;34m=\u001b[0m\u001b[0mle\u001b[0m\u001b[0;34m.\u001b[0m\u001b[0mtransform\u001b[0m\u001b[0;34m(\u001b[0m\u001b[0mxtest\u001b[0m\u001b[0;34m[\u001b[0m\u001b[0mcol\u001b[0m\u001b[0;34m]\u001b[0m\u001b[0;34m)\u001b[0m\u001b[0;34m\u001b[0m\u001b[0;34m\u001b[0m\u001b[0m\n",
            "\u001b[0;32m/usr/local/lib/python3.8/dist-packages/pandas/core/series.py\u001b[0m in \u001b[0;36mmap\u001b[0;34m(self, arg, na_action)\u001b[0m\n\u001b[1;32m   4159\u001b[0m         \u001b[0mdtype\u001b[0m\u001b[0;34m:\u001b[0m \u001b[0mobject\u001b[0m\u001b[0;34m\u001b[0m\u001b[0;34m\u001b[0m\u001b[0m\n\u001b[1;32m   4160\u001b[0m         \"\"\"\n\u001b[0;32m-> 4161\u001b[0;31m         \u001b[0mnew_values\u001b[0m \u001b[0;34m=\u001b[0m \u001b[0msuper\u001b[0m\u001b[0;34m(\u001b[0m\u001b[0;34m)\u001b[0m\u001b[0;34m.\u001b[0m\u001b[0m_map_values\u001b[0m\u001b[0;34m(\u001b[0m\u001b[0marg\u001b[0m\u001b[0;34m,\u001b[0m \u001b[0mna_action\u001b[0m\u001b[0;34m=\u001b[0m\u001b[0mna_action\u001b[0m\u001b[0;34m)\u001b[0m\u001b[0;34m\u001b[0m\u001b[0;34m\u001b[0m\u001b[0m\n\u001b[0m\u001b[1;32m   4162\u001b[0m         return self._constructor(new_values, index=self.index).__finalize__(\n\u001b[1;32m   4163\u001b[0m             \u001b[0mself\u001b[0m\u001b[0;34m,\u001b[0m \u001b[0mmethod\u001b[0m\u001b[0;34m=\u001b[0m\u001b[0;34m\"map\"\u001b[0m\u001b[0;34m\u001b[0m\u001b[0;34m\u001b[0m\u001b[0m\n",
            "\u001b[0;32m/usr/local/lib/python3.8/dist-packages/pandas/core/base.py\u001b[0m in \u001b[0;36m_map_values\u001b[0;34m(self, mapper, na_action)\u001b[0m\n\u001b[1;32m    868\u001b[0m \u001b[0;34m\u001b[0m\u001b[0m\n\u001b[1;32m    869\u001b[0m         \u001b[0;31m# mapper is a function\u001b[0m\u001b[0;34m\u001b[0m\u001b[0;34m\u001b[0m\u001b[0;34m\u001b[0m\u001b[0m\n\u001b[0;32m--> 870\u001b[0;31m         \u001b[0mnew_values\u001b[0m \u001b[0;34m=\u001b[0m \u001b[0mmap_f\u001b[0m\u001b[0;34m(\u001b[0m\u001b[0mvalues\u001b[0m\u001b[0;34m,\u001b[0m \u001b[0mmapper\u001b[0m\u001b[0;34m)\u001b[0m\u001b[0;34m\u001b[0m\u001b[0;34m\u001b[0m\u001b[0m\n\u001b[0m\u001b[1;32m    871\u001b[0m \u001b[0;34m\u001b[0m\u001b[0m\n\u001b[1;32m    872\u001b[0m         \u001b[0;32mreturn\u001b[0m \u001b[0mnew_values\u001b[0m\u001b[0;34m\u001b[0m\u001b[0;34m\u001b[0m\u001b[0m\n",
            "\u001b[0;32m/usr/local/lib/python3.8/dist-packages/pandas/_libs/lib.pyx\u001b[0m in \u001b[0;36mpandas._libs.lib.map_infer\u001b[0;34m()\u001b[0m\n",
            "\u001b[0;32m<ipython-input-7-42e612bedc01>\u001b[0m in \u001b[0;36m<lambda>\u001b[0;34m(s)\u001b[0m\n\u001b[1;32m      6\u001b[0m     \u001b[0mle\u001b[0m\u001b[0;34m=\u001b[0m\u001b[0mskl\u001b[0m\u001b[0;34m.\u001b[0m\u001b[0mpreprocessing\u001b[0m\u001b[0;34m.\u001b[0m\u001b[0mLabelEncoder\u001b[0m\u001b[0;34m(\u001b[0m\u001b[0;34m)\u001b[0m\u001b[0;34m\u001b[0m\u001b[0;34m\u001b[0m\u001b[0m\n\u001b[1;32m      7\u001b[0m     \u001b[0mxtrain\u001b[0m\u001b[0;34m[\u001b[0m\u001b[0mcol\u001b[0m\u001b[0;34m]\u001b[0m\u001b[0;34m=\u001b[0m\u001b[0mle\u001b[0m\u001b[0;34m.\u001b[0m\u001b[0mfit_transform\u001b[0m\u001b[0;34m(\u001b[0m\u001b[0mxtrain\u001b[0m\u001b[0;34m[\u001b[0m\u001b[0mcol\u001b[0m\u001b[0;34m]\u001b[0m\u001b[0;34m)\u001b[0m\u001b[0;34m\u001b[0m\u001b[0;34m\u001b[0m\u001b[0m\n\u001b[0;32m----> 8\u001b[0;31m     \u001b[0mxtest\u001b[0m\u001b[0;34m[\u001b[0m\u001b[0mcol\u001b[0m\u001b[0;34m]\u001b[0m \u001b[0;34m=\u001b[0m \u001b[0mxtest\u001b[0m\u001b[0;34m[\u001b[0m\u001b[0mcol\u001b[0m\u001b[0;34m]\u001b[0m\u001b[0;34m.\u001b[0m\u001b[0mmap\u001b[0m\u001b[0;34m(\u001b[0m\u001b[0;32mlambda\u001b[0m \u001b[0ms\u001b[0m\u001b[0;34m:\u001b[0m \u001b[0;34m'<unknown>'\u001b[0m \u001b[0;32mif\u001b[0m \u001b[0ms\u001b[0m \u001b[0;32mnot\u001b[0m \u001b[0;32min\u001b[0m \u001b[0mle\u001b[0m\u001b[0;34m.\u001b[0m\u001b[0mclasses_\u001b[0m \u001b[0;32melse\u001b[0m \u001b[0ms\u001b[0m\u001b[0;34m)\u001b[0m\u001b[0;34m\u001b[0m\u001b[0;34m\u001b[0m\u001b[0m\n\u001b[0m\u001b[1;32m      9\u001b[0m     \u001b[0mle\u001b[0m\u001b[0;34m.\u001b[0m\u001b[0mclasses_\u001b[0m \u001b[0;34m=\u001b[0m \u001b[0mnp\u001b[0m\u001b[0;34m.\u001b[0m\u001b[0mappend\u001b[0m\u001b[0;34m(\u001b[0m\u001b[0mle\u001b[0m\u001b[0;34m.\u001b[0m\u001b[0mclasses_\u001b[0m\u001b[0;34m,\u001b[0m \u001b[0;34m'<unknown>'\u001b[0m\u001b[0;34m)\u001b[0m\u001b[0;34m\u001b[0m\u001b[0;34m\u001b[0m\u001b[0m\n\u001b[1;32m     10\u001b[0m     \u001b[0mxtest\u001b[0m\u001b[0;34m[\u001b[0m\u001b[0mcol\u001b[0m\u001b[0;34m]\u001b[0m\u001b[0;34m=\u001b[0m\u001b[0mle\u001b[0m\u001b[0;34m.\u001b[0m\u001b[0mtransform\u001b[0m\u001b[0;34m(\u001b[0m\u001b[0mxtest\u001b[0m\u001b[0;34m[\u001b[0m\u001b[0mcol\u001b[0m\u001b[0;34m]\u001b[0m\u001b[0;34m)\u001b[0m\u001b[0;34m\u001b[0m\u001b[0;34m\u001b[0m\u001b[0m\n",
            "\u001b[0;31mKeyboardInterrupt\u001b[0m: "
          ]
        }
      ],
      "source": [
        "#Usar apenas para models mlp com label encoding\n",
        "x1=xtrain\n",
        "x2=xtest\n",
        "for col in xtrain.select_dtypes(object).columns:\n",
        "    \n",
        "    le=skl.preprocessing.LabelEncoder()\n",
        "    xtrain[col]=le.fit_transform(xtrain[col])\n",
        "    xtest[col] = xtest[col].map(lambda s: '<unknown>' if s not in le.classes_ else s)\n",
        "    le.classes_ = np.append(le.classes_, '<unknown>')\n",
        "    xtest[col]=le.transform(xtest[col])\n",
        "for col in xtrain.select_dtypes(float).columns:\n",
        "    xtrain[col]=xtrain[col].fillna(np.average(xtrain[col]))\n",
        "    xtest[col]=xtest[col].fillna(np.average(xtest[col]))\n",
        "\n",
        "xtrain=xtrain.fillna(-1)\n",
        "xtest=xtest.fillna(-1)"
      ]
    },
    {
      "cell_type": "markdown",
      "metadata": {
        "id": "lBPAlLBo5nRa"
      },
      "source": [
        "# Categorical Encodings"
      ]
    },
    {
      "cell_type": "code",
      "execution_count": null,
      "metadata": {
        "colab": {
          "base_uri": "https://localhost:8080/"
        },
        "id": "hgXJY7QY5rTi",
        "outputId": "6b874cbe-40a8-455e-d5c0-667179f627eb"
      },
      "outputs": [
        {
          "name": "stderr",
          "output_type": "stream",
          "text": [
            "C:\\Users\\ritas\\anaconda3\\lib\\site-packages\\category_encoders\\target_encoder.py:122: FutureWarning: Default parameter min_samples_leaf will change in version 2.6.See https://github.com/scikit-learn-contrib/category_encoders/issues/327\n",
            "  warnings.warn(\"Default parameter min_samples_leaf will change in version 2.6.\"\n",
            "C:\\Users\\ritas\\anaconda3\\lib\\site-packages\\category_encoders\\target_encoder.py:127: FutureWarning: Default parameter smoothing will change in version 2.6.See https://github.com/scikit-learn-contrib/category_encoders/issues/327\n",
            "  warnings.warn(\"Default parameter smoothing will change in version 2.6.\"\n"
          ]
        }
      ],
      "source": [
        "cat_cols=xtrain.columns\n",
        "cont_cols=xtrain.columns.difference(cat_cols)\n",
        "\n",
        "target_encoder=category_encoders.target_encoder.TargetEncoder(cols=cat_cols,handle_unknown='value',handle_missing='value')\n",
        "xtrain_encoded=target_encoder.fit_transform(xtrain,ytrain)\n",
        "xtest_encoded=target_encoder.transform(xtest)"
      ]
    },
    {
      "cell_type": "markdown",
      "metadata": {
        "id": "sm1k9mb6a--X"
      },
      "source": [
        "# Categorical Embeddings"
      ]
    },
    {
      "cell_type": "code",
      "execution_count": null,
      "metadata": {
        "colab": {
          "base_uri": "https://localhost:8080/"
        },
        "id": "OU3DOLKAmLfX",
        "outputId": "95cce28c-094e-4542-f0d7-def88cdc8e0e"
      },
      "outputs": [
        {
          "name": "stdout",
          "output_type": "stream",
          "text": [
            "tensor([[  10,    3],\n",
            "        [   9,    3],\n",
            "        [ 679,   40],\n",
            "        [ 537,   35],\n",
            "        [  21,    5],\n",
            "        [ 630,   39],\n",
            "        [  57,   10],\n",
            "        [  23,    6],\n",
            "        [ 825,   44],\n",
            "        [8665,  148],\n",
            "        [2053,   71],\n",
            "        [   7,    2],\n",
            "        [   7,    2],\n",
            "        [ 405,   30],\n",
            "        [   8,    3],\n",
            "        [   9,    3],\n",
            "        [ 145,   17],\n",
            "        [   7,    2],\n",
            "        [  43,    9],\n",
            "        [ 146,   18],\n",
            "        [  37,    8]])\n",
            "iteration:  0\n",
            "----------Method: Embedding for Categorical variational -------------\n",
            "Train size:  600000 ; Number of 0:  501021 ; Number of 1: 98979\n",
            "Val size:  200000 ; Number of 0:  168723 ; Number of 1: 31277\n",
            "EarlyStopping counter: 1 out of 5\n",
            "EarlyStopping counter: 2 out of 5\n",
            "EarlyStopping counter: 3 out of 5\n",
            "EarlyStopping counter: 4 out of 5\n",
            "EarlyStopping counter: 5 out of 5\n",
            "Early stopping\n",
            "tensor([[  10,    6],\n",
            "        [   9,    6],\n",
            "        [ 679,   68],\n",
            "        [ 537,   60],\n",
            "        [  21,   10],\n",
            "        [ 630,   65],\n",
            "        [  57,   18],\n",
            "        [  23,   11],\n",
            "        [ 825,   75],\n",
            "        [8665,  247],\n",
            "        [2053,  119],\n",
            "        [   7,    5],\n",
            "        [   7,    5],\n",
            "        [ 405,   52],\n",
            "        [   8,    6],\n",
            "        [   9,    6],\n",
            "        [ 145,   30],\n",
            "        [   7,    5],\n",
            "        [  43,   16],\n",
            "        [ 146,   30],\n",
            "        [  37,   14]])\n",
            "iteration:  1\n",
            "----------Method: Embedding for Categorical variational -------------\n",
            "Train size:  600000 ; Number of 0:  501021 ; Number of 1: 98979\n",
            "Val size:  200000 ; Number of 0:  168723 ; Number of 1: 31277\n",
            "EarlyStopping counter: 1 out of 5\n",
            "EarlyStopping counter: 2 out of 5\n",
            "EarlyStopping counter: 3 out of 5\n",
            "EarlyStopping counter: 4 out of 5\n",
            "EarlyStopping counter: 5 out of 5\n",
            "Early stopping\n",
            "tensor([[  10,    5],\n",
            "        [   9,    4],\n",
            "        [ 679,   54],\n",
            "        [ 537,   48],\n",
            "        [  21,    8],\n",
            "        [ 630,   52],\n",
            "        [  57,   14],\n",
            "        [  23,    8],\n",
            "        [ 825,   60],\n",
            "        [8665,  199],\n",
            "        [2053,   96],\n",
            "        [   7,    4],\n",
            "        [   7,    4],\n",
            "        [ 405,   41],\n",
            "        [   8,    4],\n",
            "        [   9,    4],\n",
            "        [ 145,   24],\n",
            "        [   7,    4],\n",
            "        [  43,   12],\n",
            "        [ 146,   24],\n",
            "        [  37,   11]])\n",
            "iteration:  2\n",
            "----------Method: Embedding for Categorical variational -------------\n",
            "Train size:  600000 ; Number of 0:  501021 ; Number of 1: 98979\n",
            "Val size:  200000 ; Number of 0:  168723 ; Number of 1: 31277\n",
            "EarlyStopping counter: 1 out of 5\n",
            "EarlyStopping counter: 2 out of 5\n",
            "EarlyStopping counter: 3 out of 5\n",
            "EarlyStopping counter: 4 out of 5\n",
            "EarlyStopping counter: 5 out of 5\n",
            "Early stopping\n",
            "tensor([[  10,    6],\n",
            "        [   9,    6],\n",
            "        [ 679,   65],\n",
            "        [ 537,   58],\n",
            "        [  21,   10],\n",
            "        [ 630,   63],\n",
            "        [  57,   18],\n",
            "        [  23,   10],\n",
            "        [ 825,   72],\n",
            "        [8665,  239],\n",
            "        [2053,  115],\n",
            "        [   7,    5],\n",
            "        [   7,    5],\n",
            "        [ 405,   50],\n",
            "        [   8,    5],\n",
            "        [   9,    6],\n",
            "        [ 145,   29],\n",
            "        [   7,    5],\n",
            "        [  43,   15],\n",
            "        [ 146,   29],\n",
            "        [  37,   14]])\n",
            "iteration:  3\n",
            "----------Method: Embedding for Categorical variational -------------\n",
            "Train size:  600000 ; Number of 0:  501021 ; Number of 1: 98979\n",
            "Val size:  200000 ; Number of 0:  168723 ; Number of 1: 31277\n",
            "EarlyStopping counter: 1 out of 5\n",
            "EarlyStopping counter: 2 out of 5\n",
            "EarlyStopping counter: 3 out of 5\n",
            "EarlyStopping counter: 4 out of 5\n",
            "EarlyStopping counter: 5 out of 5\n",
            "Early stopping\n",
            "tensor([[  10,    7],\n",
            "        [   9,    7],\n",
            "        [ 679,   75],\n",
            "        [ 537,   67],\n",
            "        [  21,   12],\n",
            "        [ 630,   72],\n",
            "        [  57,   20],\n",
            "        [  23,   12],\n",
            "        [ 825,   83],\n",
            "        [8665,  274],\n",
            "        [2053,  132],\n",
            "        [   7,    6],\n",
            "        [   7,    6],\n",
            "        [ 405,   58],\n",
            "        [   8,    6],\n",
            "        [   9,    7],\n",
            "        [ 145,   34],\n",
            "        [   7,    6],\n",
            "        [  43,   17],\n",
            "        [ 146,   34],\n",
            "        [  37,   16]])\n",
            "iteration:  4\n",
            "----------Method: Embedding for Categorical variational -------------\n",
            "Train size:  600000 ; Number of 0:  501021 ; Number of 1: 98979\n",
            "Val size:  200000 ; Number of 0:  168723 ; Number of 1: 31277\n",
            "EarlyStopping counter: 1 out of 5\n",
            "EarlyStopping counter: 2 out of 5\n",
            "EarlyStopping counter: 3 out of 5\n",
            "EarlyStopping counter: 4 out of 5\n",
            "EarlyStopping counter: 5 out of 5\n",
            "Early stopping\n",
            "tensor([[  10,    5],\n",
            "        [   9,    5],\n",
            "        [ 679,   58],\n",
            "        [ 537,   51],\n",
            "        [  21,    9],\n",
            "        [ 630,   56],\n",
            "        [  57,   15],\n",
            "        [  23,    9],\n",
            "        [ 825,   64],\n",
            "        [8665,  213],\n",
            "        [2053,  103],\n",
            "        [   7,    4],\n",
            "        [   7,    4],\n",
            "        [ 405,   44],\n",
            "        [   8,    5],\n",
            "        [   9,    5],\n",
            "        [ 145,   26],\n",
            "        [   7,    4],\n",
            "        [  43,   13],\n",
            "        [ 146,   26],\n",
            "        [  37,   12]])\n",
            "iteration:  5\n",
            "----------Method: Embedding for Categorical variational -------------\n",
            "Train size:  600000 ; Number of 0:  501021 ; Number of 1: 98979\n",
            "Val size:  200000 ; Number of 0:  168723 ; Number of 1: 31277\n",
            "EarlyStopping counter: 1 out of 5\n",
            "EarlyStopping counter: 2 out of 5\n",
            "EarlyStopping counter: 3 out of 5\n",
            "EarlyStopping counter: 1 out of 5\n",
            "EarlyStopping counter: 2 out of 5\n",
            "EarlyStopping counter: 1 out of 5\n",
            "EarlyStopping counter: 2 out of 5\n",
            "EarlyStopping counter: 3 out of 5\n",
            "EarlyStopping counter: 4 out of 5\n",
            "EarlyStopping counter: 5 out of 5\n",
            "Early stopping\n",
            "tensor([[  10,    5],\n",
            "        [   9,    5],\n",
            "        [ 679,   57],\n",
            "        [ 537,   50],\n",
            "        [  21,    8],\n",
            "        [ 630,   55],\n",
            "        [  57,   15],\n",
            "        [  23,    9],\n",
            "        [ 825,   63],\n",
            "        [8665,  208],\n",
            "        [2053,  100],\n",
            "        [   7,    4],\n",
            "        [   7,    4],\n",
            "        [ 405,   43],\n",
            "        [   8,    4],\n",
            "        [   9,    5],\n",
            "        [ 145,   25],\n",
            "        [   7,    4],\n",
            "        [  43,   13],\n",
            "        [ 146,   25],\n",
            "        [  37,   12]])\n",
            "iteration:  6\n",
            "----------Method: Embedding for Categorical variational -------------\n",
            "Train size:  600000 ; Number of 0:  501021 ; Number of 1: 98979\n",
            "Val size:  200000 ; Number of 0:  168723 ; Number of 1: 31277\n",
            "EarlyStopping counter: 1 out of 5\n",
            "EarlyStopping counter: 2 out of 5\n",
            "EarlyStopping counter: 3 out of 5\n",
            "EarlyStopping counter: 4 out of 5\n",
            "EarlyStopping counter: 5 out of 5\n",
            "Early stopping\n",
            "tensor([[  10,    3],\n",
            "        [   9,    3],\n",
            "        [ 679,   40],\n",
            "        [ 537,   35],\n",
            "        [  21,    5],\n",
            "        [ 630,   38],\n",
            "        [  57,   10],\n",
            "        [  23,    6],\n",
            "        [ 825,   44],\n",
            "        [8665,  148],\n",
            "        [2053,   71],\n",
            "        [   7,    2],\n",
            "        [   7,    2],\n",
            "        [ 405,   30],\n",
            "        [   8,    3],\n",
            "        [   9,    3],\n",
            "        [ 145,   17],\n",
            "        [   7,    2],\n",
            "        [  43,    9],\n",
            "        [ 146,   17],\n",
            "        [  37,    8]])\n",
            "iteration:  7\n",
            "----------Method: Embedding for Categorical variational -------------\n",
            "Train size:  600000 ; Number of 0:  501021 ; Number of 1: 98979\n",
            "Val size:  200000 ; Number of 0:  168723 ; Number of 1: 31277\n",
            "EarlyStopping counter: 1 out of 5\n",
            "EarlyStopping counter: 2 out of 5\n",
            "EarlyStopping counter: 3 out of 5\n",
            "EarlyStopping counter: 4 out of 5\n",
            "EarlyStopping counter: 5 out of 5\n",
            "Early stopping\n",
            "tensor([[  10,    4],\n",
            "        [   9,    4],\n",
            "        [ 679,   48],\n",
            "        [ 537,   42],\n",
            "        [  21,    7],\n",
            "        [ 630,   46],\n",
            "        [  57,   12],\n",
            "        [  23,    7],\n",
            "        [ 825,   53],\n",
            "        [8665,  175],\n",
            "        [2053,   84],\n",
            "        [   7,    3],\n",
            "        [   7,    3],\n",
            "        [ 405,   36],\n",
            "        [   8,    3],\n",
            "        [   9,    4],\n",
            "        [ 145,   21],\n",
            "        [   7,    3],\n",
            "        [  43,   10],\n",
            "        [ 146,   21],\n",
            "        [  37,   10]])\n",
            "iteration:  8\n",
            "----------Method: Embedding for Categorical variational -------------\n",
            "Train size:  600000 ; Number of 0:  501021 ; Number of 1: 98979\n",
            "Val size:  200000 ; Number of 0:  168723 ; Number of 1: 31277\n",
            "EarlyStopping counter: 1 out of 5\n",
            "EarlyStopping counter: 2 out of 5\n",
            "EarlyStopping counter: 3 out of 5\n",
            "EarlyStopping counter: 4 out of 5\n",
            "EarlyStopping counter: 5 out of 5\n",
            "Early stopping\n",
            "tensor([[  10,    5],\n",
            "        [   9,    5],\n",
            "        [ 679,   57],\n",
            "        [ 537,   50],\n",
            "        [  21,    8],\n",
            "        [ 630,   54],\n",
            "        [  57,   15],\n",
            "        [  23,    9],\n",
            "        [ 825,   63],\n",
            "        [8665,  207],\n",
            "        [2053,  100],\n",
            "        [   7,    4],\n",
            "        [   7,    4],\n",
            "        [ 405,   43],\n",
            "        [   8,    4],\n",
            "        [   9,    5],\n",
            "        [ 145,   25],\n",
            "        [   7,    4],\n",
            "        [  43,   13],\n",
            "        [ 146,   25],\n",
            "        [  37,   12]])\n",
            "iteration:  9\n",
            "----------Method: Embedding for Categorical variational -------------\n",
            "Train size:  600000 ; Number of 0:  501021 ; Number of 1: 98979\n",
            "Val size:  200000 ; Number of 0:  168723 ; Number of 1: 31277\n",
            "EarlyStopping counter: 1 out of 5\n",
            "EarlyStopping counter: 2 out of 5\n",
            "EarlyStopping counter: 3 out of 5\n",
            "EarlyStopping counter: 4 out of 5\n",
            "EarlyStopping counter: 5 out of 5\n",
            "Early stopping\n",
            "tensor([[  10,    6],\n",
            "        [   9,    6],\n",
            "        [ 679,   64],\n",
            "        [ 537,   56],\n",
            "        [  21,   10],\n",
            "        [ 630,   61],\n",
            "        [  57,   17],\n",
            "        [  23,   10],\n",
            "        [ 825,   70],\n",
            "        [8665,  232],\n",
            "        [2053,  112],\n",
            "        [   7,    5],\n",
            "        [   7,    5],\n",
            "        [ 405,   49],\n",
            "        [   8,    5],\n",
            "        [   9,    6],\n",
            "        [ 145,   28],\n",
            "        [   7,    5],\n",
            "        [  43,   15],\n",
            "        [ 146,   28],\n",
            "        [  37,   13]])\n",
            "iteration:  10\n",
            "----------Method: Embedding for Categorical variational -------------\n",
            "Train size:  600000 ; Number of 0:  501021 ; Number of 1: 98979\n",
            "Val size:  200000 ; Number of 0:  168723 ; Number of 1: 31277\n",
            "EarlyStopping counter: 1 out of 5\n",
            "EarlyStopping counter: 1 out of 5\n",
            "EarlyStopping counter: 2 out of 5\n",
            "EarlyStopping counter: 1 out of 5\n",
            "EarlyStopping counter: 2 out of 5\n",
            "EarlyStopping counter: 3 out of 5\n",
            "EarlyStopping counter: 4 out of 5\n",
            "EarlyStopping counter: 5 out of 5\n",
            "Early stopping\n",
            "tensor([[  10,    7],\n",
            "        [   9,    6],\n",
            "        [ 679,   69],\n",
            "        [ 537,   61],\n",
            "        [  21,   10],\n",
            "        [ 630,   66],\n",
            "        [  57,   18],\n",
            "        [  23,   11],\n",
            "        [ 825,   76],\n",
            "        [8665,  250],\n",
            "        [2053,  121],\n",
            "        [   7,    5],\n",
            "        [   7,    5],\n",
            "        [ 405,   52],\n",
            "        [   8,    6],\n",
            "        [   9,    6],\n",
            "        [ 145,   31],\n",
            "        [   7,    5],\n",
            "        [  43,   16],\n",
            "        [ 146,   31],\n",
            "        [  37,   14]])\n",
            "iteration:  11\n",
            "----------Method: Embedding for Categorical variational -------------\n",
            "Train size:  600000 ; Number of 0:  501021 ; Number of 1: 98979\n",
            "Val size:  200000 ; Number of 0:  168723 ; Number of 1: 31277\n",
            "EarlyStopping counter: 1 out of 5\n",
            "EarlyStopping counter: 2 out of 5\n",
            "EarlyStopping counter: 3 out of 5\n",
            "EarlyStopping counter: 4 out of 5\n",
            "EarlyStopping counter: 1 out of 5\n",
            "EarlyStopping counter: 2 out of 5\n",
            "EarlyStopping counter: 3 out of 5\n",
            "EarlyStopping counter: 4 out of 5\n",
            "EarlyStopping counter: 5 out of 5\n",
            "Early stopping\n",
            "tensor([[  10,    5],\n",
            "        [   9,    4],\n",
            "        [ 679,   52],\n",
            "        [ 537,   46],\n",
            "        [  21,    7],\n",
            "        [ 630,   50],\n",
            "        [  57,   14],\n",
            "        [  23,    8],\n",
            "        [ 825,   57],\n",
            "        [8665,  191],\n",
            "        [2053,   92],\n",
            "        [   7,    3],\n",
            "        [   7,    3],\n",
            "        [ 405,   40],\n",
            "        [   8,    4],\n",
            "        [   9,    4],\n",
            "        [ 145,   23],\n",
            "        [   7,    3],\n",
            "        [  43,   12],\n",
            "        [ 146,   23],\n",
            "        [  37,   11]])\n",
            "iteration:  12\n",
            "----------Method: Embedding for Categorical variational -------------\n",
            "Train size:  600000 ; Number of 0:  501021 ; Number of 1: 98979\n",
            "Val size:  200000 ; Number of 0:  168723 ; Number of 1: 31277\n",
            "EarlyStopping counter: 1 out of 5\n",
            "EarlyStopping counter: 2 out of 5\n",
            "EarlyStopping counter: 3 out of 5\n",
            "EarlyStopping counter: 4 out of 5\n",
            "EarlyStopping counter: 5 out of 5\n",
            "Early stopping\n",
            "tensor([[  10,    3],\n",
            "        [   9,    3],\n",
            "        [ 679,   40],\n",
            "        [ 537,   35],\n",
            "        [  21,    5],\n",
            "        [ 630,   38],\n",
            "        [  57,   10],\n",
            "        [  23,    6],\n",
            "        [ 825,   44],\n",
            "        [8665,  147],\n",
            "        [2053,   70],\n",
            "        [   7,    2],\n",
            "        [   7,    2],\n",
            "        [ 405,   30],\n",
            "        [   8,    3],\n",
            "        [   9,    3],\n",
            "        [ 145,   17],\n",
            "        [   7,    2],\n",
            "        [  43,    8],\n",
            "        [ 146,   17],\n",
            "        [  37,    8]])\n",
            "iteration:  13\n",
            "----------Method: Embedding for Categorical variational -------------\n",
            "Train size:  600000 ; Number of 0:  501021 ; Number of 1: 98979\n",
            "Val size:  200000 ; Number of 0:  168723 ; Number of 1: 31277\n",
            "EarlyStopping counter: 1 out of 5\n",
            "EarlyStopping counter: 2 out of 5\n",
            "EarlyStopping counter: 3 out of 5\n",
            "EarlyStopping counter: 4 out of 5\n",
            "EarlyStopping counter: 5 out of 5\n",
            "Early stopping\n",
            "tensor([[  10,    4],\n",
            "        [   9,    4],\n",
            "        [ 679,   48],\n",
            "        [ 537,   43],\n",
            "        [  21,    7],\n",
            "        [ 630,   46],\n",
            "        [  57,   13],\n",
            "        [  23,    7],\n",
            "        [ 825,   53],\n",
            "        [8665,  178],\n",
            "        [2053,   86],\n",
            "        [   7,    3],\n",
            "        [   7,    3],\n",
            "        [ 405,   37],\n",
            "        [   8,    3],\n",
            "        [   9,    4],\n",
            "        [ 145,   21],\n",
            "        [   7,    3],\n",
            "        [  43,   11],\n",
            "        [ 146,   21],\n",
            "        [  37,   10]])\n",
            "iteration:  14\n",
            "----------Method: Embedding for Categorical variational -------------\n",
            "Train size:  600000 ; Number of 0:  501021 ; Number of 1: 98979\n",
            "Val size:  200000 ; Number of 0:  168723 ; Number of 1: 31277\n",
            "EarlyStopping counter: 1 out of 5\n",
            "EarlyStopping counter: 2 out of 5\n",
            "EarlyStopping counter: 3 out of 5\n",
            "EarlyStopping counter: 4 out of 5\n",
            "EarlyStopping counter: 5 out of 5\n",
            "Early stopping\n",
            "tensor([[  10,    7],\n",
            "        [   9,    7],\n",
            "        [ 679,   73],\n",
            "        [ 537,   64],\n",
            "        [  21,   11],\n",
            "        [ 630,   70],\n",
            "        [  57,   20],\n",
            "        [  23,   12],\n",
            "        [ 825,   80],\n",
            "        [8665,  265],\n",
            "        [2053,  128],\n",
            "        [   7,    6],\n",
            "        [   7,    6],\n",
            "        [ 405,   56],\n",
            "        [   8,    6],\n",
            "        [   9,    7],\n",
            "        [ 145,   32],\n",
            "        [   7,    6],\n",
            "        [  43,   17],\n",
            "        [ 146,   33],\n",
            "        [  37,   15]])\n",
            "iteration:  15\n",
            "----------Method: Embedding for Categorical variational -------------\n",
            "Train size:  600000 ; Number of 0:  501021 ; Number of 1: 98979\n",
            "Val size:  200000 ; Number of 0:  168723 ; Number of 1: 31277\n",
            "EarlyStopping counter: 1 out of 5\n",
            "EarlyStopping counter: 2 out of 5\n",
            "EarlyStopping counter: 3 out of 5\n",
            "EarlyStopping counter: 4 out of 5\n",
            "EarlyStopping counter: 1 out of 5\n",
            "EarlyStopping counter: 2 out of 5\n",
            "EarlyStopping counter: 3 out of 5\n",
            "EarlyStopping counter: 4 out of 5\n",
            "EarlyStopping counter: 5 out of 5\n",
            "Early stopping\n",
            "tensor([[  10,    4],\n",
            "        [   9,    3],\n",
            "        [ 679,   45],\n",
            "        [ 537,   40],\n",
            "        [  21,    6],\n",
            "        [ 630,   44],\n",
            "        [  57,   12],\n",
            "        [  23,    7],\n",
            "        [ 825,   50],\n",
            "        [8665,  167],\n",
            "        [2053,   80],\n",
            "        [   7,    3],\n",
            "        [   7,    3],\n",
            "        [ 405,   35],\n",
            "        [   8,    3],\n",
            "        [   9,    3],\n",
            "        [ 145,   20],\n",
            "        [   7,    3],\n",
            "        [  43,   10],\n",
            "        [ 146,   20],\n",
            "        [  37,    9]])\n",
            "iteration:  16\n",
            "----------Method: Embedding for Categorical variational -------------\n",
            "Train size:  600000 ; Number of 0:  501021 ; Number of 1: 98979\n",
            "Val size:  200000 ; Number of 0:  168723 ; Number of 1: 31277\n",
            "EarlyStopping counter: 1 out of 5\n",
            "EarlyStopping counter: 1 out of 5\n",
            "EarlyStopping counter: 2 out of 5\n",
            "EarlyStopping counter: 3 out of 5\n",
            "EarlyStopping counter: 4 out of 5\n",
            "EarlyStopping counter: 5 out of 5\n",
            "Early stopping\n",
            "tensor([[  10,    5],\n",
            "        [   9,    5],\n",
            "        [ 679,   55],\n",
            "        [ 537,   48],\n",
            "        [  21,    8],\n",
            "        [ 630,   53],\n",
            "        [  57,   14],\n",
            "        [  23,    8],\n",
            "        [ 825,   61],\n",
            "        [8665,  201],\n",
            "        [2053,   97],\n",
            "        [   7,    4],\n",
            "        [   7,    4],\n",
            "        [ 405,   42],\n",
            "        [   8,    4],\n",
            "        [   9,    5],\n",
            "        [ 145,   24],\n",
            "        [   7,    4],\n",
            "        [  43,   12],\n",
            "        [ 146,   24],\n",
            "        [  37,   11]])\n",
            "iteration:  17\n",
            "----------Method: Embedding for Categorical variational -------------\n",
            "Train size:  600000 ; Number of 0:  501021 ; Number of 1: 98979\n",
            "Val size:  200000 ; Number of 0:  168723 ; Number of 1: 31277\n",
            "EarlyStopping counter: 1 out of 5\n",
            "EarlyStopping counter: 2 out of 5\n",
            "EarlyStopping counter: 3 out of 5\n",
            "EarlyStopping counter: 4 out of 5\n",
            "EarlyStopping counter: 5 out of 5\n",
            "Early stopping\n",
            "tensor([[  10,    7],\n",
            "        [   9,    7],\n",
            "        [ 679,   73],\n",
            "        [ 537,   65],\n",
            "        [  21,   11],\n",
            "        [ 630,   71],\n",
            "        [  57,   20],\n",
            "        [  23,   12],\n",
            "        [ 825,   81],\n",
            "        [8665,  268],\n",
            "        [2053,  129],\n",
            "        [   7,    6],\n",
            "        [   7,    6],\n",
            "        [ 405,   56],\n",
            "        [   8,    6],\n",
            "        [   9,    7],\n",
            "        [ 145,   33],\n",
            "        [   7,    6],\n",
            "        [  43,   17],\n",
            "        [ 146,   33],\n",
            "        [  37,   16]])\n",
            "iteration:  18\n",
            "----------Method: Embedding for Categorical variational -------------\n",
            "Train size:  600000 ; Number of 0:  501021 ; Number of 1: 98979\n",
            "Val size:  200000 ; Number of 0:  168723 ; Number of 1: 31277\n",
            "EarlyStopping counter: 1 out of 5\n",
            "EarlyStopping counter: 2 out of 5\n",
            "EarlyStopping counter: 3 out of 5\n",
            "EarlyStopping counter: 4 out of 5\n",
            "EarlyStopping counter: 5 out of 5\n",
            "Early stopping\n",
            "tensor([[  10,    3],\n",
            "        [   9,    3],\n",
            "        [ 679,   38],\n",
            "        [ 537,   34],\n",
            "        [  21,    5],\n",
            "        [ 630,   37],\n",
            "        [  57,   10],\n",
            "        [  23,    5],\n",
            "        [ 825,   42],\n",
            "        [8665,  141],\n",
            "        [2053,   68],\n",
            "        [   7,    2],\n",
            "        [   7,    2],\n",
            "        [ 405,   29],\n",
            "        [   8,    2],\n",
            "        [   9,    3],\n",
            "        [ 145,   17],\n",
            "        [   7,    2],\n",
            "        [  43,    8],\n",
            "        [ 146,   17],\n",
            "        [  37,    7]])\n",
            "iteration:  19\n",
            "----------Method: Embedding for Categorical variational -------------\n",
            "Train size:  600000 ; Number of 0:  501021 ; Number of 1: 98979\n",
            "Val size:  200000 ; Number of 0:  168723 ; Number of 1: 31277\n",
            "EarlyStopping counter: 1 out of 5\n",
            "EarlyStopping counter: 2 out of 5\n",
            "EarlyStopping counter: 3 out of 5\n",
            "EarlyStopping counter: 4 out of 5\n",
            "EarlyStopping counter: 5 out of 5\n",
            "Early stopping\n"
          ]
        },
        {
          "data": {
            "text/plain": [
              "0"
            ]
          },
          "execution_count": 18,
          "metadata": {},
          "output_type": "execute_result"
        }
      ],
      "source": [
        "from sklearn.model_selection import ParameterSampler\n",
        "from scipy.stats import uniform\n",
        "\n",
        "embedding_pipeline=importlib.reload(embedding_pipeline)\n",
        "param_list=mlp.mlp_param_sampler(20, len(xtrain.columns),7,device)\n",
        "\n",
        "#This dataset has no continuous features\n",
        "normalization='None'\n",
        "xtrain_aux_cont=torch.tensor([])\n",
        "xval_aux_cont=torch.tensor([])\n",
        "\n",
        "xtrain_aux_cat=mlp_pipeline.normalization_transform(x_train,'None',[])\n",
        "xval_aux_cat=mlp_pipeline.normalization_transform(x_val,'None',[])\n",
        "method='variational'\n",
        "\n",
        "\n",
        "i=0\n",
        "alphas=list(ParameterSampler({'alpha': uniform(loc=1.5, scale=3-1.5 )}, n_iter=20, random_state=np.random.RandomState(7)))\n",
        "\n",
        "for params in param_list[i:]:\n",
        "        dims=embedding_pipeline.get_emb_dim_var(x_train,cat_cols,alphas[i]['alpha'])\n",
        "        dims=torch.tensor(dims,dtype=int).to(device)\n",
        "        print(dims)\n",
        "        # Fit pipeline\n",
        "        print('iteration: ',i)\n",
        "        \n",
        "        model=embedding_pipeline.pipeline_no_cat(device,xtrain_aux_cat,xtrain_aux_cont,xval_aux_cat,xval_aux_cont,ytrain,yval,params,method,dims)\n",
        "\n",
        "        #Save the model\n",
        "        joblib.dump(model,'/content/gdrive/MyDrive/Colab Notebooks/data/mlp_3_emb/mlp_simple{}{}.pkl'.format(method,i))\n",
        "\n",
        "        i=i+1\n",
        "\n",
        "gc.collect()"
      ]
    },
    {
      "cell_type": "code",
      "execution_count": null,
      "metadata": {
        "colab": {
          "base_uri": "https://localhost:8080/",
          "height": 1000,
          "referenced_widgets": [
            "1a3fdb94945944f6a9856e287713f16e",
            "f255c1e922ad456a8089eaab0d600d75",
            "02a1f19408de4d13b16a1a75da54fd7c",
            "cbe7a09a6761486f80e938a8b4b9cbd9",
            "f0c4bda9c4404c92961dff9de019b4bf",
            "bf774528038842d99f13430cd84e4d9c",
            "a4acd6a299b5434d969a551a63c6da08",
            "83d03426f5af4b5095e979cd0beca611",
            "a5526ddbd7c945b3aae885ad0802fa5c",
            "a5d5d732fa874edabd321ec56fd4dcaa",
            "3b5a7d1f801444a4b0f1eee908044832",
            "e6a2844d6bcc481fae084664a675db48",
            "ef7ba87a46684d13bb2f24d0eb3ee540",
            "b2953edc724440c28424ac3e754d1b9d",
            "15140d38e3f942c88bdf82f519039e3c",
            "574fd488528f4184b1fd19873d0c62f4",
            "8cba49e53d6e435d90bd64b898b45ed2",
            "fe7bc17e510d4708abc87fe5c116e192"
          ]
        },
        "id": "MNM91hUsWiYx",
        "outputId": "99459113-345a-4d6f-e965-ceded1ad5cca"
      },
      "outputs": [
        {
          "name": "stderr",
          "output_type": "stream",
          "text": [
            "/usr/local/lib/python3.8/dist-packages/pytorch_tabular/models/tab_transformer/config.py:219: UserWarning: Ignoring the deprecated arguments, `out_ff_layers`, `out_ff_activation`, `out_ff_dropoout`, and `out_ff_initialization` as head_config is passed.\n",
            "  warnings.warn(\n",
            "2023-02-12 15:19:13,693 - {pytorch_tabular.tabular_model:102} - INFO - Experiment Tracking is turned off\n",
            "INFO:pytorch_tabular.tabular_model:Experiment Tracking is turned off\n",
            "INFO:lightning_lite.utilities.seed:Global seed set to 42\n",
            "2023-02-12 15:19:13,883 - {pytorch_tabular.tabular_model:465} - INFO - Preparing the DataLoaders\n",
            "INFO:pytorch_tabular.tabular_model:Preparing the DataLoaders\n",
            "2023-02-12 15:19:14,023 - {pytorch_tabular.tabular_datamodule:286} - INFO - Setting up the datamodule for classification task\n",
            "INFO:pytorch_tabular.tabular_datamodule:Setting up the datamodule for classification task\n",
            "2023-02-12 15:19:17,054 - {pytorch_tabular.tabular_model:508} - INFO - Preparing the Model: TabTransformerModel\n",
            "INFO:pytorch_tabular.tabular_model:Preparing the Model: TabTransformerModel\n",
            "/usr/local/lib/python3.8/dist-packages/pytorch_tabular/models/base_model.py:126: UserWarning: Wandb is not installed. Please install wandb to log logits. You can install wandb using pip install wandb or install PyTorch Tabular using pip install pytorch-tabular[all]\n",
            "  warnings.warn(\n",
            "2023-02-12 15:19:17,903 - {pytorch_tabular.tabular_model:264} - INFO - Preparing the Trainer\n",
            "INFO:pytorch_tabular.tabular_model:Preparing the Trainer\n",
            "INFO:pytorch_lightning.trainer.connectors.accelerator_connector:Auto select gpus: [0]\n",
            "INFO:pytorch_lightning.utilities.rank_zero:GPU available: True (cuda), used: True\n",
            "INFO:pytorch_lightning.utilities.rank_zero:TPU available: False, using: 0 TPU cores\n",
            "INFO:pytorch_lightning.utilities.rank_zero:IPU available: False, using: 0 IPUs\n",
            "INFO:pytorch_lightning.utilities.rank_zero:HPU available: False, using: 0 HPUs\n",
            "2023-02-12 15:19:22,288 - {pytorch_tabular.tabular_model:566} - INFO - Training Started\n",
            "INFO:pytorch_tabular.tabular_model:Training Started\n",
            "INFO:pytorch_lightning.accelerators.cuda:LOCAL_RANK: 0 - CUDA_VISIBLE_DEVICES: [0]\n"
          ]
        },
        {
          "data": {
            "text/html": [
              "<pre style=\"white-space:pre;overflow-x:auto;line-height:normal;font-family:Menlo,'DejaVu Sans Mono',consolas,'Courier New',monospace\">┏━━━┳━━━━━━━━━━━━━━━━━━┳━━━━━━━━━━━━━━━━━━━━━━━━┳━━━━━━━━┓\n",
              "┃<span style=\"color: #800080; text-decoration-color: #800080; font-weight: bold\">   </span>┃<span style=\"color: #800080; text-decoration-color: #800080; font-weight: bold\"> Name             </span>┃<span style=\"color: #800080; text-decoration-color: #800080; font-weight: bold\"> Type                   </span>┃<span style=\"color: #800080; text-decoration-color: #800080; font-weight: bold\"> Params </span>┃\n",
              "┡━━━╇━━━━━━━━━━━━━━━━━━╇━━━━━━━━━━━━━━━━━━━━━━━━╇━━━━━━━━┩\n",
              "│<span style=\"color: #7f7f7f; text-decoration-color: #7f7f7f\"> 0 </span>│ _backbone        │ TabTransformerBackbone │  541 K │\n",
              "│<span style=\"color: #7f7f7f; text-decoration-color: #7f7f7f\"> 1 </span>│ _embedding_layer │ Embedding2dLayer       │ 16.7 M │\n",
              "│<span style=\"color: #7f7f7f; text-decoration-color: #7f7f7f\"> 2 </span>│ _head            │ LinearHead             │ 18.1 M │\n",
              "│<span style=\"color: #7f7f7f; text-decoration-color: #7f7f7f\"> 3 </span>│ loss             │ CrossEntropyLoss       │      0 │\n",
              "└───┴──────────────────┴────────────────────────┴────────┘\n",
              "</pre>\n"
            ],
            "text/plain": [
              "┏━━━┳━━━━━━━━━━━━━━━━━━┳━━━━━━━━━━━━━━━━━━━━━━━━┳━━━━━━━━┓\n",
              "┃\u001b[1;35m \u001b[0m\u001b[1;35m \u001b[0m\u001b[1;35m \u001b[0m┃\u001b[1;35m \u001b[0m\u001b[1;35mName            \u001b[0m\u001b[1;35m \u001b[0m┃\u001b[1;35m \u001b[0m\u001b[1;35mType                  \u001b[0m\u001b[1;35m \u001b[0m┃\u001b[1;35m \u001b[0m\u001b[1;35mParams\u001b[0m\u001b[1;35m \u001b[0m┃\n",
              "┡━━━╇━━━━━━━━━━━━━━━━━━╇━━━━━━━━━━━━━━━━━━━━━━━━╇━━━━━━━━┩\n",
              "│\u001b[2m \u001b[0m\u001b[2m0\u001b[0m\u001b[2m \u001b[0m│ _backbone        │ TabTransformerBackbone │  541 K │\n",
              "│\u001b[2m \u001b[0m\u001b[2m1\u001b[0m\u001b[2m \u001b[0m│ _embedding_layer │ Embedding2dLayer       │ 16.7 M │\n",
              "│\u001b[2m \u001b[0m\u001b[2m2\u001b[0m\u001b[2m \u001b[0m│ _head            │ LinearHead             │ 18.1 M │\n",
              "│\u001b[2m \u001b[0m\u001b[2m3\u001b[0m\u001b[2m \u001b[0m│ loss             │ CrossEntropyLoss       │      0 │\n",
              "└───┴──────────────────┴────────────────────────┴────────┘\n"
            ]
          },
          "metadata": {},
          "output_type": "display_data"
        },
        {
          "data": {
            "text/html": [
              "<pre style=\"white-space:pre;overflow-x:auto;line-height:normal;font-family:Menlo,'DejaVu Sans Mono',consolas,'Courier New',monospace\"><span style=\"font-weight: bold\">Trainable params</span>: 35.3 M                                                                                           \n",
              "<span style=\"font-weight: bold\">Non-trainable params</span>: 0                                                                                            \n",
              "<span style=\"font-weight: bold\">Total params</span>: 35.3 M                                                                                               \n",
              "<span style=\"font-weight: bold\">Total estimated model params size (MB)</span>: 141                                                                        \n",
              "</pre>\n"
            ],
            "text/plain": [
              "\u001b[1mTrainable params\u001b[0m: 35.3 M                                                                                           \n",
              "\u001b[1mNon-trainable params\u001b[0m: 0                                                                                            \n",
              "\u001b[1mTotal params\u001b[0m: 35.3 M                                                                                               \n",
              "\u001b[1mTotal estimated model params size (MB)\u001b[0m: 141                                                                        \n"
            ]
          },
          "metadata": {},
          "output_type": "display_data"
        },
        {
          "data": {
            "application/vnd.jupyter.widget-view+json": {
              "model_id": "1a3fdb94945944f6a9856e287713f16e",
              "version_major": 2,
              "version_minor": 0
            },
            "text/plain": [
              "Output()"
            ]
          },
          "metadata": {},
          "output_type": "display_data"
        },
        {
          "data": {
            "text/html": [
              "<pre style=\"white-space:pre;overflow-x:auto;line-height:normal;font-family:Menlo,'DejaVu Sans Mono',consolas,'Courier New',monospace\"></pre>\n"
            ],
            "text/plain": []
          },
          "metadata": {},
          "output_type": "display_data"
        },
        {
          "data": {
            "text/html": [
              "<pre style=\"white-space:pre;overflow-x:auto;line-height:normal;font-family:Menlo,'DejaVu Sans Mono',consolas,'Courier New',monospace\">\n",
              "</pre>\n"
            ],
            "text/plain": [
              "\n"
            ]
          },
          "metadata": {},
          "output_type": "display_data"
        },
        {
          "name": "stderr",
          "output_type": "stream",
          "text": [
            "2023-02-12 15:40:29,588 - {pytorch_tabular.tabular_model:568} - INFO - Training the model completed\n",
            "INFO:pytorch_tabular.tabular_model:Training the model completed\n",
            "2023-02-12 15:40:29,592 - {pytorch_tabular.tabular_model:1207} - INFO - Loading the best model\n",
            "INFO:pytorch_tabular.tabular_model:Loading the best model\n"
          ]
        },
        {
          "name": "stdout",
          "output_type": "stream",
          "text": [
            "5 epochs running time: 1276.0822083950043\n"
          ]
        },
        {
          "data": {
            "application/vnd.jupyter.widget-view+json": {
              "model_id": "02a1f19408de4d13b16a1a75da54fd7c",
              "version_major": 2,
              "version_minor": 0
            },
            "text/plain": [
              "Output()"
            ]
          },
          "metadata": {},
          "output_type": "display_data"
        },
        {
          "data": {
            "text/html": [
              "<pre style=\"white-space:pre;overflow-x:auto;line-height:normal;font-family:Menlo,'DejaVu Sans Mono',consolas,'Courier New',monospace\"></pre>\n"
            ],
            "text/plain": []
          },
          "metadata": {},
          "output_type": "display_data"
        },
        {
          "data": {
            "text/html": [
              "<pre style=\"white-space:pre;overflow-x:auto;line-height:normal;font-family:Menlo,'DejaVu Sans Mono',consolas,'Courier New',monospace\">\n",
              "</pre>\n"
            ],
            "text/plain": [
              "\n"
            ]
          },
          "metadata": {},
          "output_type": "display_data"
        },
        {
          "data": {
            "application/vnd.jupyter.widget-view+json": {
              "model_id": "f0c4bda9c4404c92961dff9de019b4bf",
              "version_major": 2,
              "version_minor": 0
            },
            "text/plain": [
              "Output()"
            ]
          },
          "metadata": {},
          "output_type": "display_data"
        },
        {
          "data": {
            "text/html": [
              "<pre style=\"white-space:pre;overflow-x:auto;line-height:normal;font-family:Menlo,'DejaVu Sans Mono',consolas,'Courier New',monospace\"></pre>\n"
            ],
            "text/plain": []
          },
          "metadata": {},
          "output_type": "display_data"
        },
        {
          "data": {
            "text/html": [
              "<pre style=\"white-space:pre;overflow-x:auto;line-height:normal;font-family:Menlo,'DejaVu Sans Mono',consolas,'Courier New',monospace\">\n",
              "</pre>\n"
            ],
            "text/plain": [
              "\n"
            ]
          },
          "metadata": {},
          "output_type": "display_data"
        },
        {
          "name": "stderr",
          "output_type": "stream",
          "text": [
            "2023-02-12 15:50:47,591 - {pytorch_tabular.tabular_model:102} - INFO - Experiment Tracking is turned off\n",
            "INFO:pytorch_tabular.tabular_model:Experiment Tracking is turned off\n",
            "INFO:lightning_lite.utilities.seed:Global seed set to 42\n",
            "2023-02-12 15:50:47,670 - {pytorch_tabular.tabular_model:465} - INFO - Preparing the DataLoaders\n",
            "INFO:pytorch_tabular.tabular_model:Preparing the DataLoaders\n",
            "2023-02-12 15:50:47,733 - {pytorch_tabular.tabular_datamodule:286} - INFO - Setting up the datamodule for classification task\n",
            "INFO:pytorch_tabular.tabular_datamodule:Setting up the datamodule for classification task\n",
            "2023-02-12 15:50:49,546 - {pytorch_tabular.tabular_model:508} - INFO - Preparing the Model: TabTransformerModel\n",
            "INFO:pytorch_tabular.tabular_model:Preparing the Model: TabTransformerModel\n",
            "2023-02-12 15:50:49,718 - {pytorch_tabular.tabular_model:264} - INFO - Preparing the Trainer\n",
            "INFO:pytorch_tabular.tabular_model:Preparing the Trainer\n",
            "INFO:pytorch_lightning.trainer.connectors.accelerator_connector:Auto select gpus: [0]\n",
            "INFO:pytorch_lightning.utilities.rank_zero:GPU available: True (cuda), used: True\n",
            "INFO:pytorch_lightning.utilities.rank_zero:TPU available: False, using: 0 TPU cores\n",
            "INFO:pytorch_lightning.utilities.rank_zero:IPU available: False, using: 0 IPUs\n",
            "INFO:pytorch_lightning.utilities.rank_zero:HPU available: False, using: 0 HPUs\n",
            "2023-02-12 15:50:49,977 - {pytorch_tabular.tabular_model:566} - INFO - Training Started\n",
            "INFO:pytorch_tabular.tabular_model:Training Started\n",
            "/usr/local/lib/python3.8/dist-packages/pytorch_lightning/callbacks/model_checkpoint.py:604: UserWarning: Checkpoint directory /content/saved_models exists and is not empty.\n",
            "  rank_zero_warn(f\"Checkpoint directory {dirpath} exists and is not empty.\")\n",
            "INFO:pytorch_lightning.accelerators.cuda:LOCAL_RANK: 0 - CUDA_VISIBLE_DEVICES: [0]\n"
          ]
        },
        {
          "data": {
            "text/html": [
              "<pre style=\"white-space:pre;overflow-x:auto;line-height:normal;font-family:Menlo,'DejaVu Sans Mono',consolas,'Courier New',monospace\">┏━━━┳━━━━━━━━━━━━━━━━━━┳━━━━━━━━━━━━━━━━━━━━━━━━┳━━━━━━━━┓\n",
              "┃<span style=\"color: #800080; text-decoration-color: #800080; font-weight: bold\">   </span>┃<span style=\"color: #800080; text-decoration-color: #800080; font-weight: bold\"> Name             </span>┃<span style=\"color: #800080; text-decoration-color: #800080; font-weight: bold\"> Type                   </span>┃<span style=\"color: #800080; text-decoration-color: #800080; font-weight: bold\"> Params </span>┃\n",
              "┡━━━╇━━━━━━━━━━━━━━━━━━╇━━━━━━━━━━━━━━━━━━━━━━━━╇━━━━━━━━┩\n",
              "│<span style=\"color: #7f7f7f; text-decoration-color: #7f7f7f\"> 0 </span>│ _backbone        │ TabTransformerBackbone │  8.6 K │\n",
              "│<span style=\"color: #7f7f7f; text-decoration-color: #7f7f7f\"> 1 </span>│ _embedding_layer │ Embedding2dLayer       │  2.1 M │\n",
              "│<span style=\"color: #7f7f7f; text-decoration-color: #7f7f7f\"> 2 </span>│ _head            │ LinearHead             │  285 K │\n",
              "│<span style=\"color: #7f7f7f; text-decoration-color: #7f7f7f\"> 3 </span>│ loss             │ CrossEntropyLoss       │      0 │\n",
              "└───┴──────────────────┴────────────────────────┴────────┘\n",
              "</pre>\n"
            ],
            "text/plain": [
              "┏━━━┳━━━━━━━━━━━━━━━━━━┳━━━━━━━━━━━━━━━━━━━━━━━━┳━━━━━━━━┓\n",
              "┃\u001b[1;35m \u001b[0m\u001b[1;35m \u001b[0m\u001b[1;35m \u001b[0m┃\u001b[1;35m \u001b[0m\u001b[1;35mName            \u001b[0m\u001b[1;35m \u001b[0m┃\u001b[1;35m \u001b[0m\u001b[1;35mType                  \u001b[0m\u001b[1;35m \u001b[0m┃\u001b[1;35m \u001b[0m\u001b[1;35mParams\u001b[0m\u001b[1;35m \u001b[0m┃\n",
              "┡━━━╇━━━━━━━━━━━━━━━━━━╇━━━━━━━━━━━━━━━━━━━━━━━━╇━━━━━━━━┩\n",
              "│\u001b[2m \u001b[0m\u001b[2m0\u001b[0m\u001b[2m \u001b[0m│ _backbone        │ TabTransformerBackbone │  8.6 K │\n",
              "│\u001b[2m \u001b[0m\u001b[2m1\u001b[0m\u001b[2m \u001b[0m│ _embedding_layer │ Embedding2dLayer       │  2.1 M │\n",
              "│\u001b[2m \u001b[0m\u001b[2m2\u001b[0m\u001b[2m \u001b[0m│ _head            │ LinearHead             │  285 K │\n",
              "│\u001b[2m \u001b[0m\u001b[2m3\u001b[0m\u001b[2m \u001b[0m│ loss             │ CrossEntropyLoss       │      0 │\n",
              "└───┴──────────────────┴────────────────────────┴────────┘\n"
            ]
          },
          "metadata": {},
          "output_type": "display_data"
        },
        {
          "data": {
            "text/html": [
              "<pre style=\"white-space:pre;overflow-x:auto;line-height:normal;font-family:Menlo,'DejaVu Sans Mono',consolas,'Courier New',monospace\"><span style=\"font-weight: bold\">Trainable params</span>: 2.4 M                                                                                            \n",
              "<span style=\"font-weight: bold\">Non-trainable params</span>: 0                                                                                            \n",
              "<span style=\"font-weight: bold\">Total params</span>: 2.4 M                                                                                                \n",
              "<span style=\"font-weight: bold\">Total estimated model params size (MB)</span>: 9                                                                          \n",
              "</pre>\n"
            ],
            "text/plain": [
              "\u001b[1mTrainable params\u001b[0m: 2.4 M                                                                                            \n",
              "\u001b[1mNon-trainable params\u001b[0m: 0                                                                                            \n",
              "\u001b[1mTotal params\u001b[0m: 2.4 M                                                                                                \n",
              "\u001b[1mTotal estimated model params size (MB)\u001b[0m: 9                                                                          \n"
            ]
          },
          "metadata": {},
          "output_type": "display_data"
        },
        {
          "data": {
            "application/vnd.jupyter.widget-view+json": {
              "model_id": "a4acd6a299b5434d969a551a63c6da08",
              "version_major": 2,
              "version_minor": 0
            },
            "text/plain": [
              "Output()"
            ]
          },
          "metadata": {},
          "output_type": "display_data"
        },
        {
          "data": {
            "text/html": [
              "<pre style=\"white-space:pre;overflow-x:auto;line-height:normal;font-family:Menlo,'DejaVu Sans Mono',consolas,'Courier New',monospace\"></pre>\n"
            ],
            "text/plain": []
          },
          "metadata": {},
          "output_type": "display_data"
        },
        {
          "data": {
            "text/html": [
              "<pre style=\"white-space:pre;overflow-x:auto;line-height:normal;font-family:Menlo,'DejaVu Sans Mono',consolas,'Courier New',monospace\">\n",
              "</pre>\n"
            ],
            "text/plain": [
              "\n"
            ]
          },
          "metadata": {},
          "output_type": "display_data"
        },
        {
          "name": "stderr",
          "output_type": "stream",
          "text": [
            "2023-02-12 15:54:35,049 - {pytorch_tabular.tabular_model:568} - INFO - Training the model completed\n",
            "INFO:pytorch_tabular.tabular_model:Training the model completed\n",
            "2023-02-12 15:54:35,053 - {pytorch_tabular.tabular_model:1207} - INFO - Loading the best model\n",
            "INFO:pytorch_tabular.tabular_model:Loading the best model\n"
          ]
        },
        {
          "name": "stdout",
          "output_type": "stream",
          "text": [
            "5 epochs running time: 227.4694640636444\n"
          ]
        },
        {
          "data": {
            "application/vnd.jupyter.widget-view+json": {
              "model_id": "a5526ddbd7c945b3aae885ad0802fa5c",
              "version_major": 2,
              "version_minor": 0
            },
            "text/plain": [
              "Output()"
            ]
          },
          "metadata": {},
          "output_type": "display_data"
        },
        {
          "data": {
            "text/html": [
              "<pre style=\"white-space:pre;overflow-x:auto;line-height:normal;font-family:Menlo,'DejaVu Sans Mono',consolas,'Courier New',monospace\"></pre>\n"
            ],
            "text/plain": []
          },
          "metadata": {},
          "output_type": "display_data"
        },
        {
          "data": {
            "text/html": [
              "<pre style=\"white-space:pre;overflow-x:auto;line-height:normal;font-family:Menlo,'DejaVu Sans Mono',consolas,'Courier New',monospace\">\n",
              "</pre>\n"
            ],
            "text/plain": [
              "\n"
            ]
          },
          "metadata": {},
          "output_type": "display_data"
        },
        {
          "data": {
            "application/vnd.jupyter.widget-view+json": {
              "model_id": "3b5a7d1f801444a4b0f1eee908044832",
              "version_major": 2,
              "version_minor": 0
            },
            "text/plain": [
              "Output()"
            ]
          },
          "metadata": {},
          "output_type": "display_data"
        },
        {
          "data": {
            "text/html": [
              "<pre style=\"white-space:pre;overflow-x:auto;line-height:normal;font-family:Menlo,'DejaVu Sans Mono',consolas,'Courier New',monospace\"></pre>\n"
            ],
            "text/plain": []
          },
          "metadata": {},
          "output_type": "display_data"
        },
        {
          "data": {
            "text/html": [
              "<pre style=\"white-space:pre;overflow-x:auto;line-height:normal;font-family:Menlo,'DejaVu Sans Mono',consolas,'Courier New',monospace\">\n",
              "</pre>\n"
            ],
            "text/plain": [
              "\n"
            ]
          },
          "metadata": {},
          "output_type": "display_data"
        },
        {
          "name": "stderr",
          "output_type": "stream",
          "text": [
            "2023-02-12 15:55:59,747 - {pytorch_tabular.tabular_model:102} - INFO - Experiment Tracking is turned off\n",
            "INFO:pytorch_tabular.tabular_model:Experiment Tracking is turned off\n",
            "INFO:lightning_lite.utilities.seed:Global seed set to 42\n",
            "2023-02-12 15:55:59,826 - {pytorch_tabular.tabular_model:465} - INFO - Preparing the DataLoaders\n",
            "INFO:pytorch_tabular.tabular_model:Preparing the DataLoaders\n",
            "2023-02-12 15:55:59,891 - {pytorch_tabular.tabular_datamodule:286} - INFO - Setting up the datamodule for classification task\n",
            "INFO:pytorch_tabular.tabular_datamodule:Setting up the datamodule for classification task\n",
            "2023-02-12 15:56:01,851 - {pytorch_tabular.tabular_model:508} - INFO - Preparing the Model: TabTransformerModel\n",
            "INFO:pytorch_tabular.tabular_model:Preparing the Model: TabTransformerModel\n",
            "2023-02-12 15:56:02,725 - {pytorch_tabular.tabular_model:264} - INFO - Preparing the Trainer\n",
            "INFO:pytorch_tabular.tabular_model:Preparing the Trainer\n",
            "INFO:pytorch_lightning.trainer.connectors.accelerator_connector:Auto select gpus: [0]\n",
            "INFO:pytorch_lightning.utilities.rank_zero:GPU available: True (cuda), used: True\n",
            "INFO:pytorch_lightning.utilities.rank_zero:TPU available: False, using: 0 TPU cores\n",
            "INFO:pytorch_lightning.utilities.rank_zero:IPU available: False, using: 0 IPUs\n",
            "INFO:pytorch_lightning.utilities.rank_zero:HPU available: False, using: 0 HPUs\n",
            "2023-02-12 15:56:03,055 - {pytorch_tabular.tabular_model:566} - INFO - Training Started\n",
            "INFO:pytorch_tabular.tabular_model:Training Started\n",
            "INFO:pytorch_lightning.accelerators.cuda:LOCAL_RANK: 0 - CUDA_VISIBLE_DEVICES: [0]\n"
          ]
        },
        {
          "data": {
            "text/html": [
              "<pre style=\"white-space:pre;overflow-x:auto;line-height:normal;font-family:Menlo,'DejaVu Sans Mono',consolas,'Courier New',monospace\">┏━━━┳━━━━━━━━━━━━━━━━━━┳━━━━━━━━━━━━━━━━━━━━━━━━┳━━━━━━━━┓\n",
              "┃<span style=\"color: #800080; text-decoration-color: #800080; font-weight: bold\">   </span>┃<span style=\"color: #800080; text-decoration-color: #800080; font-weight: bold\"> Name             </span>┃<span style=\"color: #800080; text-decoration-color: #800080; font-weight: bold\"> Type                   </span>┃<span style=\"color: #800080; text-decoration-color: #800080; font-weight: bold\"> Params </span>┃\n",
              "┡━━━╇━━━━━━━━━━━━━━━━━━╇━━━━━━━━━━━━━━━━━━━━━━━━╇━━━━━━━━┩\n",
              "│<span style=\"color: #7f7f7f; text-decoration-color: #7f7f7f\"> 0 </span>│ _backbone        │ TabTransformerBackbone │  164 K │\n",
              "│<span style=\"color: #7f7f7f; text-decoration-color: #7f7f7f\"> 1 </span>│ _embedding_layer │ Embedding2dLayer       │ 16.7 M │\n",
              "│<span style=\"color: #7f7f7f; text-decoration-color: #7f7f7f\"> 2 </span>│ _head            │ LinearHead             │ 18.1 M │\n",
              "│<span style=\"color: #7f7f7f; text-decoration-color: #7f7f7f\"> 3 </span>│ loss             │ CrossEntropyLoss       │      0 │\n",
              "└───┴──────────────────┴────────────────────────┴────────┘\n",
              "</pre>\n"
            ],
            "text/plain": [
              "┏━━━┳━━━━━━━━━━━━━━━━━━┳━━━━━━━━━━━━━━━━━━━━━━━━┳━━━━━━━━┓\n",
              "┃\u001b[1;35m \u001b[0m\u001b[1;35m \u001b[0m\u001b[1;35m \u001b[0m┃\u001b[1;35m \u001b[0m\u001b[1;35mName            \u001b[0m\u001b[1;35m \u001b[0m┃\u001b[1;35m \u001b[0m\u001b[1;35mType                  \u001b[0m\u001b[1;35m \u001b[0m┃\u001b[1;35m \u001b[0m\u001b[1;35mParams\u001b[0m\u001b[1;35m \u001b[0m┃\n",
              "┡━━━╇━━━━━━━━━━━━━━━━━━╇━━━━━━━━━━━━━━━━━━━━━━━━╇━━━━━━━━┩\n",
              "│\u001b[2m \u001b[0m\u001b[2m0\u001b[0m\u001b[2m \u001b[0m│ _backbone        │ TabTransformerBackbone │  164 K │\n",
              "│\u001b[2m \u001b[0m\u001b[2m1\u001b[0m\u001b[2m \u001b[0m│ _embedding_layer │ Embedding2dLayer       │ 16.7 M │\n",
              "│\u001b[2m \u001b[0m\u001b[2m2\u001b[0m\u001b[2m \u001b[0m│ _head            │ LinearHead             │ 18.1 M │\n",
              "│\u001b[2m \u001b[0m\u001b[2m3\u001b[0m\u001b[2m \u001b[0m│ loss             │ CrossEntropyLoss       │      0 │\n",
              "└───┴──────────────────┴────────────────────────┴────────┘\n"
            ]
          },
          "metadata": {},
          "output_type": "display_data"
        },
        {
          "data": {
            "text/html": [
              "<pre style=\"white-space:pre;overflow-x:auto;line-height:normal;font-family:Menlo,'DejaVu Sans Mono',consolas,'Courier New',monospace\"><span style=\"font-weight: bold\">Trainable params</span>: 34.9 M                                                                                           \n",
              "<span style=\"font-weight: bold\">Non-trainable params</span>: 0                                                                                            \n",
              "<span style=\"font-weight: bold\">Total params</span>: 34.9 M                                                                                               \n",
              "<span style=\"font-weight: bold\">Total estimated model params size (MB)</span>: 139                                                                        \n",
              "</pre>\n"
            ],
            "text/plain": [
              "\u001b[1mTrainable params\u001b[0m: 34.9 M                                                                                           \n",
              "\u001b[1mNon-trainable params\u001b[0m: 0                                                                                            \n",
              "\u001b[1mTotal params\u001b[0m: 34.9 M                                                                                               \n",
              "\u001b[1mTotal estimated model params size (MB)\u001b[0m: 139                                                                        \n"
            ]
          },
          "metadata": {},
          "output_type": "display_data"
        },
        {
          "data": {
            "application/vnd.jupyter.widget-view+json": {
              "model_id": "ef7ba87a46684d13bb2f24d0eb3ee540",
              "version_major": 2,
              "version_minor": 0
            },
            "text/plain": [
              "Output()"
            ]
          },
          "metadata": {},
          "output_type": "display_data"
        },
        {
          "data": {
            "text/html": [
              "<pre style=\"white-space:pre;overflow-x:auto;line-height:normal;font-family:Menlo,'DejaVu Sans Mono',consolas,'Courier New',monospace\"></pre>\n"
            ],
            "text/plain": []
          },
          "metadata": {},
          "output_type": "display_data"
        },
        {
          "data": {
            "text/html": [
              "<pre style=\"white-space:pre;overflow-x:auto;line-height:normal;font-family:Menlo,'DejaVu Sans Mono',consolas,'Courier New',monospace\">\n",
              "</pre>\n"
            ],
            "text/plain": [
              "\n"
            ]
          },
          "metadata": {},
          "output_type": "display_data"
        },
        {
          "name": "stderr",
          "output_type": "stream",
          "text": [
            "2023-02-12 16:22:16,443 - {pytorch_tabular.tabular_model:568} - INFO - Training the model completed\n",
            "INFO:pytorch_tabular.tabular_model:Training the model completed\n",
            "2023-02-12 16:22:16,447 - {pytorch_tabular.tabular_model:1207} - INFO - Loading the best model\n",
            "INFO:pytorch_tabular.tabular_model:Loading the best model\n"
          ]
        },
        {
          "name": "stdout",
          "output_type": "stream",
          "text": [
            "5 epochs running time: 1576.9821319580078\n"
          ]
        },
        {
          "data": {
            "application/vnd.jupyter.widget-view+json": {
              "model_id": "15140d38e3f942c88bdf82f519039e3c",
              "version_major": 2,
              "version_minor": 0
            },
            "text/plain": [
              "Output()"
            ]
          },
          "metadata": {},
          "output_type": "display_data"
        },
        {
          "data": {
            "text/html": [
              "<pre style=\"white-space:pre;overflow-x:auto;line-height:normal;font-family:Menlo,'DejaVu Sans Mono',consolas,'Courier New',monospace\"></pre>\n"
            ],
            "text/plain": []
          },
          "metadata": {},
          "output_type": "display_data"
        },
        {
          "data": {
            "text/html": [
              "<pre style=\"white-space:pre;overflow-x:auto;line-height:normal;font-family:Menlo,'DejaVu Sans Mono',consolas,'Courier New',monospace\">\n",
              "</pre>\n"
            ],
            "text/plain": [
              "\n"
            ]
          },
          "metadata": {},
          "output_type": "display_data"
        },
        {
          "data": {
            "application/vnd.jupyter.widget-view+json": {
              "model_id": "8cba49e53d6e435d90bd64b898b45ed2",
              "version_major": 2,
              "version_minor": 0
            },
            "text/plain": [
              "Output()"
            ]
          },
          "metadata": {},
          "output_type": "display_data"
        },
        {
          "data": {
            "text/html": [
              "<pre style=\"white-space:pre;overflow-x:auto;line-height:normal;font-family:Menlo,'DejaVu Sans Mono',consolas,'Courier New',monospace\"></pre>\n"
            ],
            "text/plain": []
          },
          "metadata": {},
          "output_type": "display_data"
        },
        {
          "data": {
            "text/html": [
              "<pre style=\"white-space:pre;overflow-x:auto;line-height:normal;font-family:Menlo,'DejaVu Sans Mono',consolas,'Courier New',monospace\">\n",
              "</pre>\n"
            ],
            "text/plain": [
              "\n"
            ]
          },
          "metadata": {},
          "output_type": "display_data"
        }
      ],
      "source": [
        "import tabtransformer\n",
        "tabtransformer=importlib.reload(tabtransformer)\n",
        "\n",
        "cat_cols=['C1', 'banner_pos', 'site_id', 'site_domain', 'site_category', 'app_id',\n",
        "       'app_domain', 'app_category', 'device_id', 'device_ip', 'device_model',\n",
        "       'device_type', 'device_conn_type', 'C14', 'C15', 'C16', 'C17', 'C18',\n",
        "       'C19', 'C20', 'C21']\n",
        "\n",
        "params=tabtransformer.tabtransformer_param_sampler(20,7,device)\n",
        "\n",
        "for i in [5,12,17]:\n",
        "  param=params[i]\n",
        "  model=tabtransformer.transformer_pipeline(param,cat_cols,[],['click'],xtrain,xval,ytrain,yval,'gpu')\n",
        "  joblib.dump(model,'/content/gdrive/MyDrive/aux/CTR_tabtransformer/tabtransformerCTR_{}'.format(i))\n",
        "  predict_val=model.predict(xval)['1_probability']\n",
        "  predict_test=model.predict(xtest)['1_probability']\n",
        "  joblib.dump(predict_val,'/content/gdrive/MyDrive/aux/CTR_tabtransformer/yval_{}'.format(i))\n",
        "\n",
        "  joblib.dump(predict_test,'/content/gdrive/MyDrive/aux/CTR_tabtransformer/yhat_{}'.format(i))\n",
        "\n"
      ]
    }
  ],
  "metadata": {
    "accelerator": "GPU",
    "colab": {
      "collapsed_sections": [
        "JYiLlNpq5hi8"
      ],
      "provenance": []
    },
    "gpuClass": "standard",
    "kernelspec": {
      "display_name": "Python 3 (ipykernel)",
      "language": "python",
      "name": "python3"
    },
    "language_info": {
      "codemirror_mode": {
        "name": "ipython",
        "version": 3
      },
      "file_extension": ".py",
      "mimetype": "text/x-python",
      "name": "python",
      "nbconvert_exporter": "python",
      "pygments_lexer": "ipython3",
      "version": "3.9.12"
    },
    "widgets": {
      "application/vnd.jupyter.widget-state+json": {
        "02a1f19408de4d13b16a1a75da54fd7c": {
          "model_module": "@jupyter-widgets/output",
          "model_module_version": "1.0.0",
          "model_name": "OutputModel",
          "state": {
            "_dom_classes": [],
            "_model_module": "@jupyter-widgets/output",
            "_model_module_version": "1.0.0",
            "_model_name": "OutputModel",
            "_view_count": null,
            "_view_module": "@jupyter-widgets/output",
            "_view_module_version": "1.0.0",
            "_view_name": "OutputView",
            "layout": "IPY_MODEL_cbe7a09a6761486f80e938a8b4b9cbd9",
            "msg_id": "",
            "outputs": [
              {
                "data": {
                  "text/html": "<pre style=\"white-space:pre;overflow-x:auto;line-height:normal;font-family:Menlo,'DejaVu Sans Mono',consolas,'Courier New',monospace\">Generating Predictions... <span style=\"color: #729c1f; text-decoration-color: #729c1f\">━━━━━━━━━━━━━━━━━━━━━━━━━━━━━━━━━━━━━━━━</span> <span style=\"color: #800080; text-decoration-color: #800080\">100%</span> <span style=\"color: #008080; text-decoration-color: #008080\">0:00:00</span>\n</pre>\n",
                  "text/plain": "Generating Predictions... \u001b[38;2;114;156;31m━━━━━━━━━━━━━━━━━━━━━━━━━━━━━━━━━━━━━━━━\u001b[0m \u001b[35m100%\u001b[0m \u001b[36m0:00:00\u001b[0m\n"
                },
                "metadata": {},
                "output_type": "display_data"
              }
            ]
          }
        },
        "15140d38e3f942c88bdf82f519039e3c": {
          "model_module": "@jupyter-widgets/output",
          "model_module_version": "1.0.0",
          "model_name": "OutputModel",
          "state": {
            "_dom_classes": [],
            "_model_module": "@jupyter-widgets/output",
            "_model_module_version": "1.0.0",
            "_model_name": "OutputModel",
            "_view_count": null,
            "_view_module": "@jupyter-widgets/output",
            "_view_module_version": "1.0.0",
            "_view_name": "OutputView",
            "layout": "IPY_MODEL_574fd488528f4184b1fd19873d0c62f4",
            "msg_id": "",
            "outputs": [
              {
                "data": {
                  "text/html": "<pre style=\"white-space:pre;overflow-x:auto;line-height:normal;font-family:Menlo,'DejaVu Sans Mono',consolas,'Courier New',monospace\">Generating Predictions... <span style=\"color: #729c1f; text-decoration-color: #729c1f\">━━━━━━━━━━━━━━━━━━━━━━━━━━━━━━━━━━━━━━━━</span> <span style=\"color: #800080; text-decoration-color: #800080\">100%</span> <span style=\"color: #008080; text-decoration-color: #008080\">0:00:00</span>\n</pre>\n",
                  "text/plain": "Generating Predictions... \u001b[38;2;114;156;31m━━━━━━━━━━━━━━━━━━━━━━━━━━━━━━━━━━━━━━━━\u001b[0m \u001b[35m100%\u001b[0m \u001b[36m0:00:00\u001b[0m\n"
                },
                "metadata": {},
                "output_type": "display_data"
              }
            ]
          }
        },
        "1a3fdb94945944f6a9856e287713f16e": {
          "model_module": "@jupyter-widgets/output",
          "model_module_version": "1.0.0",
          "model_name": "OutputModel",
          "state": {
            "_dom_classes": [],
            "_model_module": "@jupyter-widgets/output",
            "_model_module_version": "1.0.0",
            "_model_name": "OutputModel",
            "_view_count": null,
            "_view_module": "@jupyter-widgets/output",
            "_view_module_version": "1.0.0",
            "_view_name": "OutputView",
            "layout": "IPY_MODEL_f255c1e922ad456a8089eaab0d600d75",
            "msg_id": "",
            "outputs": [
              {
                "data": {
                  "text/html": "<pre style=\"white-space:pre;overflow-x:auto;line-height:normal;font-family:Menlo,'DejaVu Sans Mono',consolas,'Courier New',monospace\">Epoch 6/29 <span style=\"color: #6206e0; text-decoration-color: #6206e0\">━━━━━━━━━━━━━━━━━━━━━━━━━━━━━━━━</span> <span style=\"color: #c0c0c0; text-decoration-color: #c0c0c0\">3126/3126</span> <span style=\"color: #8a8a8a; text-decoration-color: #8a8a8a\">0:02:56 • 0:00:00</span> <span style=\"color: #b2b2b2; text-decoration-color: #b2b2b2\">21.17it/s</span> <span style=\"color: #c0c0c0; text-decoration-color: #c0c0c0\">loss: 0.703 train_loss: 0.707    </span>\n                                                                                  <span style=\"color: #c0c0c0; text-decoration-color: #c0c0c0\">valid_loss: 0.638 valid_accuracy:</span>\n                                                                                  <span style=\"color: #c0c0c0; text-decoration-color: #c0c0c0\">0.844 train_accuracy: 0.5        </span>\n</pre>\n",
                  "text/plain": "Epoch 6/29 \u001b[38;2;98;6;224m━━━━━━━━━━━━━━━━━━━━━━━━━━━━━━━━\u001b[0m \u001b[37m3126/3126\u001b[0m \u001b[38;5;245m0:02:56 • 0:00:00\u001b[0m \u001b[38;5;249m21.17it/s\u001b[0m \u001b[37mloss: 0.703 train_loss: 0.707    \u001b[0m\n                                                                                  \u001b[37mvalid_loss: 0.638 valid_accuracy:\u001b[0m\n                                                                                  \u001b[37m0.844 train_accuracy: 0.5        \u001b[0m\n"
                },
                "metadata": {},
                "output_type": "display_data"
              }
            ]
          }
        },
        "3b5a7d1f801444a4b0f1eee908044832": {
          "model_module": "@jupyter-widgets/output",
          "model_module_version": "1.0.0",
          "model_name": "OutputModel",
          "state": {
            "_dom_classes": [],
            "_model_module": "@jupyter-widgets/output",
            "_model_module_version": "1.0.0",
            "_model_name": "OutputModel",
            "_view_count": null,
            "_view_module": "@jupyter-widgets/output",
            "_view_module_version": "1.0.0",
            "_view_name": "OutputView",
            "layout": "IPY_MODEL_e6a2844d6bcc481fae084664a675db48",
            "msg_id": "",
            "outputs": [
              {
                "data": {
                  "text/html": "<pre style=\"white-space:pre;overflow-x:auto;line-height:normal;font-family:Menlo,'DejaVu Sans Mono',consolas,'Courier New',monospace\">Generating Predictions... <span style=\"color: #729c1f; text-decoration-color: #729c1f\">━━━━━━━━━━━━━━━━━━━━━━━━━━━━━━━━━━━━━━━━</span> <span style=\"color: #800080; text-decoration-color: #800080\">100%</span> <span style=\"color: #008080; text-decoration-color: #008080\">0:00:00</span>\n</pre>\n",
                  "text/plain": "Generating Predictions... \u001b[38;2;114;156;31m━━━━━━━━━━━━━━━━━━━━━━━━━━━━━━━━━━━━━━━━\u001b[0m \u001b[35m100%\u001b[0m \u001b[36m0:00:00\u001b[0m\n"
                },
                "metadata": {},
                "output_type": "display_data"
              }
            ]
          }
        },
        "574fd488528f4184b1fd19873d0c62f4": {
          "model_module": "@jupyter-widgets/base",
          "model_module_version": "1.2.0",
          "model_name": "LayoutModel",
          "state": {
            "_model_module": "@jupyter-widgets/base",
            "_model_module_version": "1.2.0",
            "_model_name": "LayoutModel",
            "_view_count": null,
            "_view_module": "@jupyter-widgets/base",
            "_view_module_version": "1.2.0",
            "_view_name": "LayoutView",
            "align_content": null,
            "align_items": null,
            "align_self": null,
            "border": null,
            "bottom": null,
            "display": null,
            "flex": null,
            "flex_flow": null,
            "grid_area": null,
            "grid_auto_columns": null,
            "grid_auto_flow": null,
            "grid_auto_rows": null,
            "grid_column": null,
            "grid_gap": null,
            "grid_row": null,
            "grid_template_areas": null,
            "grid_template_columns": null,
            "grid_template_rows": null,
            "height": null,
            "justify_content": null,
            "justify_items": null,
            "left": null,
            "margin": null,
            "max_height": null,
            "max_width": null,
            "min_height": null,
            "min_width": null,
            "object_fit": null,
            "object_position": null,
            "order": null,
            "overflow": null,
            "overflow_x": null,
            "overflow_y": null,
            "padding": null,
            "right": null,
            "top": null,
            "visibility": null,
            "width": null
          }
        },
        "83d03426f5af4b5095e979cd0beca611": {
          "model_module": "@jupyter-widgets/base",
          "model_module_version": "1.2.0",
          "model_name": "LayoutModel",
          "state": {
            "_model_module": "@jupyter-widgets/base",
            "_model_module_version": "1.2.0",
            "_model_name": "LayoutModel",
            "_view_count": null,
            "_view_module": "@jupyter-widgets/base",
            "_view_module_version": "1.2.0",
            "_view_name": "LayoutView",
            "align_content": null,
            "align_items": null,
            "align_self": null,
            "border": null,
            "bottom": null,
            "display": null,
            "flex": null,
            "flex_flow": null,
            "grid_area": null,
            "grid_auto_columns": null,
            "grid_auto_flow": null,
            "grid_auto_rows": null,
            "grid_column": null,
            "grid_gap": null,
            "grid_row": null,
            "grid_template_areas": null,
            "grid_template_columns": null,
            "grid_template_rows": null,
            "height": null,
            "justify_content": null,
            "justify_items": null,
            "left": null,
            "margin": null,
            "max_height": null,
            "max_width": null,
            "min_height": null,
            "min_width": null,
            "object_fit": null,
            "object_position": null,
            "order": null,
            "overflow": null,
            "overflow_x": null,
            "overflow_y": null,
            "padding": null,
            "right": null,
            "top": null,
            "visibility": null,
            "width": null
          }
        },
        "8cba49e53d6e435d90bd64b898b45ed2": {
          "model_module": "@jupyter-widgets/output",
          "model_module_version": "1.0.0",
          "model_name": "OutputModel",
          "state": {
            "_dom_classes": [],
            "_model_module": "@jupyter-widgets/output",
            "_model_module_version": "1.0.0",
            "_model_name": "OutputModel",
            "_view_count": null,
            "_view_module": "@jupyter-widgets/output",
            "_view_module_version": "1.0.0",
            "_view_name": "OutputView",
            "layout": "IPY_MODEL_fe7bc17e510d4708abc87fe5c116e192",
            "msg_id": "",
            "outputs": [
              {
                "data": {
                  "text/html": "<pre style=\"white-space:pre;overflow-x:auto;line-height:normal;font-family:Menlo,'DejaVu Sans Mono',consolas,'Courier New',monospace\">Generating Predictions... <span style=\"color: #729c1f; text-decoration-color: #729c1f\">━━━━━━━━━━━━━━━━━━━━━━━━━━━━━━━━━━━━━━━━</span> <span style=\"color: #800080; text-decoration-color: #800080\">100%</span> <span style=\"color: #008080; text-decoration-color: #008080\">0:00:00</span>\n</pre>\n",
                  "text/plain": "Generating Predictions... \u001b[38;2;114;156;31m━━━━━━━━━━━━━━━━━━━━━━━━━━━━━━━━━━━━━━━━\u001b[0m \u001b[35m100%\u001b[0m \u001b[36m0:00:00\u001b[0m\n"
                },
                "metadata": {},
                "output_type": "display_data"
              }
            ]
          }
        },
        "a4acd6a299b5434d969a551a63c6da08": {
          "model_module": "@jupyter-widgets/output",
          "model_module_version": "1.0.0",
          "model_name": "OutputModel",
          "state": {
            "_dom_classes": [],
            "_model_module": "@jupyter-widgets/output",
            "_model_module_version": "1.0.0",
            "_model_name": "OutputModel",
            "_view_count": null,
            "_view_module": "@jupyter-widgets/output",
            "_view_module_version": "1.0.0",
            "_view_name": "OutputView",
            "layout": "IPY_MODEL_83d03426f5af4b5095e979cd0beca611",
            "msg_id": "",
            "outputs": [
              {
                "data": {
                  "text/html": "<pre style=\"white-space:pre;overflow-x:auto;line-height:normal;font-family:Menlo,'DejaVu Sans Mono',consolas,'Courier New',monospace\">Epoch 5/29 <span style=\"color: #6206e0; text-decoration-color: #6206e0\">━━━━━━━━━━━━━━━━━━━━━━━━━━━━━━━━━</span> <span style=\"color: #c0c0c0; text-decoration-color: #c0c0c0\">391/391</span> <span style=\"color: #8a8a8a; text-decoration-color: #8a8a8a\">0:00:37 • 0:00:00</span> <span style=\"color: #b2b2b2; text-decoration-color: #b2b2b2\">10.90it/s</span> <span style=\"color: #c0c0c0; text-decoration-color: #c0c0c0\">loss: 0.286 train_loss: 0.283     </span>\n                                                                                 <span style=\"color: #c0c0c0; text-decoration-color: #c0c0c0\">valid_loss: 0.785 valid_accuracy: </span>\n                                                                                 <span style=\"color: #c0c0c0; text-decoration-color: #c0c0c0\">0.752 train_accuracy: 0.855       </span>\n</pre>\n",
                  "text/plain": "Epoch 5/29 \u001b[38;2;98;6;224m━━━━━━━━━━━━━━━━━━━━━━━━━━━━━━━━━\u001b[0m \u001b[37m391/391\u001b[0m \u001b[38;5;245m0:00:37 • 0:00:00\u001b[0m \u001b[38;5;249m10.90it/s\u001b[0m \u001b[37mloss: 0.286 train_loss: 0.283     \u001b[0m\n                                                                                 \u001b[37mvalid_loss: 0.785 valid_accuracy: \u001b[0m\n                                                                                 \u001b[37m0.752 train_accuracy: 0.855       \u001b[0m\n"
                },
                "metadata": {},
                "output_type": "display_data"
              }
            ]
          }
        },
        "a5526ddbd7c945b3aae885ad0802fa5c": {
          "model_module": "@jupyter-widgets/output",
          "model_module_version": "1.0.0",
          "model_name": "OutputModel",
          "state": {
            "_dom_classes": [],
            "_model_module": "@jupyter-widgets/output",
            "_model_module_version": "1.0.0",
            "_model_name": "OutputModel",
            "_view_count": null,
            "_view_module": "@jupyter-widgets/output",
            "_view_module_version": "1.0.0",
            "_view_name": "OutputView",
            "layout": "IPY_MODEL_a5d5d732fa874edabd321ec56fd4dcaa",
            "msg_id": "",
            "outputs": [
              {
                "data": {
                  "text/html": "<pre style=\"white-space:pre;overflow-x:auto;line-height:normal;font-family:Menlo,'DejaVu Sans Mono',consolas,'Courier New',monospace\">Generating Predictions... <span style=\"color: #729c1f; text-decoration-color: #729c1f\">━━━━━━━━━━━━━━━━━━━━━━━━━━━━━━━━━━━━━━━━</span> <span style=\"color: #800080; text-decoration-color: #800080\">100%</span> <span style=\"color: #008080; text-decoration-color: #008080\">0:00:00</span>\n</pre>\n",
                  "text/plain": "Generating Predictions... \u001b[38;2;114;156;31m━━━━━━━━━━━━━━━━━━━━━━━━━━━━━━━━━━━━━━━━\u001b[0m \u001b[35m100%\u001b[0m \u001b[36m0:00:00\u001b[0m\n"
                },
                "metadata": {},
                "output_type": "display_data"
              }
            ]
          }
        },
        "a5d5d732fa874edabd321ec56fd4dcaa": {
          "model_module": "@jupyter-widgets/base",
          "model_module_version": "1.2.0",
          "model_name": "LayoutModel",
          "state": {
            "_model_module": "@jupyter-widgets/base",
            "_model_module_version": "1.2.0",
            "_model_name": "LayoutModel",
            "_view_count": null,
            "_view_module": "@jupyter-widgets/base",
            "_view_module_version": "1.2.0",
            "_view_name": "LayoutView",
            "align_content": null,
            "align_items": null,
            "align_self": null,
            "border": null,
            "bottom": null,
            "display": null,
            "flex": null,
            "flex_flow": null,
            "grid_area": null,
            "grid_auto_columns": null,
            "grid_auto_flow": null,
            "grid_auto_rows": null,
            "grid_column": null,
            "grid_gap": null,
            "grid_row": null,
            "grid_template_areas": null,
            "grid_template_columns": null,
            "grid_template_rows": null,
            "height": null,
            "justify_content": null,
            "justify_items": null,
            "left": null,
            "margin": null,
            "max_height": null,
            "max_width": null,
            "min_height": null,
            "min_width": null,
            "object_fit": null,
            "object_position": null,
            "order": null,
            "overflow": null,
            "overflow_x": null,
            "overflow_y": null,
            "padding": null,
            "right": null,
            "top": null,
            "visibility": null,
            "width": null
          }
        },
        "b2953edc724440c28424ac3e754d1b9d": {
          "model_module": "@jupyter-widgets/base",
          "model_module_version": "1.2.0",
          "model_name": "LayoutModel",
          "state": {
            "_model_module": "@jupyter-widgets/base",
            "_model_module_version": "1.2.0",
            "_model_name": "LayoutModel",
            "_view_count": null,
            "_view_module": "@jupyter-widgets/base",
            "_view_module_version": "1.2.0",
            "_view_name": "LayoutView",
            "align_content": null,
            "align_items": null,
            "align_self": null,
            "border": null,
            "bottom": null,
            "display": null,
            "flex": null,
            "flex_flow": null,
            "grid_area": null,
            "grid_auto_columns": null,
            "grid_auto_flow": null,
            "grid_auto_rows": null,
            "grid_column": null,
            "grid_gap": null,
            "grid_row": null,
            "grid_template_areas": null,
            "grid_template_columns": null,
            "grid_template_rows": null,
            "height": null,
            "justify_content": null,
            "justify_items": null,
            "left": null,
            "margin": null,
            "max_height": null,
            "max_width": null,
            "min_height": null,
            "min_width": null,
            "object_fit": null,
            "object_position": null,
            "order": null,
            "overflow": null,
            "overflow_x": null,
            "overflow_y": null,
            "padding": null,
            "right": null,
            "top": null,
            "visibility": null,
            "width": null
          }
        },
        "bf774528038842d99f13430cd84e4d9c": {
          "model_module": "@jupyter-widgets/base",
          "model_module_version": "1.2.0",
          "model_name": "LayoutModel",
          "state": {
            "_model_module": "@jupyter-widgets/base",
            "_model_module_version": "1.2.0",
            "_model_name": "LayoutModel",
            "_view_count": null,
            "_view_module": "@jupyter-widgets/base",
            "_view_module_version": "1.2.0",
            "_view_name": "LayoutView",
            "align_content": null,
            "align_items": null,
            "align_self": null,
            "border": null,
            "bottom": null,
            "display": null,
            "flex": null,
            "flex_flow": null,
            "grid_area": null,
            "grid_auto_columns": null,
            "grid_auto_flow": null,
            "grid_auto_rows": null,
            "grid_column": null,
            "grid_gap": null,
            "grid_row": null,
            "grid_template_areas": null,
            "grid_template_columns": null,
            "grid_template_rows": null,
            "height": null,
            "justify_content": null,
            "justify_items": null,
            "left": null,
            "margin": null,
            "max_height": null,
            "max_width": null,
            "min_height": null,
            "min_width": null,
            "object_fit": null,
            "object_position": null,
            "order": null,
            "overflow": null,
            "overflow_x": null,
            "overflow_y": null,
            "padding": null,
            "right": null,
            "top": null,
            "visibility": null,
            "width": null
          }
        },
        "cbe7a09a6761486f80e938a8b4b9cbd9": {
          "model_module": "@jupyter-widgets/base",
          "model_module_version": "1.2.0",
          "model_name": "LayoutModel",
          "state": {
            "_model_module": "@jupyter-widgets/base",
            "_model_module_version": "1.2.0",
            "_model_name": "LayoutModel",
            "_view_count": null,
            "_view_module": "@jupyter-widgets/base",
            "_view_module_version": "1.2.0",
            "_view_name": "LayoutView",
            "align_content": null,
            "align_items": null,
            "align_self": null,
            "border": null,
            "bottom": null,
            "display": null,
            "flex": null,
            "flex_flow": null,
            "grid_area": null,
            "grid_auto_columns": null,
            "grid_auto_flow": null,
            "grid_auto_rows": null,
            "grid_column": null,
            "grid_gap": null,
            "grid_row": null,
            "grid_template_areas": null,
            "grid_template_columns": null,
            "grid_template_rows": null,
            "height": null,
            "justify_content": null,
            "justify_items": null,
            "left": null,
            "margin": null,
            "max_height": null,
            "max_width": null,
            "min_height": null,
            "min_width": null,
            "object_fit": null,
            "object_position": null,
            "order": null,
            "overflow": null,
            "overflow_x": null,
            "overflow_y": null,
            "padding": null,
            "right": null,
            "top": null,
            "visibility": null,
            "width": null
          }
        },
        "e6a2844d6bcc481fae084664a675db48": {
          "model_module": "@jupyter-widgets/base",
          "model_module_version": "1.2.0",
          "model_name": "LayoutModel",
          "state": {
            "_model_module": "@jupyter-widgets/base",
            "_model_module_version": "1.2.0",
            "_model_name": "LayoutModel",
            "_view_count": null,
            "_view_module": "@jupyter-widgets/base",
            "_view_module_version": "1.2.0",
            "_view_name": "LayoutView",
            "align_content": null,
            "align_items": null,
            "align_self": null,
            "border": null,
            "bottom": null,
            "display": null,
            "flex": null,
            "flex_flow": null,
            "grid_area": null,
            "grid_auto_columns": null,
            "grid_auto_flow": null,
            "grid_auto_rows": null,
            "grid_column": null,
            "grid_gap": null,
            "grid_row": null,
            "grid_template_areas": null,
            "grid_template_columns": null,
            "grid_template_rows": null,
            "height": null,
            "justify_content": null,
            "justify_items": null,
            "left": null,
            "margin": null,
            "max_height": null,
            "max_width": null,
            "min_height": null,
            "min_width": null,
            "object_fit": null,
            "object_position": null,
            "order": null,
            "overflow": null,
            "overflow_x": null,
            "overflow_y": null,
            "padding": null,
            "right": null,
            "top": null,
            "visibility": null,
            "width": null
          }
        },
        "ef7ba87a46684d13bb2f24d0eb3ee540": {
          "model_module": "@jupyter-widgets/output",
          "model_module_version": "1.0.0",
          "model_name": "OutputModel",
          "state": {
            "_dom_classes": [],
            "_model_module": "@jupyter-widgets/output",
            "_model_module_version": "1.0.0",
            "_model_name": "OutputModel",
            "_view_count": null,
            "_view_module": "@jupyter-widgets/output",
            "_view_module_version": "1.0.0",
            "_view_name": "OutputView",
            "layout": "IPY_MODEL_b2953edc724440c28424ac3e754d1b9d",
            "msg_id": "",
            "outputs": [
              {
                "data": {
                  "text/html": "<pre style=\"white-space:pre;overflow-x:auto;line-height:normal;font-family:Menlo,'DejaVu Sans Mono',consolas,'Courier New',monospace\">Epoch 16/29 <span style=\"color: #6206e0; text-decoration-color: #6206e0\">━━━━━━━━━━━━━━━━━━━━━━━━━━━━━━━━</span> <span style=\"color: #c0c0c0; text-decoration-color: #c0c0c0\">1563/1563</span> <span style=\"color: #8a8a8a; text-decoration-color: #8a8a8a\">0:01:31 • 0:00:00</span> <span style=\"color: #b2b2b2; text-decoration-color: #b2b2b2\">18.99it/s</span> <span style=\"color: #c0c0c0; text-decoration-color: #c0c0c0\">loss: 0.693 train_loss: 0.693   </span>\n                                                                                   <span style=\"color: #c0c0c0; text-decoration-color: #c0c0c0\">valid_loss: 0.69 valid_accuracy:</span>\n                                                                                   <span style=\"color: #c0c0c0; text-decoration-color: #c0c0c0\">0.844 train_accuracy: 0.5       </span>\n</pre>\n",
                  "text/plain": "Epoch 16/29 \u001b[38;2;98;6;224m━━━━━━━━━━━━━━━━━━━━━━━━━━━━━━━━\u001b[0m \u001b[37m1563/1563\u001b[0m \u001b[38;5;245m0:01:31 • 0:00:00\u001b[0m \u001b[38;5;249m18.99it/s\u001b[0m \u001b[37mloss: 0.693 train_loss: 0.693   \u001b[0m\n                                                                                   \u001b[37mvalid_loss: 0.69 valid_accuracy:\u001b[0m\n                                                                                   \u001b[37m0.844 train_accuracy: 0.5       \u001b[0m\n"
                },
                "metadata": {},
                "output_type": "display_data"
              }
            ]
          }
        },
        "f0c4bda9c4404c92961dff9de019b4bf": {
          "model_module": "@jupyter-widgets/output",
          "model_module_version": "1.0.0",
          "model_name": "OutputModel",
          "state": {
            "_dom_classes": [],
            "_model_module": "@jupyter-widgets/output",
            "_model_module_version": "1.0.0",
            "_model_name": "OutputModel",
            "_view_count": null,
            "_view_module": "@jupyter-widgets/output",
            "_view_module_version": "1.0.0",
            "_view_name": "OutputView",
            "layout": "IPY_MODEL_bf774528038842d99f13430cd84e4d9c",
            "msg_id": "",
            "outputs": [
              {
                "data": {
                  "text/html": "<pre style=\"white-space:pre;overflow-x:auto;line-height:normal;font-family:Menlo,'DejaVu Sans Mono',consolas,'Courier New',monospace\">Generating Predictions... <span style=\"color: #729c1f; text-decoration-color: #729c1f\">━━━━━━━━━━━━━━━━━━━━━━━━━━━━━━━━━━━━━━━━</span> <span style=\"color: #800080; text-decoration-color: #800080\">100%</span> <span style=\"color: #008080; text-decoration-color: #008080\">0:00:00</span>\n</pre>\n",
                  "text/plain": "Generating Predictions... \u001b[38;2;114;156;31m━━━━━━━━━━━━━━━━━━━━━━━━━━━━━━━━━━━━━━━━\u001b[0m \u001b[35m100%\u001b[0m \u001b[36m0:00:00\u001b[0m\n"
                },
                "metadata": {},
                "output_type": "display_data"
              }
            ]
          }
        },
        "f255c1e922ad456a8089eaab0d600d75": {
          "model_module": "@jupyter-widgets/base",
          "model_module_version": "1.2.0",
          "model_name": "LayoutModel",
          "state": {
            "_model_module": "@jupyter-widgets/base",
            "_model_module_version": "1.2.0",
            "_model_name": "LayoutModel",
            "_view_count": null,
            "_view_module": "@jupyter-widgets/base",
            "_view_module_version": "1.2.0",
            "_view_name": "LayoutView",
            "align_content": null,
            "align_items": null,
            "align_self": null,
            "border": null,
            "bottom": null,
            "display": null,
            "flex": null,
            "flex_flow": null,
            "grid_area": null,
            "grid_auto_columns": null,
            "grid_auto_flow": null,
            "grid_auto_rows": null,
            "grid_column": null,
            "grid_gap": null,
            "grid_row": null,
            "grid_template_areas": null,
            "grid_template_columns": null,
            "grid_template_rows": null,
            "height": null,
            "justify_content": null,
            "justify_items": null,
            "left": null,
            "margin": null,
            "max_height": null,
            "max_width": null,
            "min_height": null,
            "min_width": null,
            "object_fit": null,
            "object_position": null,
            "order": null,
            "overflow": null,
            "overflow_x": null,
            "overflow_y": null,
            "padding": null,
            "right": null,
            "top": null,
            "visibility": null,
            "width": null
          }
        },
        "fe7bc17e510d4708abc87fe5c116e192": {
          "model_module": "@jupyter-widgets/base",
          "model_module_version": "1.2.0",
          "model_name": "LayoutModel",
          "state": {
            "_model_module": "@jupyter-widgets/base",
            "_model_module_version": "1.2.0",
            "_model_name": "LayoutModel",
            "_view_count": null,
            "_view_module": "@jupyter-widgets/base",
            "_view_module_version": "1.2.0",
            "_view_name": "LayoutView",
            "align_content": null,
            "align_items": null,
            "align_self": null,
            "border": null,
            "bottom": null,
            "display": null,
            "flex": null,
            "flex_flow": null,
            "grid_area": null,
            "grid_auto_columns": null,
            "grid_auto_flow": null,
            "grid_auto_rows": null,
            "grid_column": null,
            "grid_gap": null,
            "grid_row": null,
            "grid_template_areas": null,
            "grid_template_columns": null,
            "grid_template_rows": null,
            "height": null,
            "justify_content": null,
            "justify_items": null,
            "left": null,
            "margin": null,
            "max_height": null,
            "max_width": null,
            "min_height": null,
            "min_width": null,
            "object_fit": null,
            "object_position": null,
            "order": null,
            "overflow": null,
            "overflow_x": null,
            "overflow_y": null,
            "padding": null,
            "right": null,
            "top": null,
            "visibility": null,
            "width": null
          }
        }
      }
    }
  },
  "nbformat": 4,
  "nbformat_minor": 0
}
