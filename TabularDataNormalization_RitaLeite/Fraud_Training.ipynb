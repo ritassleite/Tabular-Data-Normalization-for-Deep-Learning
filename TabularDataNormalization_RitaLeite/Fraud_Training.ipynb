{
 "cells": [
  {
   "cell_type": "code",
   "execution_count": 1,
   "metadata": {
    "colab": {
     "base_uri": "https://localhost:8080/"
    },
    "id": "TfrRNqJQCt-X",
    "outputId": "0e316648-fe6b-4497-a97c-ae8446d00926"
   },
   "outputs": [],
   "source": [
    "#!pip install opendatasets\n",
    "#!pip install torchmetrics\n",
    "import gc\n",
    "import pandas as pd\n",
    "import numpy as np\n",
    "import sklearn as skl\n",
    "import seaborn as sns\n",
    "import lightgbm as lgb\n",
    "import torch\n",
    "import scipy\n",
    "import opendatasets as od\n",
    "import math\n",
    "import torchmetrics\n",
    "import matplotlib.pyplot as plt\n",
    "\n",
    "import importlib\n",
    "import joblib\n",
    "import utils.mlp as mlp\n",
    "import utils.lgbm as lgbm\n",
    "import utils.mlp_pipeline as mlp_pipeline\n",
    "#from google.colab import drive"
   ]
  },
  {
   "cell_type": "code",
   "execution_count": 2,
   "metadata": {},
   "outputs": [],
   "source": [
    "import pickle\n",
    "import io\n",
    "\n",
    "class CPU_Unpickler(pickle.Unpickler):\n",
    "    def find_class(self, module, name):\n",
    "        if module == 'torch.storage' and name == '_load_from_bytes':\n",
    "            return lambda b: torch.load(io.BytesIO(b), map_location='cpu')\n",
    "        else:\n",
    "            return super().find_class(module, name)\n"
   ]
  },
  {
   "cell_type": "code",
   "execution_count": 3,
   "metadata": {},
   "outputs": [],
   "source": [
    "def find_optimal_recall(fpr,tpr,threshold,rate):\n",
    "    optimal_index=np.argmin(abs(fpr-rate*np.ones(len(fpr))))\n",
    "    \n",
    "    return tpr[optimal_index]"
   ]
  },
  {
   "cell_type": "code",
   "execution_count": 4,
   "metadata": {
    "colab": {
     "base_uri": "https://localhost:8080/"
    },
    "id": "-TlAT7W1LkHo",
    "outputId": "6e524bf2-5b2d-4795-caef-853734485077"
   },
   "outputs": [
    {
     "name": "stdout",
     "output_type": "stream",
     "text": [
      "Using cpu device\n"
     ]
    }
   ],
   "source": [
    "device = \"cuda\" if torch.cuda.is_available() else \"cpu\"\n",
    "\n",
    "print(f\"Using {device} device\")"
   ]
  },
  {
   "cell_type": "code",
   "execution_count": 5,
   "metadata": {
    "colab": {
     "base_uri": "https://localhost:8080/"
    },
    "id": "ydKaZYaDD6gT",
    "outputId": "6e523fc7-990b-48f3-bd01-661cf1a67c8d"
   },
   "outputs": [],
   "source": [
    "\n",
    "data1=pd.read_csv(\"./creditcardfraud/creditcard.csv\")\n",
    "X=data1.loc[:,'V1':'Amount']\n",
    "Y=data1.Class\n",
    "\n",
    "training_range=range(0,math.floor(len(Y)*0.8)-1)\n",
    "val_range=range(math.floor(len(Y)*0.8),math.floor(len(Y)*0.9)-1)\n",
    "test_range=range(math.floor(len(Y)*0.9),len(Y)-1)\n",
    "xtrain=X.loc[training_range]\n",
    "ytrain=Y.loc[training_range]\n",
    "xval=X.loc[val_range]\n",
    "yval=Y.loc[val_range]\n",
    "xtest=X.loc[test_range]\n",
    "ytest=Y.loc[test_range]"
   ]
  },
  {
   "cell_type": "code",
   "execution_count": 6,
   "metadata": {},
   "outputs": [],
   "source": [
    "cont_cols=xtrain.columns\n",
    "cat_cols=[]\n",
    "param_list=lgbm.lgbm_param_sampler(20,7,'cpu')\n"
   ]
  },
  {
   "cell_type": "code",
   "execution_count": null,
   "metadata": {
    "colab": {
     "base_uri": "https://localhost:8080/",
     "height": 481
    },
    "id": "i989u7joEJu9",
    "outputId": "75f8af4d-5e49-42f4-c779-72f43d2a37c0"
   },
   "outputs": [],
   "source": [
    "\n",
    "param_list=lgbm.lgbm_param_sampler(20,7,'cpu')\n",
    "\n",
    "i=0\n",
    "for params in param_list:\n",
    "    model = lgb.LGBMClassifier(n_jobs=10, **params)  # Instantiate LGBM Model.\n",
    "        \n",
    "    # Fit model to training data.\n",
    "    model.fit(xtrain, ytrain, categorical_feature=cat_cols,eval_set=[(xval,yval)],early_stopping_rounds=5,eval_metric='loss')\n",
    "    # Obtain predictions in test data.\n",
    "    predictions = model.predict_proba(xtest)[:, 1]\n",
    "\n",
    "    joblib.dump(model,'lgbm_1/lgbm{}.pkl'.format(i))\n",
    "    i=i+1\n",
    "\n",
    "i=0\n"
   ]
  },
  {
   "cell_type": "code",
   "execution_count": null,
   "metadata": {},
   "outputs": [],
   "source": [
    "encoder=data.PiecewiseLinearEncoder('decision_tree',dict(n_bins=4,regression='False', tree_kwargs={'min_samples_leaf': 256}),stack=False)\n",
    "encoder.fit(torch.tensor(xtrain.values),torch.tensor(ytrain.values)) #the device count fraud feature is constant, and so cannot be fed to this encoder\n",
    "x_train=encoder.transform(torch.tensor(xtrain.values))\n",
    "x_val=encoder.transform(torch.tensor(xval.values))\n",
    "i=0\n",
    "for params in param_list:\n",
    "    model = lgb.LGBMClassifier(n_jobs=10, **params)  # Instantiate LGBM Model.\n",
    "        \n",
    "    # Fit model to training data.\n",
    "    model.fit(x_train, ytrain, categorical_feature=cat_cols,eval_set=[(x_val,yval)],early_stopping_rounds=5,eval_metric='loss')\n",
    "\n",
    "    joblib.dump(model,'lgbm_1/lgbm_numenc{}.pkl'.format(i))\n",
    "    i=i+1"
   ]
  },
  {
   "cell_type": "code",
   "execution_count": null,
   "metadata": {
    "colab": {
     "base_uri": "https://localhost:8080/"
    },
    "id": "u0PSwMnOLxZW",
    "outputId": "e9de386e-63e6-4ad9-e319-d7f83c875466"
   },
   "outputs": [],
   "source": [
    "\n",
    "# Define number of trials in Random search.\n",
    "n_trials=20\n",
    "# Random state for sampling seeds.\n",
    "np.random.seed(42)\n",
    "\n",
    "# Variable to store the results.\n",
    "param_list=mlp.mlp_param_sampler(n_trials, len(xtrain.columns),7,device)\n",
    "\n",
    "normalization_list=['None','Zscore','MinMax','Median']\n",
    "for normalization in normalization_list:\n",
    "    i=0\n",
    "    xtrain_aux=mlp_pipeline.normalization_transform(xtrain,normalization,cont_cols)\n",
    "    xval_aux=mlp_pipeline.normalization_transform(xval,normalization,cont_cols)\n",
    "\n",
    "    for params in param_list[2:]:\n",
    "\n",
    "        # Fit pipeline\n",
    "        print('iteration: ',i)\n",
    "        \n",
    "        model=mlp_pipeline.pipeline(device,xtrain_aux,xval_aux,ytrain,yval,params,'None',cont_cols)\n",
    "\n",
    "        #Save the model\n",
    "        joblib.dump(model,'fraud_mlp/mlp_simple{}{}.pkl'.format(normalization,i))\n",
    "\n",
    "        i=i+1\n",
    "    del xval_aux\n",
    "    del xtrain_aux\n",
    "    gc.collect()\n"
   ]
  },
  {
   "cell_type": "code",
   "execution_count": 8,
   "metadata": {
    "colab": {
     "base_uri": "https://localhost:8080/"
    },
    "id": "f6DFNJrH4qP5",
    "outputId": "6bf7a798-af49-4928-a18d-1a0e7e34a05b"
   },
   "outputs": [
    {
     "name": "stdout",
     "output_type": "stream",
     "text": [
      "0.9690620627527649\n",
      "0.8181818181818182\n"
     ]
    }
   ],
   "source": [
    "max_auc=-1000\n",
    "for i in range(0,50):\n",
    "    link=\"lgbm_1/lgbm{}.pkl\".format(i)\n",
    "    file = open(link,'rb')\n",
    "    model=joblib.load(link)\n",
    "    predict=model.predict_proba(xval)[:,1]\n",
    "    auc=skl.metrics.roc_auc_score(yval,predict)\n",
    "    if max_auc<auc:\n",
    "        max_auc=auc\n",
    "        best_model=model\n",
    "        \n",
    "predict=model.predict_proba(xtest)[:,1]\n",
    "auc=skl.metrics.roc_auc_score(ytest,predict)\n",
    "print(auc)\n",
    "roc=skl.metrics.roc_curve(ytest,predict,drop_intermediate=False)\n",
    "recall_lgb=find_optimal_recall(roc[0],roc[1],roc[2],0.05)\n",
    "print(recall_lgb)"
   ]
  },
  {
   "cell_type": "code",
   "execution_count": 59,
   "metadata": {},
   "outputs": [
    {
     "name": "stdout",
     "output_type": "stream",
     "text": [
      "0.8465593633999706\n",
      "0.7272727272727273\n"
     ]
    }
   ],
   "source": [
    "x_test=encoder.transform(torch.tensor(xtest.values))\n",
    "\n",
    "max_auc=-1000\n",
    "for i in range(0,20):\n",
    "    link=\"lgbm_1/lgbm_numenc{}.pkl\".format(i)\n",
    "    file = open(link,'rb')\n",
    "    model=joblib.load(link)\n",
    "    predict=model.predict_proba(x_val)[:,1]\n",
    "    auc=skl.metrics.roc_auc_score(yval,predict)\n",
    "    if max_auc<auc:\n",
    "        max_auc=auc\n",
    "        best_model=model\n",
    "        \n",
    "predict=model.predict_proba(x_test)[:,1]\n",
    "auc=skl.metrics.roc_auc_score(ytest,predict)\n",
    "print(auc)\n",
    "roc=skl.metrics.roc_curve(ytest,predict,drop_intermediate=False)\n",
    "recall_lgb=find_optimal_recall(roc[0],roc[1],roc[2],0.05)\n",
    "print(recall_lgb)"
   ]
  },
  {
   "cell_type": "code",
   "execution_count": 38,
   "metadata": {
    "colab": {
     "base_uri": "https://localhost:8080/",
     "height": 785
    },
    "id": "vNy7EEpZ_fDT",
    "outputId": "6ea9ff87-9a04-4d5a-d6e6-c9168b0f2af5",
    "scrolled": true
   },
   "outputs": [],
   "source": [
    "\n",
    "max_auc_none=-1000\n",
    "xtest_device=torch.tensor(xval.values).to(device)\n",
    "for i in range(0,18):\n",
    "    link=\"fraud_mlp/mlp_simpleNone{}.pkl\".format(i)\n",
    "    file = open(link,'rb')\n",
    "    model = CPU_Unpickler(file).load()\n",
    "    model.eval()\n",
    "    output = model(mlp_pipeline.normalization_transform(xval,'None',xval.columns).float()).detach().numpy() \n",
    "    auc=skl.metrics.roc_auc_score(yval,output)\n",
    "    if max_auc_none<auc:\n",
    "        max_auc_none=auc\n",
    "        best_model_none=model\n",
    "\n",
    "max_auc_zscore=-1000\n",
    "for i in range(0,18):\n",
    "    link=\"fraud_mlp/mlp_simpleZscore{}.pkl\".format(i)\n",
    "    file = open(link,'rb')\n",
    "    model.eval()\n",
    "    model = CPU_Unpickler(file).load()\n",
    "    predict = model(mlp_pipeline.normalization_transform(xval,'Zscore',xval.columns).float()).detach().numpy() \n",
    "    auc=skl.metrics.roc_auc_score(yval,predict)\n",
    "    if max_auc_zscore<auc:\n",
    "        max_auc_zscore=auc\n",
    "        best_model_zscore=model\n",
    "\n",
    "        \n",
    "max_auc_med=-1000\n",
    "for i in range(0,18):\n",
    "    link=\"fraud_mlp/mlp_simpleMedian{}.pkl\".format(i)\n",
    "    file = open(link,'rb')\n",
    "    model = CPU_Unpickler(file).load()\n",
    "    model.eval()\n",
    "    predict = model(mlp_pipeline.normalization_transform(xval,'Median',xval.columns).float()).detach().numpy()\n",
    "    auc=skl.metrics.roc_auc_score(yval,predict)\n",
    "    if max_auc_med<auc:\n",
    "        max_auc_med=auc\n",
    "        best_model_med=model\n",
    "    #print(auc)\n",
    "max_auc_minmax=-1000\n",
    "for i in range(0,18):\n",
    "    link=\"fraud_mlp/mlp_simpleMinMax{}.pkl\".format(i)\n",
    "    file = open(link,'rb')\n",
    "    model = CPU_Unpickler(file).load()\n",
    "    model.eval()\n",
    "    predict = model(mlp_pipeline.normalization_transform(xval,'MinMax',xval.columns).float()).detach().numpy()\n",
    "    auc=skl.metrics.roc_auc_score(yval,predict)\n",
    "    if max_auc_minmax<auc:\n",
    "        max_auc_minmax=auc\n",
    "        best_model_minmax=model"
   ]
  },
  {
   "cell_type": "code",
   "execution_count": 42,
   "metadata": {
    "colab": {
     "base_uri": "https://localhost:8080/"
    },
    "id": "IFx-RS9OBOeH",
    "outputId": "bca27957-353b-42b0-bdde-a9f86278ebd9"
   },
   "outputs": [
    {
     "data": {
      "image/png": "[encoded data removed]",
      "text/plain": [
       "<Figure size 432x288 with 1 Axes>"
      ]
     },
     "metadata": {
      "needs_background": "light"
     },
     "output_type": "display_data"
    },
    {
     "name": "stdout",
     "output_type": "stream",
     "text": [
      "Recall ate FPR=5%\n",
      "No Norm. 0.81818\n",
      "Zscore 0.86364\n",
      "Median 0.81818\n",
      "MinMax 0.86364\n"
     ]
    }
   ],
   "source": [
    "best_model_none.eval()\n",
    "best_model_zscore.eval()\n",
    "\n",
    "best_model_med.eval()\n",
    "\n",
    "roc_none=skl.metrics.roc_curve(ytest,best_model_none(mlp_pipeline.normalization_transform(xtest,'None',xtest.columns).float()).detach().numpy(),drop_intermediate=False)\n",
    "roc_zscore=skl.metrics.roc_curve(ytest,best_model_zscore(mlp_pipeline.normalization_transform(xtest,'Zscore',xtest.columns).float()).detach().numpy(),drop_intermediate=False)\n",
    "roc_med=skl.metrics.roc_curve(ytest,best_model_med(mlp_pipeline.normalization_transform(xtest,'Median',xtest.columns).float()).detach().numpy(),drop_intermediate=False)\n",
    "roc_minmax=skl.metrics.roc_curve(ytest,best_model_minmax(mlp_pipeline.normalization_transform(xtest,'MinMax',xtest.columns).float()).detach().numpy(),drop_intermediate=False)\n",
    "\n",
    "\n",
    "plt.plot(roc_med[0],roc_med[1],label=\"Median: {}\".format(round(skl.metrics.roc_auc_score(ytest,best_model_med(mlp_pipeline.normalization_transform(xtest,'Median',xtest.columns).float()).detach().numpy()),5)))\n",
    "plt.plot(roc_zscore[0],roc_zscore[1],label=\"Zscore: {}\".format(round(skl.metrics.roc_auc_score(ytest,best_model_zscore(mlp_pipeline.normalization_transform(xtest,'Zscore',xtest.columns).float()).detach().numpy()),5)))\n",
    "plt.plot(roc_none[0],roc_none[1],label=\"No Norm.: {}\".format(round(skl.metrics.roc_auc_score(ytest,best_model_none(mlp_pipeline.normalization_transform(xtest,'None',xtest.columns).float()).detach().numpy()),5)))\n",
    "plt.plot(roc_none[0],roc_none[1],label=\"MinMax: {}\".format(round(skl.metrics.roc_auc_score(ytest,best_model_minmax(mlp_pipeline.normalization_transform(xtest,'MinMax',xtest.columns).float()).detach().numpy()),5)))\n",
    "\n",
    "\n",
    "plt.legend(loc=\"lower right\")\n",
    "plt.show()\n",
    "\n",
    "\n",
    "recall_none=find_optimal_recall(roc_none[0],roc_none[1],roc_none[2],0.05)\n",
    "recall_zscore=find_optimal_recall(roc_zscore[0],roc_zscore[1],roc_zscore[2],0.05)\n",
    "recall_med=find_optimal_recall(roc_med[0],roc_med[1],roc_med[2],0.05)\n",
    "recall_minmax=find_optimal_recall(roc_minmax[0],roc_minmax[1],roc_minmax[2],0.05)\n",
    "\n",
    "print(\"Recall ate FPR=5%\")\n",
    "print(\"No Norm.\",round(recall_none,5))\n",
    "print(\"Zscore\",round(recall_zscore,5))\n",
    "print(\"Median\",round(recall_med,5))\n",
    "print(\"MinMax\",round(recall_minmax,5))\n"
   ]
  },
  {
   "cell_type": "markdown",
   "metadata": {},
   "source": [
    "# Numerical Encodings"
   ]
  },
  {
   "cell_type": "code",
   "execution_count": 7,
   "metadata": {},
   "outputs": [],
   "source": [
    "import rtdl.rtdl.data as data\n",
    "import mlp_pipeline"
   ]
  },
  {
   "cell_type": "code",
   "execution_count": 8,
   "metadata": {
    "scrolled": true
   },
   "outputs": [
    {
     "name": "stdout",
     "output_type": "stream",
     "text": [
      "----------Method:  None -------------\n",
      "Train size:  227844 ; Number of 0:  227427 ; Number of 1: 417\n",
      "Val size:  28480 ; Number of 0:  28427 ; Number of 1: 53\n",
      "EarlyStopping counter: 1 out of 5\n",
      "EarlyStopping counter: 1 out of 5\n",
      "EarlyStopping counter: 2 out of 5\n",
      "EarlyStopping counter: 3 out of 5\n",
      "EarlyStopping counter: 4 out of 5\n",
      "EarlyStopping counter: 5 out of 5\n",
      "Early stopping\n",
      "----------Method:  None -------------\n",
      "Train size:  227844 ; Number of 0:  227427 ; Number of 1: 417\n",
      "Val size:  28480 ; Number of 0:  28427 ; Number of 1: 53\n",
      "EarlyStopping counter: 1 out of 5\n",
      "EarlyStopping counter: 1 out of 5\n",
      "EarlyStopping counter: 2 out of 5\n",
      "EarlyStopping counter: 3 out of 5\n",
      "EarlyStopping counter: 4 out of 5\n",
      "EarlyStopping counter: 5 out of 5\n",
      "Early stopping\n",
      "----------Method:  None -------------\n",
      "Train size:  227844 ; Number of 0:  227427 ; Number of 1: 417\n",
      "Val size:  28480 ; Number of 0:  28427 ; Number of 1: 53\n",
      "EarlyStopping counter: 1 out of 5\n",
      "EarlyStopping counter: 2 out of 5\n",
      "EarlyStopping counter: 3 out of 5\n",
      "EarlyStopping counter: 4 out of 5\n",
      "EarlyStopping counter: 1 out of 5\n",
      "EarlyStopping counter: 1 out of 5\n",
      "EarlyStopping counter: 2 out of 5\n",
      "EarlyStopping counter: 3 out of 5\n",
      "EarlyStopping counter: 4 out of 5\n",
      "EarlyStopping counter: 5 out of 5\n",
      "Early stopping\n",
      "----------Method:  None -------------\n",
      "Train size:  227844 ; Number of 0:  227427 ; Number of 1: 417\n",
      "Val size:  28480 ; Number of 0:  28427 ; Number of 1: 53\n",
      "EarlyStopping counter: 1 out of 5\n",
      "EarlyStopping counter: 1 out of 5\n",
      "EarlyStopping counter: 2 out of 5\n",
      "EarlyStopping counter: 3 out of 5\n",
      "EarlyStopping counter: 4 out of 5\n",
      "EarlyStopping counter: 5 out of 5\n",
      "Early stopping\n",
      "----------Method:  None -------------\n",
      "Train size:  227844 ; Number of 0:  227427 ; Number of 1: 417\n",
      "Val size:  28480 ; Number of 0:  28427 ; Number of 1: 53\n",
      "EarlyStopping counter: 1 out of 5\n",
      "EarlyStopping counter: 2 out of 5\n",
      "EarlyStopping counter: 3 out of 5\n",
      "EarlyStopping counter: 4 out of 5\n",
      "EarlyStopping counter: 5 out of 5\n",
      "Early stopping\n",
      "----------Method:  None -------------\n",
      "Train size:  227844 ; Number of 0:  227427 ; Number of 1: 417\n",
      "Val size:  28480 ; Number of 0:  28427 ; Number of 1: 53\n",
      "EarlyStopping counter: 1 out of 5\n",
      "EarlyStopping counter: 1 out of 5\n",
      "EarlyStopping counter: 2 out of 5\n",
      "EarlyStopping counter: 3 out of 5\n",
      "EarlyStopping counter: 4 out of 5\n",
      "EarlyStopping counter: 5 out of 5\n",
      "Early stopping\n",
      "----------Method:  None -------------\n",
      "Train size:  227844 ; Number of 0:  227427 ; Number of 1: 417\n",
      "Val size:  28480 ; Number of 0:  28427 ; Number of 1: 53\n",
      "EarlyStopping counter: 1 out of 5\n",
      "EarlyStopping counter: 2 out of 5\n",
      "EarlyStopping counter: 3 out of 5\n",
      "EarlyStopping counter: 4 out of 5\n",
      "EarlyStopping counter: 1 out of 5\n",
      "EarlyStopping counter: 1 out of 5\n",
      "EarlyStopping counter: 2 out of 5\n",
      "EarlyStopping counter: 3 out of 5\n",
      "EarlyStopping counter: 4 out of 5\n",
      "EarlyStopping counter: 5 out of 5\n",
      "Early stopping\n",
      "----------Method:  None -------------\n",
      "Train size:  227844 ; Number of 0:  227427 ; Number of 1: 417\n",
      "Val size:  28480 ; Number of 0:  28427 ; Number of 1: 53\n",
      "EarlyStopping counter: 1 out of 5\n",
      "EarlyStopping counter: 2 out of 5\n",
      "EarlyStopping counter: 3 out of 5\n",
      "EarlyStopping counter: 1 out of 5\n",
      "EarlyStopping counter: 2 out of 5\n",
      "EarlyStopping counter: 3 out of 5\n",
      "EarlyStopping counter: 4 out of 5\n",
      "EarlyStopping counter: 5 out of 5\n",
      "Early stopping\n",
      "----------Method:  None -------------\n",
      "Train size:  227844 ; Number of 0:  227427 ; Number of 1: 417\n",
      "Val size:  28480 ; Number of 0:  28427 ; Number of 1: 53\n",
      "EarlyStopping counter: 1 out of 5\n",
      "EarlyStopping counter: 1 out of 5\n",
      "EarlyStopping counter: 2 out of 5\n",
      "EarlyStopping counter: 3 out of 5\n",
      "EarlyStopping counter: 4 out of 5\n",
      "EarlyStopping counter: 1 out of 5\n",
      "EarlyStopping counter: 2 out of 5\n",
      "EarlyStopping counter: 3 out of 5\n",
      "EarlyStopping counter: 1 out of 5\n",
      "EarlyStopping counter: 2 out of 5\n",
      "EarlyStopping counter: 3 out of 5\n",
      "EarlyStopping counter: 4 out of 5\n",
      "EarlyStopping counter: 1 out of 5\n",
      "EarlyStopping counter: 2 out of 5\n",
      "EarlyStopping counter: 3 out of 5\n",
      "EarlyStopping counter: 4 out of 5\n",
      "EarlyStopping counter: 5 out of 5\n",
      "Early stopping\n",
      "----------Method:  None -------------\n",
      "Train size:  227844 ; Number of 0:  227427 ; Number of 1: 417\n",
      "Val size:  28480 ; Number of 0:  28427 ; Number of 1: 53\n",
      "EarlyStopping counter: 1 out of 5\n",
      "EarlyStopping counter: 1 out of 5\n",
      "EarlyStopping counter: 2 out of 5\n",
      "----------Method:  None -------------\n",
      "Train size:  227844 ; Number of 0:  227427 ; Number of 1: 417\n",
      "Val size:  28480 ; Number of 0:  28427 ; Number of 1: 53\n",
      "EarlyStopping counter: 1 out of 5\n",
      "EarlyStopping counter: 2 out of 5\n",
      "EarlyStopping counter: 1 out of 5\n",
      "EarlyStopping counter: 1 out of 5\n",
      "EarlyStopping counter: 2 out of 5\n",
      "EarlyStopping counter: 3 out of 5\n",
      "EarlyStopping counter: 4 out of 5\n",
      "EarlyStopping counter: 1 out of 5\n",
      "EarlyStopping counter: 2 out of 5\n",
      "EarlyStopping counter: 3 out of 5\n",
      "EarlyStopping counter: 4 out of 5\n",
      "EarlyStopping counter: 5 out of 5\n",
      "Early stopping\n",
      "----------Method:  None -------------\n",
      "Train size:  227844 ; Number of 0:  227427 ; Number of 1: 417\n",
      "Val size:  28480 ; Number of 0:  28427 ; Number of 1: 53\n",
      "EarlyStopping counter: 1 out of 5\n",
      "EarlyStopping counter: 2 out of 5\n",
      "EarlyStopping counter: 1 out of 5\n",
      "EarlyStopping counter: 2 out of 5\n",
      "EarlyStopping counter: 3 out of 5\n",
      "EarlyStopping counter: 4 out of 5\n",
      "EarlyStopping counter: 5 out of 5\n",
      "Early stopping\n",
      "----------Method:  None -------------\n",
      "Train size:  227844 ; Number of 0:  227427 ; Number of 1: 417\n",
      "Val size:  28480 ; Number of 0:  28427 ; Number of 1: 53\n",
      "EarlyStopping counter: 1 out of 5\n",
      "EarlyStopping counter: 2 out of 5\n",
      "EarlyStopping counter: 3 out of 5\n",
      "EarlyStopping counter: 4 out of 5\n",
      "EarlyStopping counter: 1 out of 5\n",
      "EarlyStopping counter: 2 out of 5\n",
      "EarlyStopping counter: 1 out of 5\n",
      "EarlyStopping counter: 2 out of 5\n",
      "EarlyStopping counter: 3 out of 5\n",
      "EarlyStopping counter: 1 out of 5\n",
      "EarlyStopping counter: 2 out of 5\n",
      "EarlyStopping counter: 1 out of 5\n",
      "EarlyStopping counter: 2 out of 5\n",
      "EarlyStopping counter: 3 out of 5\n",
      "EarlyStopping counter: 4 out of 5\n",
      "EarlyStopping counter: 5 out of 5\n",
      "Early stopping\n",
      "----------Method:  None -------------\n",
      "Train size:  227844 ; Number of 0:  227427 ; Number of 1: 417\n",
      "Val size:  28480 ; Number of 0:  28427 ; Number of 1: 53\n",
      "EarlyStopping counter: 1 out of 5\n",
      "EarlyStopping counter: 1 out of 5\n",
      "EarlyStopping counter: 2 out of 5\n",
      "EarlyStopping counter: 3 out of 5\n",
      "EarlyStopping counter: 4 out of 5\n",
      "EarlyStopping counter: 5 out of 5\n",
      "Early stopping\n",
      "----------Method:  None -------------\n",
      "Train size:  227844 ; Number of 0:  227427 ; Number of 1: 417\n",
      "Val size:  28480 ; Number of 0:  28427 ; Number of 1: 53\n",
      "EarlyStopping counter: 1 out of 5\n",
      "EarlyStopping counter: 1 out of 5\n",
      "EarlyStopping counter: 2 out of 5\n",
      "EarlyStopping counter: 1 out of 5\n",
      "EarlyStopping counter: 2 out of 5\n",
      "EarlyStopping counter: 3 out of 5\n",
      "EarlyStopping counter: 4 out of 5\n",
      "EarlyStopping counter: 5 out of 5\n",
      "Early stopping\n",
      "----------Method:  None -------------\n",
      "Train size:  227844 ; Number of 0:  227427 ; Number of 1: 417\n",
      "Val size:  28480 ; Number of 0:  28427 ; Number of 1: 53\n",
      "EarlyStopping counter: 1 out of 5\n",
      "EarlyStopping counter: 2 out of 5\n",
      "EarlyStopping counter: 3 out of 5\n",
      "EarlyStopping counter: 4 out of 5\n",
      "EarlyStopping counter: 5 out of 5\n",
      "Early stopping\n",
      "----------Method:  None -------------\n",
      "Train size:  227844 ; Number of 0:  227427 ; Number of 1: 417\n",
      "Val size:  28480 ; Number of 0:  28427 ; Number of 1: 53\n",
      "EarlyStopping counter: 1 out of 5\n",
      "EarlyStopping counter: 2 out of 5\n",
      "EarlyStopping counter: 3 out of 5\n",
      "EarlyStopping counter: 4 out of 5\n",
      "EarlyStopping counter: 1 out of 5\n",
      "EarlyStopping counter: 2 out of 5\n",
      "EarlyStopping counter: 3 out of 5\n",
      "EarlyStopping counter: 4 out of 5\n",
      "EarlyStopping counter: 1 out of 5\n",
      "EarlyStopping counter: 2 out of 5\n",
      "EarlyStopping counter: 3 out of 5\n",
      "EarlyStopping counter: 4 out of 5\n",
      "EarlyStopping counter: 5 out of 5\n",
      "Early stopping\n",
      "----------Method:  None -------------\n",
      "Train size:  227844 ; Number of 0:  227427 ; Number of 1: 417\n",
      "Val size:  28480 ; Number of 0:  28427 ; Number of 1: 53\n",
      "EarlyStopping counter: 1 out of 5\n",
      "EarlyStopping counter: 1 out of 5\n",
      "EarlyStopping counter: 1 out of 5\n",
      "EarlyStopping counter: 1 out of 5\n",
      "EarlyStopping counter: 1 out of 5\n",
      "EarlyStopping counter: 2 out of 5\n",
      "EarlyStopping counter: 3 out of 5\n"
     ]
    },
    {
     "name": "stdout",
     "output_type": "stream",
     "text": [
      "EarlyStopping counter: 4 out of 5\n",
      "EarlyStopping counter: 5 out of 5\n",
      "Early stopping\n",
      "----------Method:  None -------------\n",
      "Train size:  227844 ; Number of 0:  227427 ; Number of 1: 417\n",
      "Val size:  28480 ; Number of 0:  28427 ; Number of 1: 53\n",
      "EarlyStopping counter: 1 out of 5\n",
      "EarlyStopping counter: 2 out of 5\n",
      "EarlyStopping counter: 3 out of 5\n",
      "EarlyStopping counter: 4 out of 5\n",
      "EarlyStopping counter: 5 out of 5\n",
      "Early stopping\n",
      "----------Method:  None -------------\n",
      "Train size:  227844 ; Number of 0:  227427 ; Number of 1: 417\n",
      "Val size:  28480 ; Number of 0:  28427 ; Number of 1: 53\n",
      "EarlyStopping counter: 1 out of 5\n",
      "EarlyStopping counter: 2 out of 5\n",
      "EarlyStopping counter: 1 out of 5\n",
      "EarlyStopping counter: 1 out of 5\n",
      "EarlyStopping counter: 2 out of 5\n",
      "EarlyStopping counter: 3 out of 5\n",
      "EarlyStopping counter: 4 out of 5\n",
      "EarlyStopping counter: 5 out of 5\n",
      "Early stopping\n"
     ]
    }
   ],
   "source": [
    "#For the categorical data, we will be using the Catboost Encoder, which has been shown to work the best for this dataset\n",
    "mlp_params=mlp.mlp_param_sampler(20, len(xtrain.columns),7,device)\n",
    "\n",
    "encoder=data.PiecewiseLinearEncoder('decision_tree',dict(n_bins=4,regression='False', tree_kwargs={'min_samples_leaf': 256}),stack=False)\n",
    "encoder.fit(torch.tensor(xtrain.values),torch.tensor(ytrain.values)) #the device count fraud feature is constant, and so cannot be fed to this encoder\n",
    "joblib.dump(encoder, \"fraud_mlp/numerical_encoder.pkl\")\n",
    "x_train=encoder.transform(torch.tensor(xtrain.values))\n",
    "x_val=encoder.transform(torch.tensor(xval.values))\n",
    "i=0\n",
    "for param in mlp_params:\n",
    "    \n",
    "        \n",
    "    model=mlp_pipeline.pipeline(device,x_train,x_val,ytrain,yval,param,'None',xtrain.columns.difference(['device_fraud_count']))\n",
    "    joblib.dump(model,\"fraud_mlp/mlp1_encoded{}_dim{}.pkl\".format(i,4) )\n",
    "    i=i+1\n",
    "\n",
    "    gc.collect()\n"
   ]
  },
  {
   "cell_type": "code",
   "execution_count": 36,
   "metadata": {},
   "outputs": [
    {
     "data": {
      "text/plain": [
       "['fraud_mlp/numerical_encoder.pkl']"
      ]
     },
     "execution_count": 36,
     "metadata": {},
     "output_type": "execute_result"
    }
   ],
   "source": [
    "joblib.dump(encoder,'fraud_mlp/numerical_encoder.pkl')"
   ]
  },
  {
   "cell_type": "code",
   "execution_count": 9,
   "metadata": {},
   "outputs": [
    {
     "name": "stdout",
     "output_type": "stream",
     "text": [
      "Dim  4 ----- 0.97812 & 0.909091\n"
     ]
    }
   ],
   "source": [
    "max_auc_none=0\n",
    "res=np.zeros([7,30])\n",
    "best_models=[]\n",
    "max_auc=0\n",
    "\n",
    "for i in range(0,20):\n",
    "    x_val=encoder.transform(torch.tensor(xval.values))\n",
    "\n",
    "    model=joblib.load(\"fraud_mlp/mlp1_encoded{}_dim4.pkl\".format(i))\n",
    "    model.eval()\n",
    "    \n",
    "    output = model(x_val.float()).detach().numpy() \n",
    "    auc=skl.metrics.roc_auc_score(yval,output)\n",
    "    if auc>max_auc:\n",
    "        best_model=model\n",
    "        max_auc=auc\n",
    "            \n",
    "    \n",
    "#Results for test set:\n",
    "j=0\n",
    "\n",
    "\n",
    "x_test=encoder.transform(torch.tensor(xtest.values))\n",
    "best_model.eval()\n",
    "output=best_model(x_test.float()).detach().numpy() \n",
    "auc=skl.metrics.roc_auc_score(ytest,output)\n",
    "roc=skl.metrics.roc_curve(ytest,output,drop_intermediate=False)\n",
    "recall=find_optimal_recall(roc[0],roc[1],roc[2],0.05)\n",
    "    \n",
    "print(\"Dim \",4,\"-----\",round(auc,5),\"&\",round(recall,6))\n",
    "j=j+1"
   ]
  },
  {
   "cell_type": "code",
   "execution_count": null,
   "metadata": {},
   "outputs": [],
   "source": []
  }
 ],
 "metadata": {
  "accelerator": "GPU",
  "colab": {
   "provenance": []
  },
  "gpuClass": "standard",
  "kernelspec": {
   "display_name": "Python 3 (ipykernel)",
   "language": "python",
   "name": "python3"
  },
  "language_info": {
   "codemirror_mode": {
    "name": "ipython",
    "version": 3
   },
   "file_extension": ".py",
   "mimetype": "text/x-python",
   "name": "python",
   "nbconvert_exporter": "python",
   "pygments_lexer": "ipython3",
   "version": "3.9.12"
  }
 },
 "nbformat": 4,
 "nbformat_minor": 1
}
